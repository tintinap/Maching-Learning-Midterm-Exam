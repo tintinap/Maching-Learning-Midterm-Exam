{
 "cells": [
  {
   "cell_type": "code",
   "execution_count": 1,
   "id": "western-girlfriend",
   "metadata": {},
   "outputs": [],
   "source": [
    "import pandas as pd\n",
    "import numpy as np\n",
    "\n",
    "import matplotlib.pyplot as plt\n",
    "import seaborn as sns\n",
    "%matplotlib inline\n",
    "pd.set_option('display.max_columns', 500)"
   ]
  },
  {
   "cell_type": "code",
   "execution_count": 4,
   "id": "hairy-championship",
   "metadata": {},
   "outputs": [],
   "source": [
    "filename = 'cleaned_fraudTrain.csv'"
   ]
  },
  {
   "cell_type": "code",
   "execution_count": 10,
   "id": "improving-accountability",
   "metadata": {},
   "outputs": [
    {
     "name": "stdout",
     "output_type": "stream",
     "text": [
      "(1296675, 14)\n"
     ]
    },
    {
     "data": {
      "text/html": [
       "<div>\n",
       "<style scoped>\n",
       "    .dataframe tbody tr th:only-of-type {\n",
       "        vertical-align: middle;\n",
       "    }\n",
       "\n",
       "    .dataframe tbody tr th {\n",
       "        vertical-align: top;\n",
       "    }\n",
       "\n",
       "    .dataframe thead th {\n",
       "        text-align: right;\n",
       "    }\n",
       "</style>\n",
       "<table border=\"1\" class=\"dataframe\">\n",
       "  <thead>\n",
       "    <tr style=\"text-align: right;\">\n",
       "      <th></th>\n",
       "      <th>category</th>\n",
       "      <th>amt</th>\n",
       "      <th>is_male</th>\n",
       "      <th>lat</th>\n",
       "      <th>long</th>\n",
       "      <th>city_pop</th>\n",
       "      <th>job</th>\n",
       "      <th>unix_time</th>\n",
       "      <th>is_fraud</th>\n",
       "      <th>state_city</th>\n",
       "      <th>age</th>\n",
       "      <th>trans_time</th>\n",
       "      <th>tran_year</th>\n",
       "      <th>tran_month</th>\n",
       "    </tr>\n",
       "  </thead>\n",
       "  <tbody>\n",
       "    <tr>\n",
       "      <th>0</th>\n",
       "      <td>misc_net</td>\n",
       "      <td>4.97</td>\n",
       "      <td>0</td>\n",
       "      <td>36.0788</td>\n",
       "      <td>-81.1781</td>\n",
       "      <td>3495</td>\n",
       "      <td>Psychologist, counselling</td>\n",
       "      <td>1325376018</td>\n",
       "      <td>0</td>\n",
       "      <td>28654, Moravian Falls, NC</td>\n",
       "      <td>31</td>\n",
       "      <td>Late Night</td>\n",
       "      <td>2019</td>\n",
       "      <td>1</td>\n",
       "    </tr>\n",
       "    <tr>\n",
       "      <th>1</th>\n",
       "      <td>grocery_pos</td>\n",
       "      <td>107.23</td>\n",
       "      <td>0</td>\n",
       "      <td>48.8878</td>\n",
       "      <td>-118.2105</td>\n",
       "      <td>149</td>\n",
       "      <td>Special educational needs teacher</td>\n",
       "      <td>1325376044</td>\n",
       "      <td>0</td>\n",
       "      <td>99160, Orient, WA</td>\n",
       "      <td>41</td>\n",
       "      <td>Late Night</td>\n",
       "      <td>2019</td>\n",
       "      <td>1</td>\n",
       "    </tr>\n",
       "    <tr>\n",
       "      <th>2</th>\n",
       "      <td>entertainment</td>\n",
       "      <td>220.11</td>\n",
       "      <td>1</td>\n",
       "      <td>42.1808</td>\n",
       "      <td>-112.2620</td>\n",
       "      <td>4154</td>\n",
       "      <td>Nature conservation officer</td>\n",
       "      <td>1325376051</td>\n",
       "      <td>0</td>\n",
       "      <td>83252, Malad City, ID</td>\n",
       "      <td>57</td>\n",
       "      <td>Late Night</td>\n",
       "      <td>2019</td>\n",
       "      <td>1</td>\n",
       "    </tr>\n",
       "    <tr>\n",
       "      <th>3</th>\n",
       "      <td>gas_transport</td>\n",
       "      <td>45.00</td>\n",
       "      <td>1</td>\n",
       "      <td>46.2306</td>\n",
       "      <td>-112.1138</td>\n",
       "      <td>1939</td>\n",
       "      <td>Patent attorney</td>\n",
       "      <td>1325376076</td>\n",
       "      <td>0</td>\n",
       "      <td>59632, Boulder, MT</td>\n",
       "      <td>52</td>\n",
       "      <td>Late Night</td>\n",
       "      <td>2019</td>\n",
       "      <td>1</td>\n",
       "    </tr>\n",
       "    <tr>\n",
       "      <th>4</th>\n",
       "      <td>misc_pos</td>\n",
       "      <td>41.96</td>\n",
       "      <td>1</td>\n",
       "      <td>38.4207</td>\n",
       "      <td>-79.4629</td>\n",
       "      <td>99</td>\n",
       "      <td>Dance movement psychotherapist</td>\n",
       "      <td>1325376186</td>\n",
       "      <td>0</td>\n",
       "      <td>24433, Doe Hill, VA</td>\n",
       "      <td>33</td>\n",
       "      <td>Late Night</td>\n",
       "      <td>2019</td>\n",
       "      <td>1</td>\n",
       "    </tr>\n",
       "  </tbody>\n",
       "</table>\n",
       "</div>"
      ],
      "text/plain": [
       "        category     amt  is_male      lat      long  city_pop  \\\n",
       "0       misc_net    4.97        0  36.0788  -81.1781      3495   \n",
       "1    grocery_pos  107.23        0  48.8878 -118.2105       149   \n",
       "2  entertainment  220.11        1  42.1808 -112.2620      4154   \n",
       "3  gas_transport   45.00        1  46.2306 -112.1138      1939   \n",
       "4       misc_pos   41.96        1  38.4207  -79.4629        99   \n",
       "\n",
       "                                 job   unix_time  is_fraud  \\\n",
       "0          Psychologist, counselling  1325376018         0   \n",
       "1  Special educational needs teacher  1325376044         0   \n",
       "2        Nature conservation officer  1325376051         0   \n",
       "3                    Patent attorney  1325376076         0   \n",
       "4     Dance movement psychotherapist  1325376186         0   \n",
       "\n",
       "                  state_city  age  trans_time  tran_year  tran_month  \n",
       "0  28654, Moravian Falls, NC   31  Late Night       2019           1  \n",
       "1          99160, Orient, WA   41  Late Night       2019           1  \n",
       "2      83252, Malad City, ID   57  Late Night       2019           1  \n",
       "3         59632, Boulder, MT   52  Late Night       2019           1  \n",
       "4        24433, Doe Hill, VA   33  Late Night       2019           1  "
      ]
     },
     "execution_count": 10,
     "metadata": {},
     "output_type": "execute_result"
    }
   ],
   "source": [
    "# import Dataset\n",
    "path = '../dataset/midterm_dataset/'+filename\n",
    "df = pd.read_csv(path)\n",
    "\n",
    "row_num = df.shape[0]\n",
    "feature_num = df.shape[1]\n",
    "\n",
    "print(df.shape)\n",
    "df.head()"
   ]
  },
  {
   "cell_type": "code",
   "execution_count": 8,
   "id": "ruled-campaign",
   "metadata": {},
   "outputs": [
    {
     "data": {
      "text/plain": [
       "'is_fraud'"
      ]
     },
     "execution_count": 8,
     "metadata": {},
     "output_type": "execute_result"
    }
   ],
   "source": [
    "label = 'is_fraud'\n",
    "label"
   ]
  },
  {
   "cell_type": "code",
   "execution_count": 9,
   "id": "acquired-niger",
   "metadata": {},
   "outputs": [
    {
     "name": "stdout",
     "output_type": "stream",
     "text": [
      "['category', 'amt', 'is_male', 'lat', 'long', 'city_pop', 'job', 'unix_time', 'state_city', 'age', 'trans_time', 'tran_year', 'tran_month']\n"
     ]
    }
   ],
   "source": [
    "features = df.loc[:, df.columns != label].columns.tolist()\n",
    "print(features)"
   ]
  },
  {
   "cell_type": "code",
   "execution_count": 16,
   "id": "southeast-moisture",
   "metadata": {},
   "outputs": [
    {
     "data": {
      "text/plain": [
       "12"
      ]
     },
     "execution_count": 16,
     "metadata": {},
     "output_type": "execute_result"
    }
   ],
   "source": [
    "len(df['tran_month'].value_counts())"
   ]
  },
  {
   "cell_type": "markdown",
   "id": "spoken-principle",
   "metadata": {},
   "source": [
    "<h1> Intial Entropy 'is_fraud'"
   ]
  },
  {
   "cell_type": "code",
   "execution_count": 13,
   "id": "retired-reproduction",
   "metadata": {},
   "outputs": [
    {
     "name": "stdout",
     "output_type": "stream",
     "text": [
      "0    1289169\n",
      "1       7506\n",
      "Name: is_fraud, dtype: int64\n",
      "Probability Yes : 0.005788651743883394\n",
      "Probability No : 0.9942113482561166\n"
     ]
    }
   ],
   "source": [
    "#find intial Entropy 'is_fraud'\n",
    "print(df[label].value_counts())\n",
    "p_1_fraud = df[label].value_counts()[1]/len(df[label])\n",
    "print('Probability Yes :', p_1_fraud)\n",
    "p_0_fraud = df[label].value_counts()[0]/len(df[label])\n",
    "print('Probability No :', p_0_fraud)"
   ]
  },
  {
   "cell_type": "code",
   "execution_count": 14,
   "id": "dominant-twins",
   "metadata": {},
   "outputs": [
    {
     "data": {
      "text/plain": [
       "0.05135152470435041"
      ]
     },
     "execution_count": 14,
     "metadata": {},
     "output_type": "execute_result"
    }
   ],
   "source": [
    "intial_entropy = -p_1_fraud*np.log2(p_1_fraud)-p_0_fraud*np.log2(p_0_fraud)\n",
    "intial_entropy"
   ]
  },
  {
   "cell_type": "code",
   "execution_count": 70,
   "id": "meaning-territory",
   "metadata": {},
   "outputs": [],
   "source": [
    "def entropy(label, feature):\n",
    "    \"\"\"\n",
    "    find an entropy value of feature \n",
    "    \n",
    "    parameters\n",
    "    ----------------------------------------\n",
    "    feature: str - column from pandas dataframe\n",
    "    \"\"\"\n",
    "    entropy_value = 0\n",
    "    length_prob = len(df.groupby([feature, label]).size())\n",
    "    \n",
    "    for r in range(length_prob):\n",
    "        entropy_value -= -df.groupby([feature, label]).size().values[r]/length_test*np.log2(df.groupby([feature, label]).size().values[r]/length_test)\n",
    "    return entropy_value # float"
   ]
  },
  {
   "cell_type": "code",
   "execution_count": 41,
   "id": "minor-forward",
   "metadata": {},
   "outputs": [
    {
     "data": {
      "text/plain": [
       "1289169"
      ]
     },
     "execution_count": 41,
     "metadata": {},
     "output_type": "execute_result"
    }
   ],
   "source": [
    "df[label].value_counts()"
   ]
  },
  {
   "cell_type": "code",
   "execution_count": 48,
   "id": "fifth-finger",
   "metadata": {},
   "outputs": [
    {
     "data": {
      "text/plain": [
       "tran_year  is_fraud\n",
       "2019       0           919630\n",
       "           1             5220\n",
       "2020       0           369539\n",
       "           1             2286\n",
       "dtype: int64"
      ]
     },
     "execution_count": 48,
     "metadata": {},
     "output_type": "execute_result"
    }
   ],
   "source": [
    "df.groupby(['tran_year', 'is_fraud']).size()"
   ]
  },
  {
   "cell_type": "code",
   "execution_count": 50,
   "id": "breeding-martin",
   "metadata": {},
   "outputs": [
    {
     "data": {
      "text/plain": [
       "array([919630,   5220, 369539,   2286], dtype=int64)"
      ]
     },
     "execution_count": 50,
     "metadata": {},
     "output_type": "execute_result"
    }
   ],
   "source": [
    "df.groupby(['tran_year', 'is_fraud']).size().values"
   ]
  },
  {
   "cell_type": "code",
   "execution_count": 54,
   "id": "acute-finding",
   "metadata": {},
   "outputs": [
    {
     "data": {
      "text/plain": [
       "919630"
      ]
     },
     "execution_count": 54,
     "metadata": {},
     "output_type": "execute_result"
    }
   ],
   "source": [
    "df.groupby(['tran_year', 'is_fraud']).size().values[0]"
   ]
  },
  {
   "cell_type": "code",
   "execution_count": 53,
   "id": "animated-imagination",
   "metadata": {},
   "outputs": [
    {
     "data": {
      "text/plain": [
       "1296675"
      ]
     },
     "execution_count": 53,
     "metadata": {},
     "output_type": "execute_result"
    }
   ],
   "source": [
    "sum(df.groupby(['tran_year', 'is_fraud']).size().values)"
   ]
  },
  {
   "cell_type": "code",
   "execution_count": 51,
   "id": "dried-ordering",
   "metadata": {
    "scrolled": true
   },
   "outputs": [
    {
     "data": {
      "text/plain": [
       "MultiIndex([(2019, 0),\n",
       "            (2019, 1),\n",
       "            (2020, 0),\n",
       "            (2020, 1)],\n",
       "           names=['tran_year', 'is_fraud'])"
      ]
     },
     "execution_count": 51,
     "metadata": {},
     "output_type": "execute_result"
    }
   ],
   "source": [
    "df.groupby(['tran_year', 'is_fraud']).size().index"
   ]
  },
  {
   "cell_type": "code",
   "execution_count": 52,
   "id": "sustained-jamaica",
   "metadata": {},
   "outputs": [
    {
     "data": {
      "text/plain": [
       "4"
      ]
     },
     "execution_count": 52,
     "metadata": {},
     "output_type": "execute_result"
    }
   ],
   "source": [
    "len(df.groupby(['tran_year', 'is_fraud']).size())"
   ]
  },
  {
   "cell_type": "code",
   "execution_count": 71,
   "id": "welcome-bookmark",
   "metadata": {},
   "outputs": [
    {
     "data": {
      "text/plain": [
       "542374.9357186068"
      ]
     },
     "execution_count": 71,
     "metadata": {},
     "output_type": "execute_result"
    }
   ],
   "source": [
    "entropy(label, 'category')"
   ]
  },
  {
   "cell_type": "code",
   "execution_count": 65,
   "id": "younger-filling",
   "metadata": {},
   "outputs": [
    {
     "name": "stdout",
     "output_type": "stream",
     "text": [
      "542374.9357186068\n"
     ]
    }
   ],
   "source": [
    "length_test = len(df.groupby(['category', label]).size())\n",
    "en_test = 0\n",
    "for i in range(length_test):\n",
    "    en_test -=  -df.groupby(['category', label]).size().values[i]/length_test*np.log2(df.groupby(['category', label]).size().values[i]/length_test)\n",
    "\n",
    "print(en_test)"
   ]
  },
  {
   "cell_type": "code",
   "execution_count": null,
   "id": "indoor-police",
   "metadata": {},
   "outputs": [],
   "source": [
    "542374.9357186068"
   ]
  },
  {
   "cell_type": "code",
   "execution_count": 58,
   "id": "blank-hollywood",
   "metadata": {},
   "outputs": [
    {
     "data": {
      "text/plain": [
       "category        is_fraud\n",
       "entertainment   0            93781\n",
       "                1              233\n",
       "food_dining     0            91310\n",
       "                1              151\n",
       "gas_transport   0           131041\n",
       "                1              618\n",
       "grocery_net     0            45318\n",
       "                1              134\n",
       "grocery_pos     0           121895\n",
       "                1             1743\n",
       "health_fitness  0            85746\n",
       "                1              133\n",
       "home            0           122917\n",
       "                1              198\n",
       "kids_pets       0           112796\n",
       "                1              239\n",
       "misc_net        0            62372\n",
       "                1              915\n",
       "misc_pos        0            79405\n",
       "                1              250\n",
       "personal_care   0            90538\n",
       "                1              220\n",
       "shopping_net    0            95830\n",
       "                1             1713\n",
       "shopping_pos    0           115829\n",
       "                1              843\n",
       "travel          0            40391\n",
       "                1              116\n",
       "dtype: int64"
      ]
     },
     "execution_count": 58,
     "metadata": {},
     "output_type": "execute_result"
    }
   ],
   "source": [
    "df.groupby(['category', label]).size()"
   ]
  }
 ],
 "metadata": {
  "kernelspec": {
   "display_name": "Python 3",
   "language": "python",
   "name": "python3"
  },
  "language_info": {
   "codemirror_mode": {
    "name": "ipython",
    "version": 3
   },
   "file_extension": ".py",
   "mimetype": "text/x-python",
   "name": "python",
   "nbconvert_exporter": "python",
   "pygments_lexer": "ipython3",
   "version": "3.9.1"
  }
 },
 "nbformat": 4,
 "nbformat_minor": 5
}
