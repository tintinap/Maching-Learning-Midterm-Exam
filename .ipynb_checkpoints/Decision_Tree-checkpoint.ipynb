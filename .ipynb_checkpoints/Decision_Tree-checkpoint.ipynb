{
 "cells": [
  {
   "cell_type": "code",
   "execution_count": 322,
   "id": "current-frederick",
   "metadata": {},
   "outputs": [],
   "source": [
    "import pandas as pd\n",
    "import numpy as np\n",
    "\n",
    "import matplotlib.pyplot as plt\n",
    "import seaborn as sns\n",
    "%matplotlib inline\n",
    "pd.set_option('display.max_columns', 500)"
   ]
  },
  {
   "cell_type": "code",
   "execution_count": 323,
   "id": "developmental-perth",
   "metadata": {},
   "outputs": [],
   "source": [
    "filename = 'cleaned_fraudTrain.csv'"
   ]
  },
  {
   "cell_type": "code",
   "execution_count": 324,
   "id": "fantastic-respect",
   "metadata": {},
   "outputs": [
    {
     "name": "stdout",
     "output_type": "stream",
     "text": [
      "(1296675, 14)\n"
     ]
    },
    {
     "data": {
      "text/html": [
       "<div>\n",
       "<style scoped>\n",
       "    .dataframe tbody tr th:only-of-type {\n",
       "        vertical-align: middle;\n",
       "    }\n",
       "\n",
       "    .dataframe tbody tr th {\n",
       "        vertical-align: top;\n",
       "    }\n",
       "\n",
       "    .dataframe thead th {\n",
       "        text-align: right;\n",
       "    }\n",
       "</style>\n",
       "<table border=\"1\" class=\"dataframe\">\n",
       "  <thead>\n",
       "    <tr style=\"text-align: right;\">\n",
       "      <th></th>\n",
       "      <th>category</th>\n",
       "      <th>amt</th>\n",
       "      <th>is_male</th>\n",
       "      <th>lat</th>\n",
       "      <th>long</th>\n",
       "      <th>city_pop</th>\n",
       "      <th>job</th>\n",
       "      <th>unix_time</th>\n",
       "      <th>is_fraud</th>\n",
       "      <th>state_city</th>\n",
       "      <th>age</th>\n",
       "      <th>trans_time</th>\n",
       "      <th>trans_year</th>\n",
       "      <th>trans_month</th>\n",
       "    </tr>\n",
       "  </thead>\n",
       "  <tbody>\n",
       "    <tr>\n",
       "      <th>0</th>\n",
       "      <td>misc_net</td>\n",
       "      <td>4.97</td>\n",
       "      <td>0</td>\n",
       "      <td>36.0788</td>\n",
       "      <td>-81.1781</td>\n",
       "      <td>3495</td>\n",
       "      <td>Psychologist, counselling</td>\n",
       "      <td>1325376018</td>\n",
       "      <td>0</td>\n",
       "      <td>28654, Moravian Falls, NC</td>\n",
       "      <td>31</td>\n",
       "      <td>Late Night</td>\n",
       "      <td>2019</td>\n",
       "      <td>1</td>\n",
       "    </tr>\n",
       "    <tr>\n",
       "      <th>1</th>\n",
       "      <td>grocery_pos</td>\n",
       "      <td>107.23</td>\n",
       "      <td>0</td>\n",
       "      <td>48.8878</td>\n",
       "      <td>-118.2105</td>\n",
       "      <td>149</td>\n",
       "      <td>Special educational needs teacher</td>\n",
       "      <td>1325376044</td>\n",
       "      <td>0</td>\n",
       "      <td>99160, Orient, WA</td>\n",
       "      <td>41</td>\n",
       "      <td>Late Night</td>\n",
       "      <td>2019</td>\n",
       "      <td>1</td>\n",
       "    </tr>\n",
       "    <tr>\n",
       "      <th>2</th>\n",
       "      <td>entertainment</td>\n",
       "      <td>220.11</td>\n",
       "      <td>1</td>\n",
       "      <td>42.1808</td>\n",
       "      <td>-112.2620</td>\n",
       "      <td>4154</td>\n",
       "      <td>Nature conservation officer</td>\n",
       "      <td>1325376051</td>\n",
       "      <td>0</td>\n",
       "      <td>83252, Malad City, ID</td>\n",
       "      <td>57</td>\n",
       "      <td>Late Night</td>\n",
       "      <td>2019</td>\n",
       "      <td>1</td>\n",
       "    </tr>\n",
       "    <tr>\n",
       "      <th>3</th>\n",
       "      <td>gas_transport</td>\n",
       "      <td>45.00</td>\n",
       "      <td>1</td>\n",
       "      <td>46.2306</td>\n",
       "      <td>-112.1138</td>\n",
       "      <td>1939</td>\n",
       "      <td>Patent attorney</td>\n",
       "      <td>1325376076</td>\n",
       "      <td>0</td>\n",
       "      <td>59632, Boulder, MT</td>\n",
       "      <td>52</td>\n",
       "      <td>Late Night</td>\n",
       "      <td>2019</td>\n",
       "      <td>1</td>\n",
       "    </tr>\n",
       "    <tr>\n",
       "      <th>4</th>\n",
       "      <td>misc_pos</td>\n",
       "      <td>41.96</td>\n",
       "      <td>1</td>\n",
       "      <td>38.4207</td>\n",
       "      <td>-79.4629</td>\n",
       "      <td>99</td>\n",
       "      <td>Dance movement psychotherapist</td>\n",
       "      <td>1325376186</td>\n",
       "      <td>0</td>\n",
       "      <td>24433, Doe Hill, VA</td>\n",
       "      <td>33</td>\n",
       "      <td>Late Night</td>\n",
       "      <td>2019</td>\n",
       "      <td>1</td>\n",
       "    </tr>\n",
       "  </tbody>\n",
       "</table>\n",
       "</div>"
      ],
      "text/plain": [
       "        category     amt  is_male      lat      long  city_pop  \\\n",
       "0       misc_net    4.97        0  36.0788  -81.1781      3495   \n",
       "1    grocery_pos  107.23        0  48.8878 -118.2105       149   \n",
       "2  entertainment  220.11        1  42.1808 -112.2620      4154   \n",
       "3  gas_transport   45.00        1  46.2306 -112.1138      1939   \n",
       "4       misc_pos   41.96        1  38.4207  -79.4629        99   \n",
       "\n",
       "                                 job   unix_time  is_fraud  \\\n",
       "0          Psychologist, counselling  1325376018         0   \n",
       "1  Special educational needs teacher  1325376044         0   \n",
       "2        Nature conservation officer  1325376051         0   \n",
       "3                    Patent attorney  1325376076         0   \n",
       "4     Dance movement psychotherapist  1325376186         0   \n",
       "\n",
       "                  state_city  age  trans_time  trans_year  trans_month  \n",
       "0  28654, Moravian Falls, NC   31  Late Night        2019            1  \n",
       "1          99160, Orient, WA   41  Late Night        2019            1  \n",
       "2      83252, Malad City, ID   57  Late Night        2019            1  \n",
       "3         59632, Boulder, MT   52  Late Night        2019            1  \n",
       "4        24433, Doe Hill, VA   33  Late Night        2019            1  "
      ]
     },
     "execution_count": 324,
     "metadata": {},
     "output_type": "execute_result"
    }
   ],
   "source": [
    "# import Dataset\n",
    "path = '../dataset/midterm_dataset/'+filename\n",
    "df = pd.read_csv(path)\n",
    "\n",
    "row_num = df.shape[0]\n",
    "feature_num = df.shape[1]\n",
    "\n",
    "print(df.shape)\n",
    "df.head()"
   ]
  },
  {
   "cell_type": "code",
   "execution_count": 325,
   "id": "legendary-sunset",
   "metadata": {},
   "outputs": [
    {
     "data": {
      "text/plain": [
       "'is_fraud'"
      ]
     },
     "execution_count": 325,
     "metadata": {},
     "output_type": "execute_result"
    }
   ],
   "source": [
    "label = 'is_fraud'\n",
    "label"
   ]
  },
  {
   "cell_type": "code",
   "execution_count": 326,
   "id": "passing-engineer",
   "metadata": {},
   "outputs": [
    {
     "name": "stdout",
     "output_type": "stream",
     "text": [
      "['category', 'amt', 'is_male', 'lat', 'long', 'city_pop', 'job', 'unix_time', 'state_city', 'age', 'trans_time', 'trans_year', 'trans_month']\n"
     ]
    }
   ],
   "source": [
    "features = df.loc[:, df.columns != label].columns.tolist()\n",
    "print(features)"
   ]
  },
  {
   "cell_type": "code",
   "execution_count": 327,
   "id": "challenging-organic",
   "metadata": {},
   "outputs": [
    {
     "data": {
      "text/plain": [
       "969"
      ]
     },
     "execution_count": 327,
     "metadata": {},
     "output_type": "execute_result"
    }
   ],
   "source": [
    "len(df['long'].value_counts())"
   ]
  },
  {
   "cell_type": "markdown",
   "id": "scientific-terrace",
   "metadata": {},
   "source": [
    "<h1> Intial Entropy 'is_fraud'"
   ]
  },
  {
   "cell_type": "code",
   "execution_count": 328,
   "id": "center-facility",
   "metadata": {},
   "outputs": [
    {
     "name": "stdout",
     "output_type": "stream",
     "text": [
      "0    1289169\n",
      "1       7506\n",
      "Name: is_fraud, dtype: int64\n",
      "Probability Yes : 0.005788651743883394\n",
      "Probability No : 0.9942113482561166\n"
     ]
    }
   ],
   "source": [
    "#find intial Entropy 'is_fraud'\n",
    "print(df[label].value_counts())\n",
    "p_1_fraud = df[label].value_counts()[1]/len(df[label])\n",
    "print('Probability Yes :', p_1_fraud)\n",
    "p_0_fraud = df[label].value_counts()[0]/len(df[label])\n",
    "print('Probability No :', p_0_fraud)"
   ]
  },
  {
   "cell_type": "code",
   "execution_count": 329,
   "id": "cathedral-smoke",
   "metadata": {},
   "outputs": [
    {
     "data": {
      "text/plain": [
       "0.05135152470435041"
      ]
     },
     "execution_count": 329,
     "metadata": {},
     "output_type": "execute_result"
    }
   ],
   "source": [
    "intial_entropy = -p_1_fraud*np.log2(p_1_fraud)-p_0_fraud*np.log2(p_0_fraud)\n",
    "intial_entropy"
   ]
  },
  {
   "cell_type": "code",
   "execution_count": 378,
   "id": "dimensional-enemy",
   "metadata": {},
   "outputs": [
    {
     "data": {
      "text/plain": [
       "('Early Morning', 0)"
      ]
     },
     "execution_count": 378,
     "metadata": {},
     "output_type": "execute_result"
    }
   ],
   "source": [
    "df.groupby(['trans_time', label]).size().index[0]"
   ]
  },
  {
   "cell_type": "code",
   "execution_count": 379,
   "id": "outside-invention",
   "metadata": {},
   "outputs": [
    {
     "name": "stdout",
     "output_type": "stream",
     "text": [
      "[4, 2]\n"
     ]
    }
   ],
   "source": [
    "k = [1, 2]\n",
    "k[0] = 4\n",
    "print(k)"
   ]
  },
  {
   "cell_type": "code",
   "execution_count": null,
   "id": "presidential-stuff",
   "metadata": {},
   "outputs": [],
   "source": [
    "                    if df.groupby(['trans_time', label]).size().index[0][1] == 1:\n",
    "                        prob_list[-1][featu][1] = feature_prob\n",
    "                    else:\n",
    "                        prob_list[-1][featu][0] = feature_prob"
   ]
  },
  {
   "cell_type": "code",
   "execution_count": 404,
   "id": "conscious-insight",
   "metadata": {
    "scrolled": false
   },
   "outputs": [],
   "source": [
    "def find_prob_each(label, feature):\n",
    "    \"\"\"\n",
    "    helper function for group_entropy function\n",
    "    \"\"\"\n",
    "    temp_df = df.groupby([feature, label])\n",
    "    prob_list = []\n",
    "    if len(temp_df.size())< 1000 and feature not in ['age', 'lat', 'long']:  \n",
    "        for r in range(len(temp_df.size())):\n",
    "                feature_prob = temp_df.size().values[r]/ \\\n",
    "                    len(df[feature][df[feature] == temp_df.size().index[r][0]])\n",
    "                prob_feature = {}\n",
    "                prob_feature[temp_df.size().index[r]] = feature_prob\n",
    "                featu = ''\n",
    "                if len(prob_list) == 0:\n",
    "                    featu = temp_df.size().index[r][0]\n",
    "                    prob_list.append({featu : [0.0, 0.0]})\n",
    "                    if temp_df.size().index[0][1] == 1:\n",
    "                        prob_list[-1][featu][1] = feature_prob\n",
    "                    else:\n",
    "                        prob_list[-1][featu][0] = feature_prob\n",
    "                elif temp_df.size().index[r][0] in prob_list[-1]: #append 2nd value\n",
    "                    print(df.groupby([feature, label]).size().index[r][0], r, feature_prob)\n",
    "                    prob_list[-1][temp_df.size().index[r][0]].append(feature_prob)\n",
    "                else:\n",
    "                    featu = temp_df.size().index[r][0]\n",
    "                    prob_list.append({featu : [0.0, 0.0]})\n",
    "                    if dtemp_df.size().index[0][1] == 1:\n",
    "                        prob_list[-1][featu][1] = feature_prob\n",
    "                    else:\n",
    "                        prob_list[-1][featu][0] = feature_prob\n",
    "                    \n",
    "    else: #numeric feature\n",
    "        greater_than_eq_df = df[[label, feature]][df[feature] >=df[feature].mean()]\n",
    "        less_than_df = df[[label, feature]][df[feature] < df[feature].mean()]\n",
    "        condition_dfs = [greater_than_eq_df, less_than_df]\n",
    "    \n",
    "        prob_list = [{'greater_than_eq_mean': []}, {'less_than_mean': []}]\n",
    "    \n",
    "        for d in condition_dfs:\n",
    "            for r in range(len(d[label].value_counts())):\n",
    "                feature_prob = d[label].value_counts()[r]/len(d)\n",
    "#                 print(feature_prob)\n",
    "                if  d.equals(greater_than_eq_df):\n",
    "                    prob_list[0]['greater_than_eq_mean'].append(feature_prob)\n",
    "\n",
    "                else:\n",
    "                    prob_list[1]['less_than_mean'].append(feature_prob)\n",
    "\n",
    "\n",
    "    return prob_list"
   ]
  },
  {
   "cell_type": "code",
   "execution_count": 403,
   "id": "oriental-ready",
   "metadata": {},
   "outputs": [
    {
     "name": "stdout",
     "output_type": "stream",
     "text": [
      "Early Morning 1 0.0012117343169069448\n"
     ]
    },
    {
     "ename": "KeyError",
     "evalue": "''",
     "output_type": "error",
     "traceback": [
      "\u001b[1;31m---------------------------------------------------------------------------\u001b[0m",
      "\u001b[1;31mKeyError\u001b[0m                                  Traceback (most recent call last)",
      "\u001b[1;32m<ipython-input-403-b0414b9acea6>\u001b[0m in \u001b[0;36m<module>\u001b[1;34m\u001b[0m\n\u001b[1;32m----> 1\u001b[1;33m \u001b[0mfind_prob_each\u001b[0m\u001b[1;33m(\u001b[0m\u001b[0mlabel\u001b[0m\u001b[1;33m,\u001b[0m \u001b[1;34m'trans_time'\u001b[0m\u001b[1;33m)\u001b[0m\u001b[1;33m\u001b[0m\u001b[1;33m\u001b[0m\u001b[0m\n\u001b[0m",
      "\u001b[1;32m<ipython-input-402-825f50d32c6a>\u001b[0m in \u001b[0;36mfind_prob_each\u001b[1;34m(label, feature)\u001b[0m\n\u001b[0;32m     21\u001b[0m                 \u001b[1;32melif\u001b[0m \u001b[0mtemp_df\u001b[0m\u001b[1;33m.\u001b[0m\u001b[0msize\u001b[0m\u001b[1;33m(\u001b[0m\u001b[1;33m)\u001b[0m\u001b[1;33m.\u001b[0m\u001b[0mindex\u001b[0m\u001b[1;33m[\u001b[0m\u001b[0mr\u001b[0m\u001b[1;33m]\u001b[0m\u001b[1;33m[\u001b[0m\u001b[1;36m0\u001b[0m\u001b[1;33m]\u001b[0m \u001b[1;32min\u001b[0m \u001b[0mprob_list\u001b[0m\u001b[1;33m[\u001b[0m\u001b[1;33m-\u001b[0m\u001b[1;36m1\u001b[0m\u001b[1;33m]\u001b[0m\u001b[1;33m:\u001b[0m \u001b[1;31m#append 2nd value\u001b[0m\u001b[1;33m\u001b[0m\u001b[1;33m\u001b[0m\u001b[0m\n\u001b[0;32m     22\u001b[0m                     \u001b[0mprint\u001b[0m\u001b[1;33m(\u001b[0m\u001b[0mdf\u001b[0m\u001b[1;33m.\u001b[0m\u001b[0mgroupby\u001b[0m\u001b[1;33m(\u001b[0m\u001b[1;33m[\u001b[0m\u001b[0mfeature\u001b[0m\u001b[1;33m,\u001b[0m \u001b[0mlabel\u001b[0m\u001b[1;33m]\u001b[0m\u001b[1;33m)\u001b[0m\u001b[1;33m.\u001b[0m\u001b[0msize\u001b[0m\u001b[1;33m(\u001b[0m\u001b[1;33m)\u001b[0m\u001b[1;33m.\u001b[0m\u001b[0mindex\u001b[0m\u001b[1;33m[\u001b[0m\u001b[0mr\u001b[0m\u001b[1;33m]\u001b[0m\u001b[1;33m[\u001b[0m\u001b[1;36m0\u001b[0m\u001b[1;33m]\u001b[0m\u001b[1;33m,\u001b[0m \u001b[0mr\u001b[0m\u001b[1;33m,\u001b[0m \u001b[0mfeature_prob\u001b[0m\u001b[1;33m)\u001b[0m\u001b[1;33m\u001b[0m\u001b[1;33m\u001b[0m\u001b[0m\n\u001b[1;32m---> 23\u001b[1;33m                     \u001b[0mprob_list\u001b[0m\u001b[1;33m[\u001b[0m\u001b[1;33m-\u001b[0m\u001b[1;36m1\u001b[0m\u001b[1;33m]\u001b[0m\u001b[1;33m[\u001b[0m\u001b[0mfeatu\u001b[0m\u001b[1;33m]\u001b[0m\u001b[1;33m[\u001b[0m\u001b[1;36m1\u001b[0m\u001b[1;33m]\u001b[0m \u001b[1;33m=\u001b[0m \u001b[1;33m(\u001b[0m\u001b[0mfeature_prob\u001b[0m\u001b[1;33m)\u001b[0m\u001b[1;33m\u001b[0m\u001b[1;33m\u001b[0m\u001b[0m\n\u001b[0m\u001b[0;32m     24\u001b[0m                 \u001b[1;32melse\u001b[0m\u001b[1;33m:\u001b[0m\u001b[1;33m\u001b[0m\u001b[1;33m\u001b[0m\u001b[0m\n\u001b[0;32m     25\u001b[0m                     \u001b[0mfeatu\u001b[0m \u001b[1;33m=\u001b[0m \u001b[0mtemp_df\u001b[0m\u001b[1;33m.\u001b[0m\u001b[0msize\u001b[0m\u001b[1;33m(\u001b[0m\u001b[1;33m)\u001b[0m\u001b[1;33m.\u001b[0m\u001b[0mindex\u001b[0m\u001b[1;33m[\u001b[0m\u001b[0mr\u001b[0m\u001b[1;33m]\u001b[0m\u001b[1;33m[\u001b[0m\u001b[1;36m0\u001b[0m\u001b[1;33m]\u001b[0m\u001b[1;33m\u001b[0m\u001b[1;33m\u001b[0m\u001b[0m\n",
      "\u001b[1;31mKeyError\u001b[0m: ''"
     ]
    }
   ],
   "source": [
    "find_prob_each(label, 'trans_time')"
   ]
  },
  {
   "cell_type": "code",
   "execution_count": 370,
   "id": "proud-identifier",
   "metadata": {
    "scrolled": true
   },
   "outputs": [
    {
     "data": {
      "text/plain": [
       "[{'Academic librarian': [0.989433237271854, 0.010566762728146013]},\n",
       " {'Accountant, chartered': [1.0]},\n",
       " {'Accountant, chartered certified': [0.9831460674157303,\n",
       "   0.016853932584269662]},\n",
       " {'Accountant, chartered public finance': [0.9965116279069768,\n",
       "   0.0034883720930232558]},\n",
       " {'Accounting technician': [0.992938155360582, 0.007061844639417933]},\n",
       " {'Acupuncturist': [0.9936588459099556, 0.0063411540900443885]},\n",
       " {'Administrator': [0.9966703662597114, 0.003329633740288568]},\n",
       " {'Administrator, arts': [0.9869158878504672, 0.013084112149532711]},\n",
       " {'Administrator, charities/voluntary organisations': [0.9980190174326465,\n",
       "   0.0019809825673534074]},\n",
       " {'Administrator, education': [0.9941656942823804, 0.005834305717619603]},\n",
       " {'Administrator, local government': [0.9919385796545106,\n",
       "   0.008061420345489444]},\n",
       " {'Advertising account executive': [0.9917355371900827, 0.008264462809917356]},\n",
       " {'Advertising account planner': [0.99592032637389, 0.004079673626109911]},\n",
       " {'Advertising copywriter': [0.9922405431619786, 0.007759456838021339]},\n",
       " {'Advice worker': [0.9961225281116712, 0.0038774718883288098]},\n",
       " {'Aeronautical engineer': [0.9862385321100917, 0.013761467889908258]},\n",
       " {'Agricultural consultant': [0.9960855164107196, 0.003914483589280337]},\n",
       " {'Aid worker': [0.9965277777777778, 0.003472222222222222]},\n",
       " {'Air broker': [0.9903474903474904, 0.009652509652509652]},\n",
       " {'Air cabin crew': [0.9806949806949807, 0.019305019305019305]},\n",
       " {'Air traffic controller': [1.0]},\n",
       " {'Airline pilot': [0.9971305595408895, 0.0028694404591104736]},\n",
       " {'Ambulance person': [0.994328922495274, 0.005671077504725898]},\n",
       " {'Amenity horticulturist': [1.0]},\n",
       " {'Analytical chemist': [0.9839679358717435, 0.01603206412825651]},\n",
       " {'Animal nutritionist': [0.9898892633606162, 0.010110736639383727]},\n",
       " {'Animal technologist': [1.0]},\n",
       " {'Animator': [0.9911838790931989, 0.008816120906801008]},\n",
       " {'Applications developer': [0.995147986414362, 0.0048520135856380394]},\n",
       " {'Arboriculturist': [0.9925830377297646, 0.007416962270235408]},\n",
       " {'Archaeologist': [0.9928200049517207, 0.007179995048279277]},\n",
       " {'Architect': [0.99462890625, 0.00537109375]},\n",
       " {'Architectural technologist': [1.0]},\n",
       " {'Archivist': [1.0]},\n",
       " {'Armed forces logistics/support/administrative officer': [0.9947712418300654,\n",
       "   0.00522875816993464]},\n",
       " {'Armed forces technical officer': [1.0]},\n",
       " {'Armed forces training and education officer': [0.9909413154785348,\n",
       "   0.009058684521465145]},\n",
       " {'Art gallery manager': [0.9902723735408561, 0.009727626459143969]},\n",
       " {'Art therapist': [1.0]},\n",
       " {'Artist': [0.9788053949903661, 0.02119460500963391]},\n",
       " {'Arts development officer': [0.9960474308300395, 0.003952569169960474]},\n",
       " {'Associate Professor': [0.9905660377358491, 0.009433962264150943]},\n",
       " {'Audiological scientist': [0.9924812030075187, 0.007518796992481203]},\n",
       " {'Barista': [0.9942528735632183, 0.005747126436781609]},\n",
       " {'Barrister': [0.9977150318263425, 0.002284968173657581]},\n",
       " {\"Barrister's clerk\": [0.9901671583087512, 0.00983284169124877]},\n",
       " {'Biochemist, clinical': [0.9816955684007708, 0.018304431599229287]},\n",
       " {'Biomedical engineer': [0.9965585054080629, 0.00344149459193707]},\n",
       " {'Biomedical scientist': [0.9928571428571429, 0.007142857142857143]},\n",
       " {'Bookseller': [0.988671875, 0.011328125]},\n",
       " {'Broadcast engineer': [0.9846153846153847, 0.015384615384615385]},\n",
       " {'Broadcast journalist': [1.0]},\n",
       " {'Broadcast presenter': [0.9925083240843507, 0.007491675915649278]},\n",
       " {'Building control surveyor': [0.9910191331511129, 0.008980866848887154]},\n",
       " {'Building services engineer': [0.9947950553025374, 0.00520494469746259]},\n",
       " {'Building surveyor': [0.9953059242473292, 0.0046940757526707675]},\n",
       " {'Buyer, industrial': [0.9900048756704046, 0.009995124329595319]},\n",
       " {'Buyer, retail': [1.0]},\n",
       " {'Cabin crew': [0.9932038834951457, 0.006796116504854369]},\n",
       " {'Call centre manager': [0.995811225914549, 0.004188774085450991]},\n",
       " {'Camera operator': [1.0]},\n",
       " {'Careers adviser': [1.0]},\n",
       " {'Careers information officer': [0.9932455251604188, 0.006754474839581222]},\n",
       " {'Cartographer': [0.9946025515210991, 0.005397448478900883]},\n",
       " {'Catering manager': [0.9847328244274809, 0.015267175572519083]},\n",
       " {'Ceramics designer': [0.9968840418428667, 0.0031159581571333183]},\n",
       " {'Charity fundraiser': [0.9904214559386973, 0.009578544061302681]},\n",
       " {'Charity officer': [0.976878612716763, 0.023121387283236993]},\n",
       " {'Chartered accountant': [0.988681757656458, 0.011318242343541944]},\n",
       " {'Chartered legal executive (England and Wales)': [0.9912023460410557,\n",
       "   0.008797653958944282]},\n",
       " {'Chartered loss adjuster': [0.9994157740993184, 0.0005842259006815969]},\n",
       " {'Chartered public finance accountant': [0.9970873786407767,\n",
       "   0.002912621359223301]},\n",
       " {'Chemical engineer': [0.9956744003145891, 0.004325599685410932]},\n",
       " {'Chemist, analytical': [0.9930830039525692, 0.00691699604743083]},\n",
       " {'Chief Executive Officer': [0.9958170663692136, 0.004182933630786392]},\n",
       " {'Chief Financial Officer': [0.996876220226474, 0.0031237797735259665]},\n",
       " {'Chief Marketing Officer': [0.9890057361376673, 0.010994263862332695]},\n",
       " {'Chief Operating Officer': [0.995070653959908, 0.004929346040092014]},\n",
       " {'Chief Strategy Officer': [0.9982620030414947, 0.0017379969585053225]},\n",
       " {'Chief Technology Officer': [0.9899224806201551, 0.010077519379844961]},\n",
       " {'Chief of Staff': [0.9805825242718447, 0.019417475728155338]},\n",
       " {'Child psychotherapist': [0.9982905982905983, 0.0017094017094017094]},\n",
       " {'Chiropodist': [0.9944351697273233, 0.005564830272676683]},\n",
       " {'Civil Service administrator': [0.9762845849802372, 0.023715415019762844]},\n",
       " {'Civil Service fast streamer': [0.9921951219512195, 0.007804878048780488]},\n",
       " {'Civil engineer, contracting': [0.9950445986124876, 0.004955401387512388]},\n",
       " {'Claims inspector/assessor': [0.9959421312632322, 0.0040578687367678196]},\n",
       " {'Clinical biochemist': [0.9888511875908871, 0.011148812409112942]},\n",
       " {'Clinical cytogeneticist': [0.9645669291338582, 0.03543307086614173]},\n",
       " {'Clinical psychologist': [0.9920556107249255, 0.007944389275074478]},\n",
       " {'Clinical research associate': [0.995159728944821, 0.00484027105517909]},\n",
       " {'Clothing/textile technologist': [0.9971896181186973,\n",
       "   0.0028103818813026947]},\n",
       " {'Colour technologist': [0.9931934203062961, 0.006806579693703914]},\n",
       " {'Commercial horticulturist': [0.9918032786885246, 0.00819672131147541]},\n",
       " {'Commercial/residential surveyor': [0.9935919055649242,\n",
       "   0.0064080944350758855]},\n",
       " {'Commissioning editor': [1.0]},\n",
       " {'Communications engineer': [0.989247311827957, 0.010752688172043012]},\n",
       " {'Community arts worker': [0.9972730814179976, 0.0027269185820023374]},\n",
       " {'Community development worker': [0.9589552238805971, 0.041044776119402986]},\n",
       " {'Community education officer': [0.9975466143277724, 0.0024533856722276743]},\n",
       " {'Community pharmacist': [0.988394584139265, 0.01160541586073501]},\n",
       " {'Company secretary': [0.9913378248315688, 0.008662175168431183]},\n",
       " {'Comptroller': [0.9967310549777118, 0.0032689450222882616]},\n",
       " {'Conservation officer, historic buildings': [0.9877216916780355,\n",
       "   0.01227830832196453]},\n",
       " {'Conservator, furniture': [1.0]},\n",
       " {'Conservator, museum/gallery': [0.9708171206225681, 0.029182879377431907]},\n",
       " {'Contracting civil engineer': [1.0]},\n",
       " {'Contractor': [0.9993384055573933, 0.0006615944426066821]},\n",
       " {'Control and instrumentation engineer': [0.994726433750824,\n",
       "   0.005273566249176005]},\n",
       " {'Copy': [0.9841269841269841, 0.015873015873015872]},\n",
       " {'Copywriter, advertising': [0.9937027707808564, 0.006297229219143577]},\n",
       " {'Corporate investment banker': [0.9980227385071676, 0.001977261492832427]},\n",
       " {'Counselling psychologist': [0.9956979995698, 0.004302000430200043]},\n",
       " {'Counsellor': [0.9983971504897595, 0.0016028495102404273]},\n",
       " {'Curator': [0.9912152269399708, 0.008784773060029283]},\n",
       " {'Cytogeneticist': [0.9978380503144654, 0.002161949685534591]},\n",
       " {'Dance movement psychotherapist': [1.0]},\n",
       " {'Dancer': [1.0]},\n",
       " {'Data scientist': [0.9806201550387597, 0.01937984496124031]},\n",
       " {'Database administrator': [0.997265625, 0.002734375]},\n",
       " {'Dealer': [0.9939952820072915, 0.0060047179927085565]},\n",
       " {'Designer, ceramics/pottery': [0.9985410334346505, 0.001458966565349544]},\n",
       " {'Designer, exhibition/display': [0.998678122934567, 0.0013218770654329147]},\n",
       " {'Designer, furniture': [1.0]},\n",
       " {'Designer, industrial/product': [0.9946718333736982, 0.005328166626301768]},\n",
       " {'Designer, interior/spatial': [0.9884763124199744, 0.011523687580025609]},\n",
       " {'Designer, jewellery': [0.9977294842685696, 0.0022705157314304248]},\n",
       " {'Designer, multimedia': [0.9848053181386515, 0.015194681861348529]},\n",
       " {'Designer, television/film set': [1.0]},\n",
       " {'Designer, textile': [0.9913875598086125, 0.00861244019138756]},\n",
       " {'Development worker, community': [0.9950920245398773, 0.0049079754601227]},\n",
       " {'Development worker, international aid': [0.9901735997379627,\n",
       "   0.00982640026203734]},\n",
       " {'Diagnostic radiographer': [0.990228013029316, 0.009771986970684038]},\n",
       " {'Dispensing optician': [0.9950097033545883, 0.0049902966454117]},\n",
       " {'Doctor, general practice': [0.9965143299767621, 0.0034856700232378003]},\n",
       " {'Doctor, hospital': [0.995301487862177, 0.004698512137823023]},\n",
       " {'Drilling engineer': [0.9941543257989088, 0.005845674201091193]},\n",
       " {'Early years teacher': [0.9942508084800575, 0.005749191519942508]},\n",
       " {'Ecologist': [1.0]},\n",
       " {'Economist': [0.9779270633397313, 0.022072936660268713]},\n",
       " {'Editor, commissioning': [1.0]},\n",
       " {'Editor, film/video': [0.9903053805138148, 0.009694619486185167]},\n",
       " {'Editor, magazine features': [0.9926506614404703, 0.007349338559529643]},\n",
       " {'Education administrator': [0.9902723735408561, 0.009727626459143969]},\n",
       " {'Education officer, community': [0.98046875, 0.01953125]},\n",
       " {'Education officer, museum': [0.9893548387096774, 0.01064516129032258]},\n",
       " {'Educational psychologist': [0.9973433694930264, 0.002656630506973655]},\n",
       " {'Electrical engineer': [0.9957520756902877, 0.004247924309712299]},\n",
       " {'Electronics engineer': [0.9964366699060576, 0.0035633300939423387]},\n",
       " {'Embryologist, clinical': [0.9929980903882877, 0.007001909611712286]},\n",
       " {'Emergency planning/management officer': [0.9883268482490273,\n",
       "   0.011673151750972763]},\n",
       " {'Energy engineer': [0.9941778405081158, 0.005822159491884263]},\n",
       " {'Energy manager': [1.0]},\n",
       " {'Engineer, aeronautical': [0.9883381924198251, 0.011661807580174927]},\n",
       " {'Engineer, agricultural': [0.9942820838627701, 0.005717916137229987]},\n",
       " {'Engineer, automotive': [0.9964501242456514, 0.003549875754348598]},\n",
       " {'Engineer, biomedical': [0.99765625, 0.00234375]},\n",
       " {'Engineer, broadcasting (operations)': [1.0]},\n",
       " {'Engineer, building services': [0.9903194578896418, 0.00968054211035818]},\n",
       " {'Engineer, civil (consulting)': [0.9833333333333333, 0.016666666666666666]},\n",
       " {'Engineer, civil (contracting)': [1.0]},\n",
       " {'Engineer, communications': [1.0]},\n",
       " {'Engineer, control and instrumentation': [0.9941125163541212,\n",
       "   0.005887483645878762]},\n",
       " {'Engineer, drilling': [1.0]},\n",
       " {'Engineer, electronics': [0.9936323366555925, 0.00636766334440753]},\n",
       " {'Engineer, land': [0.9973536222295732, 0.0026463777704267286]},\n",
       " {'Engineer, maintenance': [0.9908256880733946, 0.009174311926605505]},\n",
       " {'Engineer, manufacturing': [0.9850746268656716, 0.014925373134328358]},\n",
       " {'Engineer, materials': [0.9864864864864865, 0.013513513513513514]},\n",
       " {'Engineer, mining': [0.9924895688456189, 0.007510431154381085]},\n",
       " {'Engineer, petroleum': [0.9909697683549273, 0.009030231645072634]},\n",
       " {'Engineer, production': [0.9952504317789291, 0.004749568221070812]},\n",
       " {'Engineer, site': [1.0]},\n",
       " {'Engineer, structural': [0.9776422764227642, 0.022357723577235773]},\n",
       " {'Engineer, technical sales': [1.0]},\n",
       " {'Engineering geologist': [0.9953522504892368, 0.004647749510763209]},\n",
       " {'English as a foreign language teacher': [0.9818548387096774,\n",
       "   0.018145161290322582]},\n",
       " {'English as a second language teacher': [0.9995151515151515,\n",
       "   0.00048484848484848484]},\n",
       " {'Environmental consultant': [0.9970849344110242, 0.002915065588975752]},\n",
       " {'Environmental education officer': [0.9884393063583815,\n",
       "   0.011560693641618497]},\n",
       " {'Environmental health practitioner': [0.9915693904020753,\n",
       "   0.008430609597924773]},\n",
       " {'Environmental manager': [0.9864603481624759, 0.013539651837524178]},\n",
       " {'Equality and diversity officer': [0.9906687402799378, 0.00933125972006221]},\n",
       " {'Equities trader': [0.9948353776630084, 0.005164622336991607]},\n",
       " {'Estate manager/land agent': [0.9888475836431226, 0.011152416356877323]},\n",
       " {'Event organiser': [0.9929622520793346, 0.007037747920665387]},\n",
       " {'Exercise physiologist': [0.9927817878956136, 0.007218212104386452]},\n",
       " {'Exhibition designer': [0.9944559191216437, 0.005544080878356343]},\n",
       " {'Exhibitions officer, museum/gallery': [0.9951737451737451,\n",
       "   0.004826254826254826]},\n",
       " {'Facilities manager': [0.9964771011575239, 0.0035228988424760945]},\n",
       " {'Farm manager': [0.9921259842519685, 0.007874015748031496]},\n",
       " {'Field seismologist': [0.9890180878552972, 0.010981912144702842]},\n",
       " {'Field trials officer': [0.974903474903475, 0.025096525096525095]},\n",
       " {'Film/video editor': [0.9955005624296963, 0.0044994375703037125]},\n",
       " {'Financial adviser': [0.996996996996997, 0.003003003003003003]},\n",
       " {'Financial trader': [0.9924468645705252, 0.007553135429474793]},\n",
       " {'Fine artist': [0.9941240478781284, 0.0058759521218716]},\n",
       " {'Firefighter': [0.9976785714285714, 0.0023214285714285715]},\n",
       " {'Fisheries officer': [0.9941940834946088, 0.005805916505391208]},\n",
       " {'Fitness centre manager': [0.9886674482219617, 0.011332551778038297]},\n",
       " {'Forensic psychologist': [0.9928117224218966, 0.007188277578103401]},\n",
       " {'Forest/woodland manager': [1.0]},\n",
       " {'Freight forwarder': [0.9896597731821214, 0.010340226817878585]},\n",
       " {'Furniture conservator/restorer': [1.0]},\n",
       " {'Furniture designer': [0.9902104747919726, 0.00978952520802741]},\n",
       " {'Further education lecturer': [0.9932219801500847, 0.006778019849915275]},\n",
       " {'Futures trader': [0.9920212765957447, 0.007978723404255319]},\n",
       " {'Gaffer': [0.9970049916805325, 0.002995008319467554]},\n",
       " {'Garment/textile technologist': [0.9947882736156352, 0.005211726384364821]},\n",
       " {'General practice doctor': [0.9890054972513743, 0.010994502748625687]},\n",
       " {'Geneticist, molecular': [0.9706422018348624, 0.029357798165137616]},\n",
       " {'Geochemist': [0.9885375494071146, 0.011462450592885375]},\n",
       " {'Geologist, engineering': [0.9926282051282052, 0.007371794871794872]},\n",
       " {'Geologist, wellsite': [0.9966232513265798, 0.003376748673420164]},\n",
       " {'Geophysicist/field seismologist': [0.9967126890203813,\n",
       "   0.003287310979618672]},\n",
       " {'Geoscientist': [0.994661921708185, 0.005338078291814947]},\n",
       " {'Glass blower/designer': [0.9888996138996139, 0.0111003861003861]},\n",
       " {'Health and safety adviser': [0.9930205506010081, 0.006979449398991857]},\n",
       " {'Health physicist': [0.9990112063282794, 0.000988793671720501]},\n",
       " {'Health promotion specialist': [1.0]},\n",
       " {'Health service manager': [0.9957014458772958, 0.0042985541227041815]},\n",
       " {'Health visitor': [1.0]},\n",
       " {'Herbalist': [0.9977924944812362, 0.002207505518763797]},\n",
       " {'Heritage manager': [0.997195737521032, 0.0028042624789680315]},\n",
       " {'Herpetologist': [1.0]},\n",
       " {'Higher education careers adviser': [0.9941099476439791,\n",
       "   0.0058900523560209425]},\n",
       " {'Historic buildings inspector/conservation officer': [0.9943593875906527,\n",
       "   0.0056406124093473006]},\n",
       " {'Homeopath': [1.0]},\n",
       " {'Horticultural consultant': [0.9868667917448405, 0.013133208255159476]},\n",
       " {'Horticultural therapist': [0.9871060171919771, 0.012893982808022923]},\n",
       " {'Horticulturist, commercial': [1.0]},\n",
       " {'Hospital doctor': [0.9902043101035545, 0.009795689896445563]},\n",
       " {'Hospital pharmacist': [0.9884504331087585, 0.011549566891241578]},\n",
       " {'Hotel manager': [0.9825242718446602, 0.017475728155339806]},\n",
       " {'Human resources officer': [0.9910401246591352, 0.008959875340864823]},\n",
       " {'Hydrogeologist': [1.0]},\n",
       " {'Hydrographic surveyor': [0.9884726224783862, 0.011527377521613832]},\n",
       " {'Hydrologist': [0.988173455978975, 0.011826544021024968]},\n",
       " {'IT consultant': [0.9920318725099602, 0.00796812749003984]},\n",
       " {'IT trainer': [0.9962234665972132, 0.003776533402786821]},\n",
       " {'Illustrator': [0.9959758551307847, 0.004024144869215292]},\n",
       " {'Immigration officer': [0.9946315275744265, 0.005368472425573451]},\n",
       " {'Immunologist': [0.9958915365653246, 0.004108463434675432]},\n",
       " {'Industrial buyer': [1.0]},\n",
       " {'Industrial/product designer': [0.9922965816080885, 0.0077034183919114105]},\n",
       " {'Information officer': [1.0]},\n",
       " {'Information systems manager': [0.991588322612568, 0.008411677387431964]},\n",
       " {'Insurance broker': [1.0]},\n",
       " {'Insurance claims handler': [0.991236611489776, 0.008763388510223954]},\n",
       " {'Insurance risk surveyor': [0.9947266167082986, 0.00527338329170136]},\n",
       " {'Insurance underwriter': [0.9980657640232108, 0.0019342359767891683]},\n",
       " {'Intelligence analyst': [1.0]},\n",
       " {'Interior and spatial designer': [0.9783889980353635, 0.021611001964636542]},\n",
       " {'Interpreter': [0.997411003236246, 0.0025889967637540453]},\n",
       " {'Investment analyst': [0.9960474308300395, 0.003952569169960474]},\n",
       " {'Investment banker, corporate': [0.9906357811729917, 0.009364218827008379]},\n",
       " {'Investment banker, operational': [1.0]},\n",
       " {'Jewellery designer': [0.9851632047477745, 0.01483679525222552]},\n",
       " {'Journalist, newspaper': [0.9948337100419761, 0.005166289958023894]},\n",
       " {'Land': [0.9964816262705238, 0.003518373729476153]},\n",
       " {'Land/geomatics surveyor': [0.9944682369735903, 0.005531763026409707]},\n",
       " {'Landscape architect': [0.9956813819577736, 0.004318618042226488]},\n",
       " {'Lawyer': [0.9481481481481482, 0.05185185185185185]},\n",
       " {'Learning disability nurse': [0.9938461538461538, 0.006153846153846154]},\n",
       " {'Learning mentor': [0.992282958199357, 0.0077170418006430866]},\n",
       " {'Lecturer, further education': [0.9933073061907418, 0.006692693809258227]},\n",
       " {'Lecturer, higher education': [0.9939879759519038, 0.006012024048096192]},\n",
       " {'Legal secretary': [1.0]},\n",
       " {'Leisure centre manager': [0.9954545454545455, 0.004545454545454545]},\n",
       " {'Lexicographer': [0.9948667807382058, 0.005133219261794182]},\n",
       " {'Librarian, academic': [0.99481068614261, 0.005189313857389967]},\n",
       " {'Librarian, public': [0.997090203685742, 0.002909796314258002]},\n",
       " {'Licensed conveyancer': [1.0]},\n",
       " {'Local government officer': [0.9923518164435946, 0.0076481835564053535]},\n",
       " {'Location manager': [0.9939879759519038, 0.006012024048096192]},\n",
       " {'Logistics and distribution manager': [0.9954809554551324,\n",
       "   0.004519044544867657]},\n",
       " {'Loss adjuster, chartered': [0.9901380670611439, 0.009861932938856016]},\n",
       " {'Magazine features editor': [0.9939412299303242, 0.006058770069675856]},\n",
       " {'Magazine journalist': [0.9737335834896811, 0.02626641651031895]},\n",
       " {'Maintenance engineer': [0.990602975724354, 0.009397024275646046]},\n",
       " {'Make': [0.9969874180400496, 0.003012581959950381]},\n",
       " {'Management consultant': [0.9941214892227302, 0.005878510777269758]},\n",
       " {'Manufacturing engineer': [0.9980379332897319, 0.001962066710268149]},\n",
       " {'Manufacturing systems engineer': [0.985014985014985, 0.014985014985014986]},\n",
       " {'Market researcher': [0.9926810477657936, 0.007318952234206471]},\n",
       " {'Marketing executive': [0.9803149606299213, 0.01968503937007874]},\n",
       " {'Materials engineer': [0.992503022974607, 0.0074969770253929865]},\n",
       " {'Mechanical engineer': [0.9912997159090909, 0.00870028409090909]},\n",
       " {'Media buyer': [1.0]},\n",
       " {'Media planner': [0.9897100093545369, 0.01028999064546305]},\n",
       " {'Medical physicist': [0.9955640050697085, 0.004435994930291508]},\n",
       " {'Medical sales representative': [0.9980556095664009, 0.0019443904335990666]},\n",
       " {'Medical secretary': [0.9871478002965892, 0.012852199703410776]},\n",
       " {'Medical technical officer': [0.9765478424015009, 0.02345215759849906]},\n",
       " {'Mental health nurse': [0.9910050840829097, 0.00899491591709034]},\n",
       " {'Merchandiser, retail': [0.9888268156424581, 0.0111731843575419]},\n",
       " {'Metallurgist': [0.9958373358949728, 0.004162664105027218]},\n",
       " {'Minerals surveyor': [0.9773584905660377, 0.022641509433962263]},\n",
       " {'Mining engineer': [0.9957730450333279, 0.004226954966672086]},\n",
       " {'Mudlogger': [0.9947882736156352, 0.005211726384364821]},\n",
       " {'Multimedia programmer': [0.995530964034901, 0.004469035965098957]},\n",
       " {'Museum education officer': [0.9875598086124402, 0.012440191387559809]},\n",
       " {'Museum/gallery conservator': [0.9874517374517374, 0.012548262548262547]},\n",
       " {'Museum/gallery exhibitions officer': [0.9917355371900827,\n",
       "   0.008264462809917356]},\n",
       " {'Music therapist': [0.994535519125683, 0.00546448087431694]},\n",
       " {'Music tutor': [0.9934188877920369, 0.006581112207963146]},\n",
       " {'Musician': [0.9954677889284558, 0.004532211071544189]},\n",
       " {'Nature conservation officer': [0.9843444227005871, 0.015655577299412915]},\n",
       " {'Naval architect': [0.9938968217411331, 0.006103178258866882]},\n",
       " {'Network engineer': [0.9845460399227302, 0.015453960077269801]},\n",
       " {'Neurosurgeon': [0.991432651118515, 0.008567348881485007]},\n",
       " {\"Nurse, children's\": [0.9845500193124759, 0.01544998068752414]},\n",
       " {'Nurse, mental health': [0.994088669950739, 0.005911330049261084]},\n",
       " {'Nutritional therapist': [0.9922330097087378, 0.007766990291262136]},\n",
       " {'Occupational hygienist': [0.9945054945054945, 0.005494505494505495]},\n",
       " {'Occupational psychologist': [0.994606521206178, 0.005393478793822015]},\n",
       " {'Occupational therapist': [0.9826589595375722, 0.017341040462427744]},\n",
       " {'Oceanographer': [0.9929757343550447, 0.0070242656449553]},\n",
       " {'Oncologist': [0.9848197343453511, 0.015180265654648957]},\n",
       " {'Operational researcher': [0.9961028838659393, 0.003897116134060795]},\n",
       " {'Operations geologist': [0.9935933147632312, 0.006406685236768802]},\n",
       " {'Optician, dispensing': [0.9968737788198515, 0.0031262211801484957]},\n",
       " {'Optometrist': [0.9928432010409889, 0.0071567989590110605]},\n",
       " {'Orthoptist': [0.9929214929214929, 0.007078507078507079]},\n",
       " {'Osteopath': [1.0]},\n",
       " {'Outdoor activities/education manager': [0.9901960784313726,\n",
       "   0.00980392156862745]},\n",
       " {'Paediatric nurse': [0.993713163064833, 0.006286836935166994]},\n",
       " {'Paramedic': [0.9959306706857574, 0.004069329314242653]},\n",
       " {'Patent attorney': [0.9920948616600791, 0.007905138339920948]},\n",
       " {'Pathologist': [0.9904030710172744, 0.009596928982725527]},\n",
       " {'Pension scheme manager': [0.9980842911877394, 0.0019157088122605363]},\n",
       " {'Pensions consultant': [0.9972747093023255, 0.0027252906976744187]},\n",
       " {'Personnel officer': [1.0]},\n",
       " {'Petroleum engineer': [0.9962943356273161, 0.0037056643726839597]},\n",
       " {'Pharmacist, community': [0.9955533596837944, 0.004446640316205534]},\n",
       " {'Pharmacist, hospital': [0.9773371104815864, 0.0226628895184136]},\n",
       " {'Pharmacologist': [0.9904153354632588, 0.009584664536741214]},\n",
       " {'Physicist, medical': [0.9949720670391061, 0.005027932960893855]},\n",
       " {'Physiological scientist': [1.0]},\n",
       " {'Physiotherapist': [0.9958713602781399, 0.004128639721860061]},\n",
       " {'Phytotherapist': [0.9919354838709677, 0.008064516129032258]},\n",
       " {'Pilot, airline': [0.9931220830262835, 0.006877916973716531]},\n",
       " {'Planning and development surveyor': [1.0]},\n",
       " {'Plant breeder/geneticist': [0.9905660377358491, 0.009433962264150943]},\n",
       " {'Podiatrist': [0.9938373666015331, 0.006162633398466857]},\n",
       " {'Police officer': [0.9902458056964495, 0.009754194303550527]},\n",
       " {\"Politician's assistant\": [0.9869375907111756, 0.013062409288824383]},\n",
       " {'Presenter, broadcasting': [0.9846005774783445, 0.015399422521655439]},\n",
       " {'Press photographer': [0.997289972899729, 0.0027100271002710027]},\n",
       " {'Press sub': [1.0]},\n",
       " {'Primary school teacher': [0.9824561403508771, 0.017543859649122806]},\n",
       " {'Prison officer': [0.9915804244869321, 0.008419575513067884]},\n",
       " {'Private music teacher': [0.9884863802302724, 0.011513619769727604]},\n",
       " {'Probation officer': [0.9924610894941635, 0.007538910505836576]},\n",
       " {'Producer, radio': [0.9916425586628094, 0.008357441337190614]},\n",
       " {'Producer, television/film/video': [0.9837728194726166,\n",
       "   0.016227180527383367]},\n",
       " {'Product designer': [0.9956777996070727, 0.004322200392927309]},\n",
       " {'Product manager': [0.9910802775024777, 0.008919722497522299]},\n",
       " {'Product/process development scientist': [0.996039603960396,\n",
       "   0.0039603960396039604]},\n",
       " {'Production assistant, radio': [0.991270611057226, 0.008729388942774006]},\n",
       " {'Production assistant, television': [0.9849340866290018,\n",
       "   0.015065913370998116]},\n",
       " {'Production engineer': [0.9928338762214983, 0.0071661237785016286]},\n",
       " {'Production manager': [0.997065536354744, 0.0029344636452559502]},\n",
       " {'Professor Emeritus': [0.9921568627450981, 0.00784313725490196]},\n",
       " {'Programme researcher, broadcasting/film/video': [0.9966265060240964,\n",
       "   0.0033734939759036144]},\n",
       " {'Programmer, applications': [0.9900990099009901, 0.009900990099009901]},\n",
       " {'Programmer, multimedia': [0.9953470337340055, 0.0046529662659945716]},\n",
       " {'Psychiatric nurse': [1.0]},\n",
       " {'Psychiatrist': [0.994693680656054, 0.005306319343945972]},\n",
       " {'Psychologist, clinical': [0.9910198845413727, 0.008980115458627326]},\n",
       " {'Psychologist, counselling': [0.9983074753173484, 0.001692524682651622]},\n",
       " {'Psychologist, forensic': [0.9950693937180424, 0.004930606281957633]},\n",
       " {'Psychologist, sport and exercise': [0.9899328859060402,\n",
       "   0.010067114093959731]},\n",
       " {'Psychotherapist': [0.99658203125, 0.00341796875]},\n",
       " {'Psychotherapist, child': [0.9941391941391942, 0.005860805860805861]},\n",
       " {'Public affairs consultant': [0.9896245059288538, 0.010375494071146246]},\n",
       " {'Public house manager': [0.9960745829244357, 0.003925417075564278]},\n",
       " {'Public librarian': [0.9927963326784545, 0.007203667321545514]},\n",
       " {'Public relations account executive': [0.9952888668484999,\n",
       "   0.004711133151500124]},\n",
       " {'Public relations officer': [0.9903474903474904, 0.009652509652509652]},\n",
       " {'Purchasing manager': [0.9801980198019802, 0.019801980198019802]},\n",
       " {'Quantity surveyor': [0.9914984059511158, 0.008501594048884165]},\n",
       " {'Quarry manager': [1.0]},\n",
       " {'Race relations officer': [0.9917229361794816, 0.008277063820518406]},\n",
       " {'Radio broadcast assistant': [0.9980362208160594, 0.00196377918394065]},\n",
       " {'Radio producer': [0.9954407294832827, 0.004559270516717325]},\n",
       " {'Radiographer, diagnostic': [0.9930966469428008, 0.006903353057199211]},\n",
       " {'Radiographer, therapeutic': [0.9970501474926253, 0.0029498525073746312]},\n",
       " {'Records manager': [0.992748846407383, 0.007251153592617007]},\n",
       " {'Regulatory affairs officer': [0.9938411669367909, 0.006158833063209076]},\n",
       " {'Research officer, political party': [0.9936340990866316,\n",
       "   0.006365900913368392]},\n",
       " {'Research officer, trade union': [0.9960718294051627, 0.003928170594837262]},\n",
       " {'Research scientist (life sciences)': [0.9960591133004926,\n",
       "   0.003940886699507389]},\n",
       " {'Research scientist (maths)': [0.9928710304601426, 0.007128969539857421]},\n",
       " {'Research scientist (medical)': [0.9920870425321464, 0.00791295746785361]},\n",
       " {'Research scientist (physical sciences)': [0.9972999035679846,\n",
       "   0.002700096432015429]},\n",
       " {'Restaurant manager, fast food': [0.9828571428571429, 0.017142857142857144]},\n",
       " {'Retail banker': [1.0]},\n",
       " {'Retail buyer': [0.990426041168023, 0.009573958831977022]},\n",
       " {'Retail manager': [0.9922630560928434, 0.007736943907156673]},\n",
       " {'Retail merchandiser': [0.9941585535465924, 0.0058414464534075105]},\n",
       " {'Risk analyst': [0.9922928709055877, 0.007707129094412331]},\n",
       " {'Rural practice surveyor': [0.9927583936800527, 0.007241606319947334]},\n",
       " {'Sales executive': [0.9858429858429858, 0.014157014157014158]},\n",
       " {'Sales professional, IT': [0.9931121986586913, 0.0068878013413086825]},\n",
       " {'Sales promotion account executive': [1.0]},\n",
       " {'Science writer': [0.9967060647161403, 0.003293935283859717]},\n",
       " {'Scientific laboratory technician': [0.9921182266009853,\n",
       "   0.007881773399014778]},\n",
       " {'Scientist, audiological': [0.9949818790075272, 0.005018120992472818]},\n",
       " {'Scientist, biomedical': [0.9893462469733656, 0.010653753026634382]},\n",
       " {'Scientist, clinical (histocompatibility and immunogenetics)': [1.0]},\n",
       " {'Scientist, marine': [0.9950874435056003, 0.0049125564943996855]},\n",
       " {'Scientist, physiological': [0.9899377096310493, 0.010062290368950648]},\n",
       " {'Scientist, research (maths)': [0.9954538074362721, 0.004546192563727878]},\n",
       " {'Scientist, research (medical)': [1.0]},\n",
       " {'Scientist, research (physical sciences)': [0.9955947136563876,\n",
       "   0.004405286343612335]},\n",
       " {'Secondary school teacher': [0.9934034587270458, 0.006596541272954181]},\n",
       " {'Secretary/administrator': [0.9931840311587147, 0.006815968841285297]},\n",
       " {'Seismic interpreter': [0.99373795761079, 0.006262042389210019]},\n",
       " {'Senior tax professional/tax inspector': [0.9890404286410132,\n",
       "   0.010959571358986848]},\n",
       " {'Set designer': [0.9877022653721683, 0.012297734627831715]},\n",
       " {'Ship broker': [1.0]},\n",
       " {'Site engineer': [0.9964401294498382, 0.0035598705501618125]},\n",
       " {'Social research officer, government': [1.0]},\n",
       " {'Social researcher': [0.9950097635061835, 0.004990236493816446]},\n",
       " {'Soil scientist': [0.990306320279178, 0.009693679720822024]},\n",
       " {'Solicitor': [1.0]},\n",
       " {'Solicitor, Scotland': [0.9788461538461538, 0.021153846153846155]},\n",
       " {'Special educational needs teacher': [0.9978427142576975,\n",
       "   0.0021572857423024124]},\n",
       " {'Special effects artist': [0.9903969270166453, 0.009603072983354673]},\n",
       " {'Sport and exercise psychologist': [0.9941888619854722,\n",
       "   0.005811138014527845]},\n",
       " {'Sports administrator': [0.9914691943127962, 0.008530805687203791]},\n",
       " {'Sports development officer': [0.9928639391056137, 0.007136060894386299]},\n",
       " {'Stage manager': [1.0]},\n",
       " {'Statistician': [0.9988457098884186, 0.0011542901115813775]},\n",
       " {'Structural engineer': [0.9971894322653176, 0.002810567734682406]},\n",
       " {'Sub': [0.9979107595881211, 0.002089240411878824]},\n",
       " {'Surgeon': [0.9958917351377478, 0.004108264862252296]},\n",
       " {'Surveyor, hydrographic': [1.0]},\n",
       " {'Surveyor, land/geomatics': [0.9942396313364056, 0.00576036866359447]},\n",
       " {'Surveyor, minerals': [0.9945079086115993, 0.005492091388400703]},\n",
       " {'Surveyor, mining': [0.990990990990991, 0.009009009009009009]},\n",
       " {'Surveyor, rural practice': [1.0]},\n",
       " {'Systems analyst': [0.9905424200278165, 0.009457579972183588]},\n",
       " {'Systems developer': [0.9983116883116883, 0.0016883116883116883]},\n",
       " {'TEFL teacher': [0.9587242026266416, 0.04127579737335835]},\n",
       " {'Tax adviser': [0.9952700039416634, 0.004729996058336618]},\n",
       " {'Tax inspector': [0.9973727422003285, 0.002627257799671593]},\n",
       " {'Teacher, English as a foreign language': [0.9881070366699702,\n",
       "   0.011892963330029732]},\n",
       " {'Teacher, adult education': [0.980544747081712, 0.019455252918287938]},\n",
       " {'Teacher, early years/pre': [0.9911540008041817, 0.008845999195818254]},\n",
       " {'Teacher, primary school': [1.0]},\n",
       " {'Teacher, secondary school': [0.9964692036092585, 0.003530796390741467]},\n",
       " {'Teacher, special educational needs': [0.9934697431432303,\n",
       "   0.006530256856769699]},\n",
       " {'Teaching laboratory technician': [1.0]},\n",
       " {'Technical brewer': [0.998062015503876, 0.001937984496124031]},\n",
       " {'Telecommunications researcher': [0.9956730769230769, 0.004326923076923077]},\n",
       " {'Television camera operator': [1.0]},\n",
       " {'Television floor manager': [0.9929712460063898, 0.007028753993610224]},\n",
       " {'Television production assistant': [0.9917936694021102,\n",
       "   0.008206330597889801]},\n",
       " {'Television/film/video producer': [0.9910541586073501,\n",
       "   0.008945841392649903]},\n",
       " {'Textile designer': [0.9845857418111753, 0.015414258188824663]},\n",
       " {'Theatre director': [0.9877656149388281, 0.012234385061171926]},\n",
       " {'Theatre manager': [0.9967845659163987, 0.003215434083601286]},\n",
       " {'Theme park manager': [0.9934967483741871, 0.0065032516258129065]},\n",
       " {'Therapist, art': [0.9968676585747847, 0.0031323414252153485]},\n",
       " {'Therapist, drama': [0.9961089494163424, 0.0038910505836575876]},\n",
       " {'Therapist, horticultural': [0.992879746835443, 0.007120253164556962]},\n",
       " {'Therapist, music': [0.993514915693904, 0.00648508430609598]},\n",
       " {'Therapist, occupational': [0.996722027972028, 0.003277972027972028]},\n",
       " {'Therapist, sports': [1.0]},\n",
       " {'Tour manager': [1.0]},\n",
       " {'Tourism officer': [0.9949494949494949, 0.005050505050505051]},\n",
       " {'Tourist information centre manager': [0.9974076474400518,\n",
       "   0.002592352559948153]},\n",
       " {'Town planner': [0.9973500361358709, 0.0026499638641291254]},\n",
       " {'Toxicologist': [0.9980578334052654, 0.0019421665947345706]},\n",
       " {'Trade mark attorney': [0.9970697401836296, 0.0029302598163703846]},\n",
       " {'Trading standards officer': [0.9879336349924586, 0.012066365007541479]},\n",
       " {'Training and development officer': [0.9909735654416505,\n",
       "   0.009026434558349452]},\n",
       " {'Transport planner': [0.988560533841754, 0.011439466158245948]},\n",
       " {'Travel agency manager': [0.9938150126511105, 0.006184987348889514]},\n",
       " {'Tree surgeon': [0.9939528962444303, 0.0060471037555697]},\n",
       " {'Veterinary surgeon': [1.0]},\n",
       " {'Video editor': [0.9938411669367909, 0.006158833063209076]},\n",
       " {'Visual merchandiser': [1.0]},\n",
       " {'Volunteer coordinator': [0.9960474308300395, 0.003952569169960474]},\n",
       " {'Warden/ranger': [0.9937684486716957, 0.006231551328304362]},\n",
       " {'Warehouse manager': [1.0]},\n",
       " {'Waste management officer': [0.9936958234830575, 0.006304176516942475]},\n",
       " {'Water engineer': [1.0]},\n",
       " {'Water quality scientist': [0.9862745098039216, 0.013725490196078431]},\n",
       " {'Web designer': [0.9929577464788732, 0.007042253521126761]},\n",
       " {'Wellsite geologist': [0.9923106497500961, 0.007689350249903883]},\n",
       " {'Writer': [0.9702380952380952, 0.02976190476190476]}]"
      ]
     },
     "execution_count": 370,
     "metadata": {},
     "output_type": "execute_result"
    }
   ],
   "source": [
    "find_prob_each(label, 'job')"
   ]
  },
  {
   "cell_type": "code",
   "execution_count": 368,
   "id": "realistic-system",
   "metadata": {},
   "outputs": [],
   "source": [
    "def group_entropy(feature):\n",
    "    an_entropy = {}\n",
    "    prob_list = find_prob_each(label, feature)\n",
    "    \n",
    "    for prob in prob_list:\n",
    "        key = list(prob.keys())[0]\n",
    "        print(key)\n",
    "#         if len(prob[key]) <= 2:\n",
    "        an_entropy[key] = -prob[key][0]*np.log2(prob[key][0]) - prob[key][1]*np.log2(prob[key][1])\n",
    "#         else:\n",
    "#             an_entropy[key] = -prob[key][0]*np.log2(prob[key][0])\n",
    "#     output = {feature: an_entropy}\n",
    "\n",
    "#fix and sort by entropy\n",
    "    return output"
   ]
  },
  {
   "cell_type": "code",
   "execution_count": 365,
   "id": "expensive-carpet",
   "metadata": {},
   "outputs": [
    {
     "name": "stdout",
     "output_type": "stream",
     "text": [
      "Early Morning\n",
      "Eve\n",
      "Late Night\n",
      "Morning\n",
      "Night\n",
      "Noon\n"
     ]
    },
    {
     "data": {
      "text/plain": [
       "{'trans_time': {'Early Morning': 0.013487246960286206,\n",
       "  'Eve': 0.012908404091699724,\n",
       "  'Late Night': 0.09440844981158651,\n",
       "  'Morning': 0.01162587585750961,\n",
       "  'Night': 0.1390888369869611,\n",
       "  'Noon': 0.013648500753889249}}"
      ]
     },
     "execution_count": 365,
     "metadata": {},
     "output_type": "execute_result"
    }
   ],
   "source": [
    "group_entropy('trans_time')"
   ]
  },
  {
   "cell_type": "code",
   "execution_count": 369,
   "id": "split-think",
   "metadata": {},
   "outputs": [
    {
     "name": "stdout",
     "output_type": "stream",
     "text": [
      "Academic librarian\n",
      "Accountant, chartered\n"
     ]
    },
    {
     "ename": "IndexError",
     "evalue": "list index out of range",
     "output_type": "error",
     "traceback": [
      "\u001b[1;31m---------------------------------------------------------------------------\u001b[0m",
      "\u001b[1;31mIndexError\u001b[0m                                Traceback (most recent call last)",
      "\u001b[1;32m<ipython-input-369-6470e954af29>\u001b[0m in \u001b[0;36m<module>\u001b[1;34m\u001b[0m\n\u001b[1;32m----> 1\u001b[1;33m \u001b[0mgroup_entropy\u001b[0m\u001b[1;33m(\u001b[0m\u001b[1;34m'job'\u001b[0m\u001b[1;33m)\u001b[0m\u001b[1;33m\u001b[0m\u001b[1;33m\u001b[0m\u001b[0m\n\u001b[0m",
      "\u001b[1;32m<ipython-input-368-f99bcc7c4ff3>\u001b[0m in \u001b[0;36mgroup_entropy\u001b[1;34m(feature)\u001b[0m\n\u001b[0;32m      7\u001b[0m         \u001b[0mprint\u001b[0m\u001b[1;33m(\u001b[0m\u001b[0mkey\u001b[0m\u001b[1;33m)\u001b[0m\u001b[1;33m\u001b[0m\u001b[1;33m\u001b[0m\u001b[0m\n\u001b[0;32m      8\u001b[0m \u001b[1;31m#         if len(prob[key]) <= 2:\u001b[0m\u001b[1;33m\u001b[0m\u001b[1;33m\u001b[0m\u001b[1;33m\u001b[0m\u001b[0m\n\u001b[1;32m----> 9\u001b[1;33m         \u001b[0man_entropy\u001b[0m\u001b[1;33m[\u001b[0m\u001b[0mkey\u001b[0m\u001b[1;33m]\u001b[0m \u001b[1;33m=\u001b[0m \u001b[1;33m-\u001b[0m\u001b[0mprob\u001b[0m\u001b[1;33m[\u001b[0m\u001b[0mkey\u001b[0m\u001b[1;33m]\u001b[0m\u001b[1;33m[\u001b[0m\u001b[1;36m0\u001b[0m\u001b[1;33m]\u001b[0m\u001b[1;33m*\u001b[0m\u001b[0mnp\u001b[0m\u001b[1;33m.\u001b[0m\u001b[0mlog2\u001b[0m\u001b[1;33m(\u001b[0m\u001b[0mprob\u001b[0m\u001b[1;33m[\u001b[0m\u001b[0mkey\u001b[0m\u001b[1;33m]\u001b[0m\u001b[1;33m[\u001b[0m\u001b[1;36m0\u001b[0m\u001b[1;33m]\u001b[0m\u001b[1;33m)\u001b[0m \u001b[1;33m-\u001b[0m \u001b[0mprob\u001b[0m\u001b[1;33m[\u001b[0m\u001b[0mkey\u001b[0m\u001b[1;33m]\u001b[0m\u001b[1;33m[\u001b[0m\u001b[1;36m1\u001b[0m\u001b[1;33m]\u001b[0m\u001b[1;33m*\u001b[0m\u001b[0mnp\u001b[0m\u001b[1;33m.\u001b[0m\u001b[0mlog2\u001b[0m\u001b[1;33m(\u001b[0m\u001b[0mprob\u001b[0m\u001b[1;33m[\u001b[0m\u001b[0mkey\u001b[0m\u001b[1;33m]\u001b[0m\u001b[1;33m[\u001b[0m\u001b[1;36m1\u001b[0m\u001b[1;33m]\u001b[0m\u001b[1;33m)\u001b[0m\u001b[1;33m\u001b[0m\u001b[1;33m\u001b[0m\u001b[0m\n\u001b[0m\u001b[0;32m     10\u001b[0m \u001b[1;31m#         else:\u001b[0m\u001b[1;33m\u001b[0m\u001b[1;33m\u001b[0m\u001b[1;33m\u001b[0m\u001b[0m\n\u001b[0;32m     11\u001b[0m \u001b[1;31m#             an_entropy[key] = -prob[key][0]*np.log2(prob[key][0])\u001b[0m\u001b[1;33m\u001b[0m\u001b[1;33m\u001b[0m\u001b[1;33m\u001b[0m\u001b[0m\n",
      "\u001b[1;31mIndexError\u001b[0m: list index out of range"
     ]
    }
   ],
   "source": [
    "group_entropy('job')"
   ]
  },
  {
   "cell_type": "code",
   "execution_count": 263,
   "id": "chinese-gardening",
   "metadata": {},
   "outputs": [],
   "source": [
    "# def entropy_numeric(label, feature):\n",
    "#     \"\"\"\n",
    "#     find an entropy value of feature with numeric input.\n",
    "#     using binary split by mean value.\n",
    "    \n",
    "#     parameters\n",
    "#     ----------------------------------------\n",
    "#     feature: str - column from pandas dataframe\n",
    "#     \"\"\"\n",
    "#     greater_than_eq_df = df[[label, feature]][df[feature] >=df[feature].mean()]\n",
    "#     less_than_df = df[[label, feature]][df[feature] < df[feature].mean()]\n",
    "#     condition_dfs = [greater_than_eq_df, less_than_df]\n",
    "    \n",
    "#     prob_list = [{'greater_than_eq_mean': []}, {'less_than_mean': []}]\n",
    "    \n",
    "#     for d in condition_dfs:\n",
    "#         for r in range(len(d[label].value_counts())):\n",
    "# #             print(d[label].value_counts())\n",
    "#             feature_prob = d[label].value_counts()[r]/len(d)\n",
    "#             print(feature_prob)\n",
    "#             if  d.equals(greater_than_eq_df):\n",
    "#                 print(True)\n",
    "#                 prob_list[0]['greater_than_eq_mean'].append(feature_prob)\n",
    "\n",
    "#             else:\n",
    "#                 print(False)\n",
    "#                 prob_list[1]['less_than_mean'].append(feature_prob)\n",
    "\n",
    "#     return prob_list"
   ]
  },
  {
   "cell_type": "code",
   "execution_count": null,
   "id": "sorted-january",
   "metadata": {},
   "outputs": [],
   "source": []
  },
  {
   "cell_type": "code",
   "execution_count": 359,
   "id": "powerful-deviation",
   "metadata": {},
   "outputs": [],
   "source": [
    "def info_gain(intial_entropy, feature):\n",
    "    \"\"\"\n",
    "    float, float, list\n",
    "    find information gain\n",
    "    \n",
    "    output: float\n",
    "    \"\"\"\n",
    "    group_entropy = group_entropy_prob(feature)\n",
    "    total_entropy = 0\n",
    "    length_df = len(df)\n",
    "    \n",
    "    for i in group_entropy[feature]:\n",
    "        total_entropy += (len(df[feature][df[feature] == i])/length_df) * group_entropy[feature][i]\n",
    "#         print(i)\n",
    "    return intial_entropy - (total_entropy)"
   ]
  },
  {
   "cell_type": "code",
   "execution_count": 360,
   "id": "fatty-father",
   "metadata": {},
   "outputs": [
    {
     "data": {
      "text/plain": [
       "0.005616795811733417"
      ]
     },
     "execution_count": 360,
     "metadata": {},
     "output_type": "execute_result"
    }
   ],
   "source": [
    "info_gain(intial_entropy, 'trans_time')"
   ]
  },
  {
   "cell_type": "code",
   "execution_count": 362,
   "id": "rental-overview",
   "metadata": {},
   "outputs": [
    {
     "name": "stdout",
     "output_type": "stream",
     "text": [
      "category\n",
      "amt\n",
      "is_male\n",
      "lat\n",
      "long\n",
      "city_pop\n"
     ]
    },
    {
     "ename": "IndexError",
     "evalue": "list index out of range",
     "output_type": "error",
     "traceback": [
      "\u001b[1;31m---------------------------------------------------------------------------\u001b[0m",
      "\u001b[1;31mIndexError\u001b[0m                                Traceback (most recent call last)",
      "\u001b[1;32m<ipython-input-362-758d22621b27>\u001b[0m in \u001b[0;36m<module>\u001b[1;34m\u001b[0m\n\u001b[0;32m      4\u001b[0m \u001b[1;33m\u001b[0m\u001b[0m\n\u001b[0;32m      5\u001b[0m \u001b[1;32mfor\u001b[0m \u001b[0mfeature\u001b[0m \u001b[1;32min\u001b[0m \u001b[0mfeatures\u001b[0m\u001b[1;33m:\u001b[0m\u001b[1;33m\u001b[0m\u001b[1;33m\u001b[0m\u001b[0m\n\u001b[1;32m----> 6\u001b[1;33m     \u001b[0mdf_ig\u001b[0m\u001b[1;33m[\u001b[0m\u001b[1;34m'information_gain'\u001b[0m\u001b[1;33m]\u001b[0m\u001b[1;33m.\u001b[0m\u001b[0mappend\u001b[0m\u001b[1;33m(\u001b[0m\u001b[0minfo_gain\u001b[0m\u001b[1;33m(\u001b[0m\u001b[0mintial_entropy\u001b[0m\u001b[1;33m,\u001b[0m \u001b[0mfeature\u001b[0m\u001b[1;33m)\u001b[0m\u001b[1;33m)\u001b[0m\u001b[1;33m\u001b[0m\u001b[1;33m\u001b[0m\u001b[0m\n\u001b[0m\u001b[0;32m      7\u001b[0m     \u001b[0mprint\u001b[0m\u001b[1;33m(\u001b[0m\u001b[0mfeature\u001b[0m\u001b[1;33m)\u001b[0m\u001b[1;33m\u001b[0m\u001b[1;33m\u001b[0m\u001b[0m\n\u001b[0;32m      8\u001b[0m \u001b[0mdf_ig\u001b[0m \u001b[1;33m=\u001b[0m \u001b[0mpd\u001b[0m\u001b[1;33m.\u001b[0m\u001b[0mDataFrame\u001b[0m\u001b[1;33m.\u001b[0m\u001b[0mfrom_dict\u001b[0m\u001b[1;33m(\u001b[0m\u001b[0mdf_ig\u001b[0m\u001b[1;33m)\u001b[0m\u001b[1;33m\u001b[0m\u001b[1;33m\u001b[0m\u001b[0m\n",
      "\u001b[1;32m<ipython-input-359-fa9a1fa43d53>\u001b[0m in \u001b[0;36minfo_gain\u001b[1;34m(intial_entropy, feature)\u001b[0m\n\u001b[0;32m      6\u001b[0m     \u001b[0moutput\u001b[0m\u001b[1;33m:\u001b[0m \u001b[0mfloat\u001b[0m\u001b[1;33m\u001b[0m\u001b[1;33m\u001b[0m\u001b[0m\n\u001b[0;32m      7\u001b[0m     \"\"\"\n\u001b[1;32m----> 8\u001b[1;33m     \u001b[0mgroup_entropy\u001b[0m \u001b[1;33m=\u001b[0m \u001b[0mgroup_entropy_prob\u001b[0m\u001b[1;33m(\u001b[0m\u001b[0mfeature\u001b[0m\u001b[1;33m)\u001b[0m\u001b[1;33m\u001b[0m\u001b[1;33m\u001b[0m\u001b[0m\n\u001b[0m\u001b[0;32m      9\u001b[0m     \u001b[0mtotal_entropy\u001b[0m \u001b[1;33m=\u001b[0m \u001b[1;36m0\u001b[0m\u001b[1;33m\u001b[0m\u001b[1;33m\u001b[0m\u001b[0m\n\u001b[0;32m     10\u001b[0m     \u001b[0mlength_df\u001b[0m \u001b[1;33m=\u001b[0m \u001b[0mlen\u001b[0m\u001b[1;33m(\u001b[0m\u001b[0mdf\u001b[0m\u001b[1;33m)\u001b[0m\u001b[1;33m\u001b[0m\u001b[1;33m\u001b[0m\u001b[0m\n",
      "\u001b[1;32m<ipython-input-333-68365cc520d2>\u001b[0m in \u001b[0;36mgroup_entropy_prob\u001b[1;34m(feature)\u001b[0m\n\u001b[0;32m      5\u001b[0m     \u001b[1;32mfor\u001b[0m \u001b[0mprob\u001b[0m \u001b[1;32min\u001b[0m \u001b[0mprob_list\u001b[0m\u001b[1;33m:\u001b[0m\u001b[1;33m\u001b[0m\u001b[1;33m\u001b[0m\u001b[0m\n\u001b[0;32m      6\u001b[0m         \u001b[0mkey\u001b[0m \u001b[1;33m=\u001b[0m \u001b[0mlist\u001b[0m\u001b[1;33m(\u001b[0m\u001b[0mprob\u001b[0m\u001b[1;33m.\u001b[0m\u001b[0mkeys\u001b[0m\u001b[1;33m(\u001b[0m\u001b[1;33m)\u001b[0m\u001b[1;33m)\u001b[0m\u001b[1;33m[\u001b[0m\u001b[1;36m0\u001b[0m\u001b[1;33m]\u001b[0m\u001b[1;33m\u001b[0m\u001b[1;33m\u001b[0m\u001b[0m\n\u001b[1;32m----> 7\u001b[1;33m         \u001b[0man_entropy_group\u001b[0m\u001b[1;33m[\u001b[0m\u001b[0mkey\u001b[0m\u001b[1;33m]\u001b[0m \u001b[1;33m=\u001b[0m \u001b[1;33m-\u001b[0m\u001b[0mprob\u001b[0m\u001b[1;33m[\u001b[0m\u001b[0mkey\u001b[0m\u001b[1;33m]\u001b[0m\u001b[1;33m[\u001b[0m\u001b[1;36m0\u001b[0m\u001b[1;33m]\u001b[0m\u001b[1;33m*\u001b[0m\u001b[0mnp\u001b[0m\u001b[1;33m.\u001b[0m\u001b[0mlog2\u001b[0m\u001b[1;33m(\u001b[0m\u001b[0mprob\u001b[0m\u001b[1;33m[\u001b[0m\u001b[0mkey\u001b[0m\u001b[1;33m]\u001b[0m\u001b[1;33m[\u001b[0m\u001b[1;36m0\u001b[0m\u001b[1;33m]\u001b[0m\u001b[1;33m)\u001b[0m \u001b[1;33m-\u001b[0m \u001b[0mprob\u001b[0m\u001b[1;33m[\u001b[0m\u001b[0mkey\u001b[0m\u001b[1;33m]\u001b[0m\u001b[1;33m[\u001b[0m\u001b[1;36m1\u001b[0m\u001b[1;33m]\u001b[0m\u001b[1;33m*\u001b[0m\u001b[0mnp\u001b[0m\u001b[1;33m.\u001b[0m\u001b[0mlog2\u001b[0m\u001b[1;33m(\u001b[0m\u001b[0mprob\u001b[0m\u001b[1;33m[\u001b[0m\u001b[0mkey\u001b[0m\u001b[1;33m]\u001b[0m\u001b[1;33m[\u001b[0m\u001b[1;36m1\u001b[0m\u001b[1;33m]\u001b[0m\u001b[1;33m)\u001b[0m\u001b[1;33m\u001b[0m\u001b[1;33m\u001b[0m\u001b[0m\n\u001b[0m\u001b[0;32m      8\u001b[0m     \u001b[0moutput\u001b[0m \u001b[1;33m=\u001b[0m \u001b[1;33m{\u001b[0m\u001b[0mfeature\u001b[0m\u001b[1;33m:\u001b[0m \u001b[0man_entropy_group\u001b[0m\u001b[1;33m}\u001b[0m\u001b[1;33m\u001b[0m\u001b[1;33m\u001b[0m\u001b[0m\n\u001b[0;32m      9\u001b[0m     \u001b[1;32mreturn\u001b[0m \u001b[0moutput\u001b[0m\u001b[1;33m\u001b[0m\u001b[1;33m\u001b[0m\u001b[0m\n",
      "\u001b[1;31mIndexError\u001b[0m: list index out of range"
     ]
    }
   ],
   "source": [
    "import time\n",
    "start_time = time.time()\n",
    "df_ig = {'information_gain': []}\n",
    "\n",
    "for feature in features:\n",
    "    df_ig['information_gain'].append(info_gain(intial_entropy, feature))\n",
    "    print(feature)\n",
    "df_ig = pd.DataFrame.from_dict(df_ig)\n",
    "df_ig.index = features\n",
    "print(\"--- %s seconds ---\" % (time.time() - start_time))\n",
    "df_ig"
   ]
  },
  {
   "cell_type": "code",
   "execution_count": 291,
   "id": "referenced-needle",
   "metadata": {},
   "outputs": [
    {
     "data": {
      "text/plain": [
       "{'trans_time': {'Early Morning': 0.013487246960286206,\n",
       "  'Eve': 0.012908404091699724,\n",
       "  'Late Night': 0.09440844981158651,\n",
       "  'Morning': 0.01162587585750961,\n",
       "  'Night': 0.1390888369869611,\n",
       "  'Noon': 0.013648500753889249}}"
      ]
     },
     "execution_count": 291,
     "metadata": {},
     "output_type": "execute_result"
    }
   ],
   "source": [
    "group_entropy_prob('trans_time')"
   ]
  },
  {
   "cell_type": "code",
   "execution_count": 346,
   "id": "finite-firewall",
   "metadata": {},
   "outputs": [
    {
     "name": "stdout",
     "output_type": "stream",
     "text": [
      "0.013487246960286206\n",
      "0.012908404091699724\n",
      "0.09440844981158651\n",
      "0.01162587585750961\n",
      "0.1390888369869611\n",
      "0.013648500753889249\n"
     ]
    }
   ],
   "source": [
    "test = {'trans_time': {'Early Morning': 0.013487246960286206,\n",
    "  'Eve': 0.012908404091699724,\n",
    "  'Late Night': 0.09440844981158651,\n",
    "  'Morning': 0.01162587585750961,\n",
    "  'Night': 0.1390888369869611,\n",
    "  'Noon': 0.013648500753889249}}\n",
    "for i in test['trans_time']:\n",
    "    print(test['trans_time'][i])"
   ]
  },
  {
   "cell_type": "code",
   "execution_count": 347,
   "id": "dying-entertainment",
   "metadata": {},
   "outputs": [
    {
     "name": "stdout",
     "output_type": "stream",
     "text": [
      "Early Morning\n",
      "Eve\n",
      "Late Night\n",
      "Morning\n",
      "Night\n",
      "Noon\n"
     ]
    }
   ],
   "source": [
    "for i in test['trans_time']:\n",
    "    print(i)"
   ]
  },
  {
   "cell_type": "code",
   "execution_count": 295,
   "id": "three-trailer",
   "metadata": {},
   "outputs": [
    {
     "data": {
      "text/plain": [
       "0.2015277536776756"
      ]
     },
     "execution_count": 295,
     "metadata": {},
     "output_type": "execute_result"
    }
   ],
   "source": [
    "len(df['trans_time'][df['trans_time'] == 'Noon'])/len(df)"
   ]
  },
  {
   "cell_type": "code",
   "execution_count": null,
   "id": "german-gross",
   "metadata": {},
   "outputs": [],
   "source": [
    "542374.9357186068"
   ]
  },
  {
   "cell_type": "code",
   "execution_count": 94,
   "id": "grave-civilization",
   "metadata": {},
   "outputs": [
    {
     "name": "stdout",
     "output_type": "stream",
     "text": [
      "131659\n",
      "123638\n",
      "123115\n",
      "116672\n",
      "113035\n",
      "97543\n",
      "94014\n",
      "91461\n",
      "90758\n",
      "85879\n",
      "79655\n",
      "63287\n",
      "45452\n",
      "40507\n"
     ]
    }
   ],
   "source": [
    "for f in df['category'].value_counts():\n",
    "    print(f)"
   ]
  },
  {
   "cell_type": "code",
   "execution_count": 31,
   "id": "golden-graphic",
   "metadata": {},
   "outputs": [
    {
     "data": {
      "text/plain": [
       "4"
      ]
     },
     "execution_count": 31,
     "metadata": {},
     "output_type": "execute_result"
    }
   ],
   "source": [
    "len(df.groupby(['is_male', label]).size())"
   ]
  },
  {
   "cell_type": "code",
   "execution_count": null,
   "id": "official-relations",
   "metadata": {},
   "outputs": [],
   "source": []
  },
  {
   "cell_type": "code",
   "execution_count": null,
   "id": "unsigned-appointment",
   "metadata": {},
   "outputs": [],
   "source": []
  },
  {
   "cell_type": "code",
   "execution_count": null,
   "id": "tracked-italic",
   "metadata": {},
   "outputs": [],
   "source": []
  },
  {
   "cell_type": "code",
   "execution_count": null,
   "id": "absent-estimate",
   "metadata": {},
   "outputs": [],
   "source": []
  },
  {
   "cell_type": "code",
   "execution_count": null,
   "id": "permanent-satellite",
   "metadata": {},
   "outputs": [],
   "source": []
  },
  {
   "cell_type": "code",
   "execution_count": 114,
   "id": "utility-hands",
   "metadata": {},
   "outputs": [
    {
     "data": {
      "text/plain": [
       "[0, 1]"
      ]
     },
     "execution_count": 114,
     "metadata": {},
     "output_type": "execute_result"
    }
   ],
   "source": [
    "df['is_fraud'].value_counts().index.tolist()"
   ]
  },
  {
   "cell_type": "code",
   "execution_count": null,
   "id": "solar-natural",
   "metadata": {},
   "outputs": [],
   "source": [
    "def test_split()\n",
    "\n",
    "def get_split(dataframe, n_features, features):\n",
    "    class_values = df[label].value_counts().index.tolist()\n",
    "    b_index, b_value, b_score, b_groups = 999, 999, 999, None\n",
    "#     features random in forest part\n",
    "    for feature in features\n",
    "\n",
    "def decision_tree(train, max_depth, min_size, n_features):\n",
    "    root = get_split(train, n_features)\n",
    "    split(root, max_depth, min_size, n_feature, 1)\n",
    "    return root"
   ]
  }
 ],
 "metadata": {
  "kernelspec": {
   "display_name": "Python 3",
   "language": "python",
   "name": "python3"
  },
  "language_info": {
   "codemirror_mode": {
    "name": "ipython",
    "version": 3
   },
   "file_extension": ".py",
   "mimetype": "text/x-python",
   "name": "python",
   "nbconvert_exporter": "python",
   "pygments_lexer": "ipython3",
   "version": "3.9.1"
  }
 },
 "nbformat": 4,
 "nbformat_minor": 5
}
