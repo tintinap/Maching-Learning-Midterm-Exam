{
 "cells": [
  {
   "cell_type": "code",
   "execution_count": 526,
   "id": "current-frederick",
   "metadata": {},
   "outputs": [],
   "source": [
    "import pandas as pd\n",
    "import numpy as np\n",
    "\n",
    "import matplotlib.pyplot as plt\n",
    "import seaborn as sns\n",
    "%matplotlib inline\n",
    "pd.set_option('display.max_columns', 500)"
   ]
  },
  {
   "cell_type": "code",
   "execution_count": 527,
   "id": "developmental-perth",
   "metadata": {},
   "outputs": [],
   "source": [
    "filename = 'cleaned_fraudTrain.csv'"
   ]
  },
  {
   "cell_type": "code",
   "execution_count": 528,
   "id": "fantastic-respect",
   "metadata": {},
   "outputs": [
    {
     "name": "stdout",
     "output_type": "stream",
     "text": [
      "(1296675, 14)\n"
     ]
    },
    {
     "data": {
      "text/html": [
       "<div>\n",
       "<style scoped>\n",
       "    .dataframe tbody tr th:only-of-type {\n",
       "        vertical-align: middle;\n",
       "    }\n",
       "\n",
       "    .dataframe tbody tr th {\n",
       "        vertical-align: top;\n",
       "    }\n",
       "\n",
       "    .dataframe thead th {\n",
       "        text-align: right;\n",
       "    }\n",
       "</style>\n",
       "<table border=\"1\" class=\"dataframe\">\n",
       "  <thead>\n",
       "    <tr style=\"text-align: right;\">\n",
       "      <th></th>\n",
       "      <th>category</th>\n",
       "      <th>amt</th>\n",
       "      <th>is_male</th>\n",
       "      <th>lat</th>\n",
       "      <th>long</th>\n",
       "      <th>city_pop</th>\n",
       "      <th>job</th>\n",
       "      <th>unix_time</th>\n",
       "      <th>is_fraud</th>\n",
       "      <th>state_city</th>\n",
       "      <th>age</th>\n",
       "      <th>trans_time</th>\n",
       "      <th>trans_year</th>\n",
       "      <th>trans_month</th>\n",
       "    </tr>\n",
       "  </thead>\n",
       "  <tbody>\n",
       "    <tr>\n",
       "      <th>0</th>\n",
       "      <td>misc_net</td>\n",
       "      <td>4.97</td>\n",
       "      <td>0</td>\n",
       "      <td>36.0788</td>\n",
       "      <td>-81.1781</td>\n",
       "      <td>3495</td>\n",
       "      <td>Psychologist, counselling</td>\n",
       "      <td>1325376018</td>\n",
       "      <td>0</td>\n",
       "      <td>28654, Moravian Falls, NC</td>\n",
       "      <td>31</td>\n",
       "      <td>Late Night</td>\n",
       "      <td>2019</td>\n",
       "      <td>1</td>\n",
       "    </tr>\n",
       "    <tr>\n",
       "      <th>1</th>\n",
       "      <td>grocery_pos</td>\n",
       "      <td>107.23</td>\n",
       "      <td>0</td>\n",
       "      <td>48.8878</td>\n",
       "      <td>-118.2105</td>\n",
       "      <td>149</td>\n",
       "      <td>Special educational needs teacher</td>\n",
       "      <td>1325376044</td>\n",
       "      <td>0</td>\n",
       "      <td>99160, Orient, WA</td>\n",
       "      <td>41</td>\n",
       "      <td>Late Night</td>\n",
       "      <td>2019</td>\n",
       "      <td>1</td>\n",
       "    </tr>\n",
       "    <tr>\n",
       "      <th>2</th>\n",
       "      <td>entertainment</td>\n",
       "      <td>220.11</td>\n",
       "      <td>1</td>\n",
       "      <td>42.1808</td>\n",
       "      <td>-112.2620</td>\n",
       "      <td>4154</td>\n",
       "      <td>Nature conservation officer</td>\n",
       "      <td>1325376051</td>\n",
       "      <td>0</td>\n",
       "      <td>83252, Malad City, ID</td>\n",
       "      <td>57</td>\n",
       "      <td>Late Night</td>\n",
       "      <td>2019</td>\n",
       "      <td>1</td>\n",
       "    </tr>\n",
       "    <tr>\n",
       "      <th>3</th>\n",
       "      <td>gas_transport</td>\n",
       "      <td>45.00</td>\n",
       "      <td>1</td>\n",
       "      <td>46.2306</td>\n",
       "      <td>-112.1138</td>\n",
       "      <td>1939</td>\n",
       "      <td>Patent attorney</td>\n",
       "      <td>1325376076</td>\n",
       "      <td>0</td>\n",
       "      <td>59632, Boulder, MT</td>\n",
       "      <td>52</td>\n",
       "      <td>Late Night</td>\n",
       "      <td>2019</td>\n",
       "      <td>1</td>\n",
       "    </tr>\n",
       "    <tr>\n",
       "      <th>4</th>\n",
       "      <td>misc_pos</td>\n",
       "      <td>41.96</td>\n",
       "      <td>1</td>\n",
       "      <td>38.4207</td>\n",
       "      <td>-79.4629</td>\n",
       "      <td>99</td>\n",
       "      <td>Dance movement psychotherapist</td>\n",
       "      <td>1325376186</td>\n",
       "      <td>0</td>\n",
       "      <td>24433, Doe Hill, VA</td>\n",
       "      <td>33</td>\n",
       "      <td>Late Night</td>\n",
       "      <td>2019</td>\n",
       "      <td>1</td>\n",
       "    </tr>\n",
       "  </tbody>\n",
       "</table>\n",
       "</div>"
      ],
      "text/plain": [
       "        category     amt  is_male      lat      long  city_pop  \\\n",
       "0       misc_net    4.97        0  36.0788  -81.1781      3495   \n",
       "1    grocery_pos  107.23        0  48.8878 -118.2105       149   \n",
       "2  entertainment  220.11        1  42.1808 -112.2620      4154   \n",
       "3  gas_transport   45.00        1  46.2306 -112.1138      1939   \n",
       "4       misc_pos   41.96        1  38.4207  -79.4629        99   \n",
       "\n",
       "                                 job   unix_time  is_fraud  \\\n",
       "0          Psychologist, counselling  1325376018         0   \n",
       "1  Special educational needs teacher  1325376044         0   \n",
       "2        Nature conservation officer  1325376051         0   \n",
       "3                    Patent attorney  1325376076         0   \n",
       "4     Dance movement psychotherapist  1325376186         0   \n",
       "\n",
       "                  state_city  age  trans_time  trans_year  trans_month  \n",
       "0  28654, Moravian Falls, NC   31  Late Night        2019            1  \n",
       "1          99160, Orient, WA   41  Late Night        2019            1  \n",
       "2      83252, Malad City, ID   57  Late Night        2019            1  \n",
       "3         59632, Boulder, MT   52  Late Night        2019            1  \n",
       "4        24433, Doe Hill, VA   33  Late Night        2019            1  "
      ]
     },
     "execution_count": 528,
     "metadata": {},
     "output_type": "execute_result"
    }
   ],
   "source": [
    "# import Dataset\n",
    "path = '../dataset/midterm_dataset/'+filename\n",
    "df = pd.read_csv(path)\n",
    "\n",
    "row_num = df.shape[0]\n",
    "feature_num = df.shape[1]\n",
    "\n",
    "print(df.shape)\n",
    "df.head()"
   ]
  },
  {
   "cell_type": "code",
   "execution_count": 529,
   "id": "legendary-sunset",
   "metadata": {},
   "outputs": [
    {
     "data": {
      "text/plain": [
       "'is_fraud'"
      ]
     },
     "execution_count": 529,
     "metadata": {},
     "output_type": "execute_result"
    }
   ],
   "source": [
    "label = 'is_fraud'\n",
    "label"
   ]
  },
  {
   "cell_type": "code",
   "execution_count": 530,
   "id": "passing-engineer",
   "metadata": {},
   "outputs": [
    {
     "name": "stdout",
     "output_type": "stream",
     "text": [
      "['category', 'amt', 'is_male', 'lat', 'long', 'city_pop', 'job', 'unix_time', 'state_city', 'age', 'trans_time', 'trans_year', 'trans_month']\n"
     ]
    }
   ],
   "source": [
    "features = df.loc[:, df.columns != label].columns.tolist()\n",
    "print(features)"
   ]
  },
  {
   "cell_type": "markdown",
   "id": "scenic-identification",
   "metadata": {},
   "source": [
    "<h1> Decision Tree"
   ]
  },
  {
   "cell_type": "markdown",
   "id": "scientific-terrace",
   "metadata": {},
   "source": [
    "<h2> Intial Entropy 'is_fraud'"
   ]
  },
  {
   "cell_type": "code",
   "execution_count": 532,
   "id": "center-facility",
   "metadata": {},
   "outputs": [
    {
     "name": "stdout",
     "output_type": "stream",
     "text": [
      "0    1289169\n",
      "1       7506\n",
      "Name: is_fraud, dtype: int64\n",
      "Probability Yes : 0.005788651743883394\n",
      "Probability No : 0.9942113482561166\n"
     ]
    }
   ],
   "source": [
    "#find intial Entropy 'is_fraud'\n",
    "print(df[label].value_counts())\n",
    "p_1_fraud = df[label].value_counts()[1]/len(df[label])\n",
    "print('Probability Yes :', p_1_fraud)\n",
    "p_0_fraud = df[label].value_counts()[0]/len(df[label])\n",
    "print('Probability No :', p_0_fraud)"
   ]
  },
  {
   "cell_type": "code",
   "execution_count": 533,
   "id": "cathedral-smoke",
   "metadata": {},
   "outputs": [
    {
     "data": {
      "text/plain": [
       "0.05135152470435041"
      ]
     },
     "execution_count": 533,
     "metadata": {},
     "output_type": "execute_result"
    }
   ],
   "source": [
    "intial_entropy = -p_1_fraud*np.log2(p_1_fraud)-p_0_fraud*np.log2(p_0_fraud)\n",
    "intial_entropy"
   ]
  },
  {
   "cell_type": "code",
   "execution_count": 534,
   "id": "german-girlfriend",
   "metadata": {
    "scrolled": false
   },
   "outputs": [],
   "source": [
    "def find_prob_each(label, feature, df=df):\n",
    "    \"\"\"\n",
    "    helper function for group_entropy function\n",
    "    \"\"\"\n",
    "\n",
    "    temp_df = df.groupby([feature, label])\n",
    "    prob_list = []\n",
    "    if len(temp_df.size())< 2000 and feature not in ['age', 'lat', 'long', 'city_pop']:  \n",
    "        for r in range(len(temp_df.size())):\n",
    "                feature_prob = temp_df.size().values[r]/ \\\n",
    "                    len(df[feature][df[feature] == temp_df.size().index[r][0]])\n",
    "                prob_feature = {}\n",
    "                prob_feature[temp_df.size().index[r]] = feature_prob\n",
    "                featu = ''\n",
    "                if len(prob_list) == 0:\n",
    "                    featu = temp_df.size().index[r][0]\n",
    "                    prob_list.append({featu : [0.0, 0.0]})\n",
    "                    if temp_df.size().index[r][1] == 1:\n",
    "                        prob_list[-1][featu][1] = feature_prob\n",
    "                    else:\n",
    "                        prob_list[-1][featu][0] = feature_prob\n",
    "                elif temp_df.size().index[r][0] in prob_list[-1]: #append 2nd value\n",
    "#                     print(df.groupby([feature, label]).size().index[r][0], r,feature_prob, temp_df.size().index[r][1])\n",
    "#                     print(prob_list[-1][temp_df.size().index[r][0]])\n",
    "                    if temp_df.size().index[r][1] == 1:\n",
    "                        prob_list[-1][temp_df.size().index[r][0]][1] = feature_prob\n",
    "                    else:\n",
    "                        prob_list[-1][temp_df.size().index[r][0]][0] = feature_prob\n",
    "                else:\n",
    "                    featu = temp_df.size().index[r][0]\n",
    "                    prob_list.append({featu : [0.0, 0.0]})\n",
    "                    if temp_df.size().index[r][1] == 1:\n",
    "                        prob_list[-1][featu][1] = feature_prob\n",
    "                    else:\n",
    "                        prob_list[-1][featu][0] = feature_prob\n",
    "                    \n",
    "    else: #numeric feature\n",
    "        greater_than_eq_df = df[[label, feature]][df[feature] >=df[feature].mean()]\n",
    "        less_than_df = df[[label, feature]][df[feature] < df[feature].mean()]\n",
    "        condition_dfs = [greater_than_eq_df, less_than_df]\n",
    "    \n",
    "        prob_list = [{'greater_than_eq_mean': []}, {'less_than_mean': []}]\n",
    "    \n",
    "        for d in condition_dfs:\n",
    "            for r in range(len(d[label].value_counts())):\n",
    "                feature_prob = d[label].value_counts()[r]/len(d)\n",
    "#                 print(feature_prob)\n",
    "                if  d.equals(greater_than_eq_df):\n",
    "                    prob_list[0]['greater_than_eq_mean'].append(feature_prob)\n",
    "\n",
    "                else:\n",
    "                    prob_list[1]['less_than_mean'].append(feature_prob)\n",
    "    p_dict = {}\n",
    "    [p_dict.update(i) for i in prob_list]\n",
    "    \n",
    "    return p_dict"
   ]
  },
  {
   "cell_type": "code",
   "execution_count": 536,
   "id": "alternative-vehicle",
   "metadata": {},
   "outputs": [],
   "source": [
    "import math\n",
    "def group_entropy(feature, df=df):\n",
    "    \"\"\"\n",
    "    give most pure feature in sorted_feature part\n",
    "    note: the most pure value = 0\n",
    "    \"\"\"\n",
    "    an_entropy = {}\n",
    "    prob_dict = find_prob_each(label, feature, df)\n",
    "    \n",
    "    for key in prob_dict:\n",
    "        index0 = prob_dict[key][0]*np.log2(prob_dict[key][0])\n",
    "        index1 = prob_dict[key][1]*np.log2(prob_dict[key][1])\n",
    "        if math.isnan(index0): index0 = 0\n",
    "        if math.isnan(index1): index1 = 0\n",
    "        an_entropy[key] = -index0 -index1\n",
    "\n",
    "    output = {\n",
    "        feature: an_entropy,\n",
    "        'sorted_feature' : []\n",
    "    }\n",
    "    t = [(k, v) for k, v in output[feature].items()]\n",
    "    t.sort(key=lambda x : x[1])\n",
    "    output['sorted_feature'] = t\n",
    "\n",
    "    return output"
   ]
  },
  {
   "cell_type": "code",
   "execution_count": 538,
   "id": "powerful-deviation",
   "metadata": {},
   "outputs": [],
   "source": [
    "def info_gain(intial_entropy, feature, df=df):\n",
    "    \"\"\"\n",
    "    float, float, list\n",
    "    find information gain\n",
    "    \n",
    "    output: float\n",
    "    \"\"\"\n",
    "    g_entropy = group_entropy(feature, df)\n",
    "    total_entropy = 0\n",
    "    length_df = len(df)\n",
    "    \n",
    "    for i in g_entropy[feature]:\n",
    "        if math.isnan((len(df[feature][df[feature] == i])/length_df) * g_entropy[feature][i]):\n",
    "            total_entropy += 0\n",
    "        else:\n",
    "            total_entropy += (len(df[feature][df[feature] == i])/length_df) * g_entropy[feature][i]\n",
    "#         print(i)\n",
    "    return intial_entropy - (total_entropy)"
   ]
  },
  {
   "cell_type": "code",
   "execution_count": 540,
   "id": "neither-columbia",
   "metadata": {
    "collapsed": true
   },
   "outputs": [
    {
     "name": "stdout",
     "output_type": "stream",
     "text": [
      "category\n",
      "amt\n",
      "is_male\n",
      "lat\n",
      "long\n",
      "city_pop\n"
     ]
    },
    {
     "name": "stderr",
     "output_type": "stream",
     "text": [
      "<ipython-input-536-32d36d306264>:11: RuntimeWarning: divide by zero encountered in log2\n",
      "  index0 = prob_dict[key][0]*np.log2(prob_dict[key][0])\n",
      "<ipython-input-536-32d36d306264>:11: RuntimeWarning: invalid value encountered in double_scalars\n",
      "  index0 = prob_dict[key][0]*np.log2(prob_dict[key][0])\n",
      "<ipython-input-536-32d36d306264>:12: RuntimeWarning: divide by zero encountered in log2\n",
      "  index1 = prob_dict[key][1]*np.log2(prob_dict[key][1])\n",
      "<ipython-input-536-32d36d306264>:12: RuntimeWarning: invalid value encountered in double_scalars\n",
      "  index1 = prob_dict[key][1]*np.log2(prob_dict[key][1])\n"
     ]
    },
    {
     "name": "stdout",
     "output_type": "stream",
     "text": [
      "job\n",
      "unix_time\n"
     ]
    },
    {
     "name": "stderr",
     "output_type": "stream",
     "text": [
      "<ipython-input-536-32d36d306264>:11: RuntimeWarning: divide by zero encountered in log2\n",
      "  index0 = prob_dict[key][0]*np.log2(prob_dict[key][0])\n",
      "<ipython-input-536-32d36d306264>:11: RuntimeWarning: invalid value encountered in double_scalars\n",
      "  index0 = prob_dict[key][0]*np.log2(prob_dict[key][0])\n",
      "<ipython-input-536-32d36d306264>:12: RuntimeWarning: divide by zero encountered in log2\n",
      "  index1 = prob_dict[key][1]*np.log2(prob_dict[key][1])\n",
      "<ipython-input-536-32d36d306264>:12: RuntimeWarning: invalid value encountered in double_scalars\n",
      "  index1 = prob_dict[key][1]*np.log2(prob_dict[key][1])\n"
     ]
    },
    {
     "name": "stdout",
     "output_type": "stream",
     "text": [
      "state_city\n",
      "age\n",
      "trans_time\n",
      "trans_year\n",
      "trans_month\n",
      "--- 441.23811388015747 seconds ---\n"
     ]
    },
    {
     "data": {
      "text/html": [
       "<div>\n",
       "<style scoped>\n",
       "    .dataframe tbody tr th:only-of-type {\n",
       "        vertical-align: middle;\n",
       "    }\n",
       "\n",
       "    .dataframe tbody tr th {\n",
       "        vertical-align: top;\n",
       "    }\n",
       "\n",
       "    .dataframe thead th {\n",
       "        text-align: right;\n",
       "    }\n",
       "</style>\n",
       "<table border=\"1\" class=\"dataframe\">\n",
       "  <thead>\n",
       "    <tr style=\"text-align: right;\">\n",
       "      <th></th>\n",
       "      <th>information_gain</th>\n",
       "    </tr>\n",
       "  </thead>\n",
       "  <tbody>\n",
       "    <tr>\n",
       "      <th>category</th>\n",
       "      <td>0.003107</td>\n",
       "    </tr>\n",
       "    <tr>\n",
       "      <th>amt</th>\n",
       "      <td>0.051352</td>\n",
       "    </tr>\n",
       "    <tr>\n",
       "      <th>is_male</th>\n",
       "      <td>0.000042</td>\n",
       "    </tr>\n",
       "    <tr>\n",
       "      <th>lat</th>\n",
       "      <td>0.051352</td>\n",
       "    </tr>\n",
       "    <tr>\n",
       "      <th>long</th>\n",
       "      <td>0.051352</td>\n",
       "    </tr>\n",
       "    <tr>\n",
       "      <th>city_pop</th>\n",
       "      <td>0.051352</td>\n",
       "    </tr>\n",
       "    <tr>\n",
       "      <th>job</th>\n",
       "      <td>0.003134</td>\n",
       "    </tr>\n",
       "    <tr>\n",
       "      <th>unix_time</th>\n",
       "      <td>0.051352</td>\n",
       "    </tr>\n",
       "    <tr>\n",
       "      <th>state_city</th>\n",
       "      <td>0.007758</td>\n",
       "    </tr>\n",
       "    <tr>\n",
       "      <th>age</th>\n",
       "      <td>0.051352</td>\n",
       "    </tr>\n",
       "    <tr>\n",
       "      <th>trans_time</th>\n",
       "      <td>0.005617</td>\n",
       "    </tr>\n",
       "    <tr>\n",
       "      <th>trans_year</th>\n",
       "      <td>0.000006</td>\n",
       "    </tr>\n",
       "    <tr>\n",
       "      <th>trans_month</th>\n",
       "      <td>0.000252</td>\n",
       "    </tr>\n",
       "  </tbody>\n",
       "</table>\n",
       "</div>"
      ],
      "text/plain": [
       "             information_gain\n",
       "category             0.003107\n",
       "amt                  0.051352\n",
       "is_male              0.000042\n",
       "lat                  0.051352\n",
       "long                 0.051352\n",
       "city_pop             0.051352\n",
       "job                  0.003134\n",
       "unix_time            0.051352\n",
       "state_city           0.007758\n",
       "age                  0.051352\n",
       "trans_time           0.005617\n",
       "trans_year           0.000006\n",
       "trans_month          0.000252"
      ]
     },
     "execution_count": 540,
     "metadata": {},
     "output_type": "execute_result"
    }
   ],
   "source": [
    "import time\n",
    "start_time = time.time()\n",
    "df_ig = {'information_gain': []}\n",
    "\n",
    "for feature in features:\n",
    "    df_ig['information_gain'].append(info_gain(intial_entropy, feature))\n",
    "    print(feature)\n",
    "df_ig = pd.DataFrame.from_dict(df_ig)\n",
    "df_ig.index = features\n",
    "print(\"--- %s seconds ---\" % (time.time() - start_time))\n",
    "df_ig"
   ]
  },
  {
   "cell_type": "markdown",
   "id": "spoken-jason",
   "metadata": {},
   "source": [
    "<h2> Information Gain table"
   ]
  },
  {
   "cell_type": "code",
   "execution_count": 543,
   "id": "enhanced-cassette",
   "metadata": {},
   "outputs": [
    {
     "data": {
      "text/html": [
       "<div>\n",
       "<style scoped>\n",
       "    .dataframe tbody tr th:only-of-type {\n",
       "        vertical-align: middle;\n",
       "    }\n",
       "\n",
       "    .dataframe tbody tr th {\n",
       "        vertical-align: top;\n",
       "    }\n",
       "\n",
       "    .dataframe thead th {\n",
       "        text-align: right;\n",
       "    }\n",
       "</style>\n",
       "<table border=\"1\" class=\"dataframe\">\n",
       "  <thead>\n",
       "    <tr style=\"text-align: right;\">\n",
       "      <th></th>\n",
       "      <th>information_gain</th>\n",
       "    </tr>\n",
       "  </thead>\n",
       "  <tbody>\n",
       "    <tr>\n",
       "      <th>amt</th>\n",
       "      <td>0.051352</td>\n",
       "    </tr>\n",
       "    <tr>\n",
       "      <th>lat</th>\n",
       "      <td>0.051352</td>\n",
       "    </tr>\n",
       "    <tr>\n",
       "      <th>long</th>\n",
       "      <td>0.051352</td>\n",
       "    </tr>\n",
       "    <tr>\n",
       "      <th>city_pop</th>\n",
       "      <td>0.051352</td>\n",
       "    </tr>\n",
       "    <tr>\n",
       "      <th>unix_time</th>\n",
       "      <td>0.051352</td>\n",
       "    </tr>\n",
       "    <tr>\n",
       "      <th>age</th>\n",
       "      <td>0.051352</td>\n",
       "    </tr>\n",
       "    <tr>\n",
       "      <th>state_city</th>\n",
       "      <td>0.007758</td>\n",
       "    </tr>\n",
       "    <tr>\n",
       "      <th>trans_time</th>\n",
       "      <td>0.005617</td>\n",
       "    </tr>\n",
       "    <tr>\n",
       "      <th>job</th>\n",
       "      <td>0.003134</td>\n",
       "    </tr>\n",
       "    <tr>\n",
       "      <th>category</th>\n",
       "      <td>0.003107</td>\n",
       "    </tr>\n",
       "    <tr>\n",
       "      <th>trans_month</th>\n",
       "      <td>0.000252</td>\n",
       "    </tr>\n",
       "    <tr>\n",
       "      <th>is_male</th>\n",
       "      <td>0.000042</td>\n",
       "    </tr>\n",
       "    <tr>\n",
       "      <th>trans_year</th>\n",
       "      <td>0.000006</td>\n",
       "    </tr>\n",
       "  </tbody>\n",
       "</table>\n",
       "</div>"
      ],
      "text/plain": [
       "             information_gain\n",
       "amt                  0.051352\n",
       "lat                  0.051352\n",
       "long                 0.051352\n",
       "city_pop             0.051352\n",
       "unix_time            0.051352\n",
       "age                  0.051352\n",
       "state_city           0.007758\n",
       "trans_time           0.005617\n",
       "job                  0.003134\n",
       "category             0.003107\n",
       "trans_month          0.000252\n",
       "is_male              0.000042\n",
       "trans_year           0.000006"
      ]
     },
     "execution_count": 543,
     "metadata": {},
     "output_type": "execute_result"
    }
   ],
   "source": [
    "df_ig.sort_values(by=['information_gain'], inplace=True, ascending=False)\n",
    "df_ig"
   ]
  },
  {
   "cell_type": "code",
   "execution_count": 544,
   "id": "political-voice",
   "metadata": {},
   "outputs": [],
   "source": [
    "df_ig.to_csv('info_gain_all_feature.csv')"
   ]
  },
  {
   "cell_type": "code",
   "execution_count": 600,
   "id": "incorrect-consultancy",
   "metadata": {},
   "outputs": [
    {
     "name": "stdout",
     "output_type": "stream",
     "text": [
      "--- 0.18853020668029785 seconds ---\n"
     ]
    }
   ],
   "source": [
    "start_time = time.time()\n",
    "find_prob_each(label, 'city_pop')\n",
    "print(\"--- %s seconds ---\" % (time.time() - start_time))"
   ]
  },
  {
   "cell_type": "markdown",
   "id": "compliant-minimum",
   "metadata": {},
   "source": [
    "<h2> Training"
   ]
  },
  {
   "cell_type": "code",
   "execution_count": 568,
   "id": "radical-glance",
   "metadata": {},
   "outputs": [],
   "source": [
    "X = df[features]"
   ]
  },
  {
   "cell_type": "code",
   "execution_count": 563,
   "id": "designed-voice",
   "metadata": {},
   "outputs": [],
   "source": [
    "y = df[label]"
   ]
  },
  {
   "cell_type": "code",
   "execution_count": 585,
   "id": "hearing-affairs",
   "metadata": {},
   "outputs": [],
   "source": [
    "def extract_feature_point(feature, value, df=df):\n",
    "    #check type\n",
    "    if type(value) != str and feature not in ['is_male', 'trans_year', 'trans_month']:\n",
    "        mean_val = df[feature].mean()\n",
    "        if value >= mean_val:\n",
    "            value = 'greater_than_eq_mean'\n",
    "        else:\n",
    "            value = 'less_than_mean'\n",
    "#         print(value)\n",
    "    prob_dict = find_prob_each(label, feature, df)\n",
    "    \n",
    "    #append value\n",
    "    if value not in prob_dict:\n",
    "        #return 0 when hv no data\n",
    "        return [0, 0]\n",
    "    elif value in prob_dict:\n",
    "        #return point\n",
    "        return [100*prob_dict[value][0]*float(df_ig.loc[feature,:]), 100*prob_dict[value][1]*float(df_ig.loc[feature,:])]"
   ]
  },
  {
   "cell_type": "code",
   "execution_count": 602,
   "id": "balanced-prague",
   "metadata": {},
   "outputs": [],
   "source": [
    "def row_desicion_tree_predictor(an_row=[], features=[], df=df):\n",
    "    not_fraud = []\n",
    "    fraud = []\n",
    "#     an_row = an_df_row.values.tolist()[0]\n",
    "    for i, feature in enumerate(features):\n",
    "        point = extract_feature_point(feature, an_row[i], df)\n",
    "        not_fraud.append(point[0])\n",
    "        fraud.append(point[1])\n",
    "#         print(feature,':',point,'done')\n",
    "#     print('predicting')\n",
    "    #predicting\n",
    "    nfra_mean = np.mean(not_fraud)\n",
    "    fra_mean = np.mean(fraud)\n",
    "    if nfra_mean >= fra_mean:\n",
    "        return 0\n",
    "    else:\n",
    "        return 1"
   ]
  },
  {
   "cell_type": "code",
   "execution_count": 570,
   "id": "raising-niagara",
   "metadata": {},
   "outputs": [
    {
     "data": {
      "text/html": [
       "<div>\n",
       "<style scoped>\n",
       "    .dataframe tbody tr th:only-of-type {\n",
       "        vertical-align: middle;\n",
       "    }\n",
       "\n",
       "    .dataframe tbody tr th {\n",
       "        vertical-align: top;\n",
       "    }\n",
       "\n",
       "    .dataframe thead th {\n",
       "        text-align: right;\n",
       "    }\n",
       "</style>\n",
       "<table border=\"1\" class=\"dataframe\">\n",
       "  <thead>\n",
       "    <tr style=\"text-align: right;\">\n",
       "      <th></th>\n",
       "      <th>category</th>\n",
       "      <th>amt</th>\n",
       "      <th>is_male</th>\n",
       "      <th>lat</th>\n",
       "      <th>long</th>\n",
       "      <th>city_pop</th>\n",
       "      <th>job</th>\n",
       "      <th>unix_time</th>\n",
       "      <th>state_city</th>\n",
       "      <th>age</th>\n",
       "      <th>trans_time</th>\n",
       "      <th>trans_year</th>\n",
       "      <th>trans_month</th>\n",
       "    </tr>\n",
       "  </thead>\n",
       "  <tbody>\n",
       "    <tr>\n",
       "      <th>0</th>\n",
       "      <td>misc_net</td>\n",
       "      <td>4.97</td>\n",
       "      <td>0</td>\n",
       "      <td>36.0788</td>\n",
       "      <td>-81.1781</td>\n",
       "      <td>3495</td>\n",
       "      <td>Psychologist, counselling</td>\n",
       "      <td>1325376018</td>\n",
       "      <td>28654, Moravian Falls, NC</td>\n",
       "      <td>31</td>\n",
       "      <td>Late Night</td>\n",
       "      <td>2019</td>\n",
       "      <td>1</td>\n",
       "    </tr>\n",
       "  </tbody>\n",
       "</table>\n",
       "</div>"
      ],
      "text/plain": [
       "   category   amt  is_male      lat     long  city_pop  \\\n",
       "0  misc_net  4.97        0  36.0788 -81.1781      3495   \n",
       "\n",
       "                         job   unix_time                 state_city  age  \\\n",
       "0  Psychologist, counselling  1325376018  28654, Moravian Falls, NC   31   \n",
       "\n",
       "   trans_time  trans_year  trans_month  \n",
       "0  Late Night        2019            1  "
      ]
     },
     "execution_count": 570,
     "metadata": {},
     "output_type": "execute_result"
    }
   ],
   "source": [
    "test_row = X.iloc[:1,]\n",
    "test_row"
   ]
  },
  {
   "cell_type": "code",
   "execution_count": 571,
   "id": "compliant-battle",
   "metadata": {},
   "outputs": [
    {
     "data": {
      "text/plain": [
       "[['misc_net',\n",
       "  4.97,\n",
       "  0,\n",
       "  36.0788,\n",
       "  -81.1781,\n",
       "  3495,\n",
       "  'Psychologist, counselling',\n",
       "  1325376018,\n",
       "  '28654, Moravian Falls, NC',\n",
       "  31,\n",
       "  'Late Night',\n",
       "  2019,\n",
       "  1]]"
      ]
     },
     "execution_count": 571,
     "metadata": {},
     "output_type": "execute_result"
    }
   ],
   "source": [
    "test_row.values.tolist()[0]"
   ]
  },
  {
   "cell_type": "code",
   "execution_count": 587,
   "id": "alone-level",
   "metadata": {
    "scrolled": true
   },
   "outputs": [
    {
     "name": "stdout",
     "output_type": "stream",
     "text": [
      "category : [0.3062509341312417, 0.004492714755500645] done\n",
      "amt : [5.125355775577171, 0.009796694857868833] done\n",
      "is_male : [0.004170577287174324, 2.2059890228961464e-05] done\n",
      "lat : [5.106119252098383, 0.029033218336658322] done\n",
      "long : [5.103939356925165, 0.0312131135098758] done\n",
      "city_pop : [5.1059456008036, 0.029206869631440757] done\n",
      "job : [0.3128966442507416, 0.000530483149337228] done\n",
      "unix_time : [5.104835203424424, 0.030317267010616628] done\n",
      "state_city : [0.7758375872953027, 0.0] done\n",
      "age : [5.110097081769208, 0.025055388665833067] done\n",
      "trans_time : [0.5548837175496107, 0.006795863623730988] done\n",
      "trans_year : [0.0006395697544481696, 3.6303231932619047e-06] done\n",
      "trans_month : [0.025020226894132268, 0.00020449154424534836] done\n",
      "predicting\n"
     ]
    },
    {
     "data": {
      "text/plain": [
       "0"
      ]
     },
     "execution_count": 587,
     "metadata": {},
     "output_type": "execute_result"
    }
   ],
   "source": [
    "row_desicion_tree_predictor(test_row.values.tolist()[0], features)"
   ]
  },
  {
   "cell_type": "code",
   "execution_count": 605,
   "id": "governmental-infrared",
   "metadata": {},
   "outputs": [],
   "source": [
    "def desicion_tree_predictor(X, features):\n",
    "    \"\"\"\n",
    "    return list of predicting point\n",
    "    \"\"\"\n",
    "    x_list = X.values.tolist()\n",
    "    return [row_desicion_tree_predictor(row, features) for row in x_list]"
   ]
  },
  {
   "cell_type": "code",
   "execution_count": null,
   "id": "precious-active",
   "metadata": {},
   "outputs": [],
   "source": [
    "start_time = time.time()\n",
    "predicted_list = desicion_tree_predictor(X, features)\n",
    "print(\"--- %s seconds ---\" % (time.time() - start_time))\n",
    "predicted_list"
   ]
  },
  {
   "cell_type": "code",
   "execution_count": null,
   "id": "experienced-railway",
   "metadata": {},
   "outputs": [],
   "source": [
    "predicted_list"
   ]
  },
  {
   "cell_type": "markdown",
   "id": "ongoing-april",
   "metadata": {},
   "source": [
    "<H2> Evaluation"
   ]
  },
  {
   "cell_type": "code",
   "execution_count": null,
   "id": "exterior-compatibility",
   "metadata": {},
   "outputs": [],
   "source": [
    "# import Dataset\n",
    "path = '../dataset/midterm_dataset/cleaned_fraudTest.csv'\n",
    "df_test = pd.read_csv(path)\n",
    "\n",
    "row_num = df_test.shape[0]\n",
    "feature_num = df_test.shape[1]\n",
    "\n",
    "print(df_test.shape)\n",
    "df_test.head()"
   ]
  },
  {
   "cell_type": "code",
   "execution_count": null,
   "id": "excessive-hybrid",
   "metadata": {},
   "outputs": [],
   "source": [
    "X_test[features]\n",
    "X_test.head()"
   ]
  },
  {
   "cell_type": "code",
   "execution_count": null,
   "id": "absent-calvin",
   "metadata": {},
   "outputs": [],
   "source": [
    "y_test[label]\n",
    "y_test.head()"
   ]
  },
  {
   "cell_type": "code",
   "execution_count": null,
   "id": "worth-valuation",
   "metadata": {},
   "outputs": [],
   "source": [
    "start_time = time.time()\n",
    "predicted_test_list = desicion_tree_predictor(X_test, features)\n",
    "print(\"--- %s seconds ---\" % (time.time() - start_time))\n",
    "predicted_test_list"
   ]
  }
 ],
 "metadata": {
  "kernelspec": {
   "display_name": "Python 3",
   "language": "python",
   "name": "python3"
  },
  "language_info": {
   "codemirror_mode": {
    "name": "ipython",
    "version": 3
   },
   "file_extension": ".py",
   "mimetype": "text/x-python",
   "name": "python",
   "nbconvert_exporter": "python",
   "pygments_lexer": "ipython3",
   "version": "3.9.1"
  }
 },
 "nbformat": 4,
 "nbformat_minor": 5
}
