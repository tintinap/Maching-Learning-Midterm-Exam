{
 "cells": [
  {
   "cell_type": "markdown",
   "id": "accessory-friendly",
   "metadata": {},
   "source": [
    "<h1> Random Forest Classifier"
   ]
  },
  {
   "cell_type": "code",
   "execution_count": 12,
   "id": "bronze-delay",
   "metadata": {},
   "outputs": [],
   "source": [
    "import pandas as pd\n",
    "import numpy as np\n",
    "from random import randrange\n",
    "\n",
    "# import matplotlib.pyplot as plt\n",
    "# import seaborn as sns\n",
    "# %matplotlib inline\n",
    "pd.set_option('display.max_columns', 500)"
   ]
  },
  {
   "cell_type": "code",
   "execution_count": 13,
   "id": "developmental-perth",
   "metadata": {},
   "outputs": [],
   "source": [
    "filename = 'cleaned_fraudTrain.csv'"
   ]
  },
  {
   "cell_type": "code",
   "execution_count": 14,
   "id": "fantastic-respect",
   "metadata": {
    "scrolled": true
   },
   "outputs": [
    {
     "output_type": "stream",
     "name": "stdout",
     "text": [
      "(1296675, 14)\n"
     ]
    },
    {
     "output_type": "execute_result",
     "data": {
      "text/plain": [
       "              category     amt  is_male      lat      long  city_pop  \\\n",
       "0             misc_net    4.97        0  36.0788  -81.1781      3495   \n",
       "1          grocery_pos  107.23        0  48.8878 -118.2105       149   \n",
       "2        entertainment  220.11        1  42.1808 -112.2620      4154   \n",
       "3        gas_transport   45.00        1  46.2306 -112.1138      1939   \n",
       "4             misc_pos   41.96        1  38.4207  -79.4629        99   \n",
       "...                ...     ...      ...      ...       ...       ...   \n",
       "1296670  entertainment   15.56        1  37.7175 -112.4777       258   \n",
       "1296671    food_dining   51.70        1  39.2667  -77.5101       100   \n",
       "1296672    food_dining  105.93        1  32.9396 -105.8189       899   \n",
       "1296673    food_dining   74.90        1  43.3526 -102.5411      1126   \n",
       "1296674    food_dining    4.30        1  45.8433 -113.8748       218   \n",
       "\n",
       "                                       job   unix_time  is_fraud  \\\n",
       "0                Psychologist, counselling  1325376018         0   \n",
       "1        Special educational needs teacher  1325376044         0   \n",
       "2              Nature conservation officer  1325376051         0   \n",
       "3                          Patent attorney  1325376076         0   \n",
       "4           Dance movement psychotherapist  1325376186         0   \n",
       "...                                    ...         ...       ...   \n",
       "1296670                       Geoscientist  1371816728         0   \n",
       "1296671   Production assistant, television  1371816739         0   \n",
       "1296672                    Naval architect  1371816752         0   \n",
       "1296673              Volunteer coordinator  1371816816         0   \n",
       "1296674           Therapist, horticultural  1371816817         0   \n",
       "\n",
       "                                  state_city  age  trans_time  trans_year  \\\n",
       "0                  28654, Moravian Falls, NC   31  Late Night        2019   \n",
       "1                          99160, Orient, WA   41  Late Night        2019   \n",
       "2                      83252, Malad City, ID   57  Late Night        2019   \n",
       "3                         59632, Boulder, MT   52  Late Night        2019   \n",
       "4                        24433, Doe Hill, VA   33  Late Night        2019   \n",
       "...                                      ...  ...         ...         ...   \n",
       "1296670                     84735, Hatch, UT   59     Morning        2020   \n",
       "1296671                 21790, Tuscarora, MD   41     Morning        2020   \n",
       "1296672  88325, High Rolls Mountain Park, NM   53     Morning        2020   \n",
       "1296673                 57756, Manderson, SD   40     Morning        2020   \n",
       "1296674                      59871, Sula, MT   25     Morning        2020   \n",
       "\n",
       "         trans_month  \n",
       "0                  1  \n",
       "1                  1  \n",
       "2                  1  \n",
       "3                  1  \n",
       "4                  1  \n",
       "...              ...  \n",
       "1296670            6  \n",
       "1296671            6  \n",
       "1296672            6  \n",
       "1296673            6  \n",
       "1296674            6  \n",
       "\n",
       "[1296675 rows x 14 columns]"
      ],
      "text/html": "<div>\n<style scoped>\n    .dataframe tbody tr th:only-of-type {\n        vertical-align: middle;\n    }\n\n    .dataframe tbody tr th {\n        vertical-align: top;\n    }\n\n    .dataframe thead th {\n        text-align: right;\n    }\n</style>\n<table border=\"1\" class=\"dataframe\">\n  <thead>\n    <tr style=\"text-align: right;\">\n      <th></th>\n      <th>category</th>\n      <th>amt</th>\n      <th>is_male</th>\n      <th>lat</th>\n      <th>long</th>\n      <th>city_pop</th>\n      <th>job</th>\n      <th>unix_time</th>\n      <th>is_fraud</th>\n      <th>state_city</th>\n      <th>age</th>\n      <th>trans_time</th>\n      <th>trans_year</th>\n      <th>trans_month</th>\n    </tr>\n  </thead>\n  <tbody>\n    <tr>\n      <th>0</th>\n      <td>misc_net</td>\n      <td>4.97</td>\n      <td>0</td>\n      <td>36.0788</td>\n      <td>-81.1781</td>\n      <td>3495</td>\n      <td>Psychologist, counselling</td>\n      <td>1325376018</td>\n      <td>0</td>\n      <td>28654, Moravian Falls, NC</td>\n      <td>31</td>\n      <td>Late Night</td>\n      <td>2019</td>\n      <td>1</td>\n    </tr>\n    <tr>\n      <th>1</th>\n      <td>grocery_pos</td>\n      <td>107.23</td>\n      <td>0</td>\n      <td>48.8878</td>\n      <td>-118.2105</td>\n      <td>149</td>\n      <td>Special educational needs teacher</td>\n      <td>1325376044</td>\n      <td>0</td>\n      <td>99160, Orient, WA</td>\n      <td>41</td>\n      <td>Late Night</td>\n      <td>2019</td>\n      <td>1</td>\n    </tr>\n    <tr>\n      <th>2</th>\n      <td>entertainment</td>\n      <td>220.11</td>\n      <td>1</td>\n      <td>42.1808</td>\n      <td>-112.2620</td>\n      <td>4154</td>\n      <td>Nature conservation officer</td>\n      <td>1325376051</td>\n      <td>0</td>\n      <td>83252, Malad City, ID</td>\n      <td>57</td>\n      <td>Late Night</td>\n      <td>2019</td>\n      <td>1</td>\n    </tr>\n    <tr>\n      <th>3</th>\n      <td>gas_transport</td>\n      <td>45.00</td>\n      <td>1</td>\n      <td>46.2306</td>\n      <td>-112.1138</td>\n      <td>1939</td>\n      <td>Patent attorney</td>\n      <td>1325376076</td>\n      <td>0</td>\n      <td>59632, Boulder, MT</td>\n      <td>52</td>\n      <td>Late Night</td>\n      <td>2019</td>\n      <td>1</td>\n    </tr>\n    <tr>\n      <th>4</th>\n      <td>misc_pos</td>\n      <td>41.96</td>\n      <td>1</td>\n      <td>38.4207</td>\n      <td>-79.4629</td>\n      <td>99</td>\n      <td>Dance movement psychotherapist</td>\n      <td>1325376186</td>\n      <td>0</td>\n      <td>24433, Doe Hill, VA</td>\n      <td>33</td>\n      <td>Late Night</td>\n      <td>2019</td>\n      <td>1</td>\n    </tr>\n    <tr>\n      <th>...</th>\n      <td>...</td>\n      <td>...</td>\n      <td>...</td>\n      <td>...</td>\n      <td>...</td>\n      <td>...</td>\n      <td>...</td>\n      <td>...</td>\n      <td>...</td>\n      <td>...</td>\n      <td>...</td>\n      <td>...</td>\n      <td>...</td>\n      <td>...</td>\n    </tr>\n    <tr>\n      <th>1296670</th>\n      <td>entertainment</td>\n      <td>15.56</td>\n      <td>1</td>\n      <td>37.7175</td>\n      <td>-112.4777</td>\n      <td>258</td>\n      <td>Geoscientist</td>\n      <td>1371816728</td>\n      <td>0</td>\n      <td>84735, Hatch, UT</td>\n      <td>59</td>\n      <td>Morning</td>\n      <td>2020</td>\n      <td>6</td>\n    </tr>\n    <tr>\n      <th>1296671</th>\n      <td>food_dining</td>\n      <td>51.70</td>\n      <td>1</td>\n      <td>39.2667</td>\n      <td>-77.5101</td>\n      <td>100</td>\n      <td>Production assistant, television</td>\n      <td>1371816739</td>\n      <td>0</td>\n      <td>21790, Tuscarora, MD</td>\n      <td>41</td>\n      <td>Morning</td>\n      <td>2020</td>\n      <td>6</td>\n    </tr>\n    <tr>\n      <th>1296672</th>\n      <td>food_dining</td>\n      <td>105.93</td>\n      <td>1</td>\n      <td>32.9396</td>\n      <td>-105.8189</td>\n      <td>899</td>\n      <td>Naval architect</td>\n      <td>1371816752</td>\n      <td>0</td>\n      <td>88325, High Rolls Mountain Park, NM</td>\n      <td>53</td>\n      <td>Morning</td>\n      <td>2020</td>\n      <td>6</td>\n    </tr>\n    <tr>\n      <th>1296673</th>\n      <td>food_dining</td>\n      <td>74.90</td>\n      <td>1</td>\n      <td>43.3526</td>\n      <td>-102.5411</td>\n      <td>1126</td>\n      <td>Volunteer coordinator</td>\n      <td>1371816816</td>\n      <td>0</td>\n      <td>57756, Manderson, SD</td>\n      <td>40</td>\n      <td>Morning</td>\n      <td>2020</td>\n      <td>6</td>\n    </tr>\n    <tr>\n      <th>1296674</th>\n      <td>food_dining</td>\n      <td>4.30</td>\n      <td>1</td>\n      <td>45.8433</td>\n      <td>-113.8748</td>\n      <td>218</td>\n      <td>Therapist, horticultural</td>\n      <td>1371816817</td>\n      <td>0</td>\n      <td>59871, Sula, MT</td>\n      <td>25</td>\n      <td>Morning</td>\n      <td>2020</td>\n      <td>6</td>\n    </tr>\n  </tbody>\n</table>\n<p>1296675 rows × 14 columns</p>\n</div>"
     },
     "metadata": {},
     "execution_count": 14
    }
   ],
   "source": [
    "# import Dataset\n",
    "path = '../dataset/midterm_dataset/'+filename\n",
    "df = pd.read_csv(path)\n",
    "\n",
    "row_num = df.shape[0]\n",
    "feature_num = df.shape[1]\n",
    "\n",
    "print(df.shape)\n",
    "df"
   ]
  },
  {
   "cell_type": "markdown",
   "id": "uniform-single",
   "metadata": {},
   "source": [
    "<h2> Normalization"
   ]
  },
  {
   "cell_type": "code",
   "execution_count": 15,
   "id": "eleven-criminal",
   "metadata": {},
   "outputs": [
    {
     "output_type": "execute_result",
     "data": {
      "text/plain": [
       "              category       amt  is_male       lat      long  city_pop  \\\n",
       "0             misc_net  0.000137        0  0.343968  0.864638  0.001194   \n",
       "1          grocery_pos  0.003670        0  0.618450  0.485682  0.000043   \n",
       "2        entertainment  0.007569        1  0.474727  0.546553  0.001421   \n",
       "3        gas_transport  0.001520        1  0.561509  0.548070  0.000659   \n",
       "4             misc_pos  0.001415        1  0.394153  0.882190  0.000026   \n",
       "...                ...       ...      ...       ...       ...       ...   \n",
       "1296670  entertainment  0.000503        1  0.379084  0.544346  0.000081   \n",
       "1296671    food_dining  0.001751        1  0.412281  0.902174  0.000026   \n",
       "1296672    food_dining  0.003625        1  0.276699  0.612486  0.000301   \n",
       "1296673    food_dining  0.002553        1  0.499837  0.646029  0.000379   \n",
       "1296674    food_dining  0.000114        1  0.553210  0.530050  0.000067   \n",
       "\n",
       "                                       job     unix_time  is_fraud  \\\n",
       "0                Psychologist, counselling  0.000000e+00         0   \n",
       "1        Special educational needs teacher  5.598526e-07         0   \n",
       "2              Nature conservation officer  7.105821e-07         0   \n",
       "3                          Patent attorney  1.248902e-06         0   \n",
       "4           Dance movement psychotherapist  3.617509e-06         0   \n",
       "...                                    ...           ...       ...   \n",
       "1296670                       Geoscientist  9.999981e-01         0   \n",
       "1296671   Production assistant, television  9.999983e-01         0   \n",
       "1296672                    Naval architect  9.999986e-01         0   \n",
       "1296673              Volunteer coordinator  1.000000e+00         0   \n",
       "1296674           Therapist, horticultural  1.000000e+00         0   \n",
       "\n",
       "                                  state_city       age  trans_time  \\\n",
       "0                  28654, Moravian Falls, NC  0.207317  Late Night   \n",
       "1                          99160, Orient, WA  0.329268  Late Night   \n",
       "2                      83252, Malad City, ID  0.524390  Late Night   \n",
       "3                         59632, Boulder, MT  0.463415  Late Night   \n",
       "4                        24433, Doe Hill, VA  0.231707  Late Night   \n",
       "...                                      ...       ...         ...   \n",
       "1296670                     84735, Hatch, UT  0.548780     Morning   \n",
       "1296671                 21790, Tuscarora, MD  0.329268     Morning   \n",
       "1296672  88325, High Rolls Mountain Park, NM  0.475610     Morning   \n",
       "1296673                 57756, Manderson, SD  0.317073     Morning   \n",
       "1296674                      59871, Sula, MT  0.134146     Morning   \n",
       "\n",
       "         trans_year  trans_month  \n",
       "0              2019            1  \n",
       "1              2019            1  \n",
       "2              2019            1  \n",
       "3              2019            1  \n",
       "4              2019            1  \n",
       "...             ...          ...  \n",
       "1296670        2020            6  \n",
       "1296671        2020            6  \n",
       "1296672        2020            6  \n",
       "1296673        2020            6  \n",
       "1296674        2020            6  \n",
       "\n",
       "[1296675 rows x 14 columns]"
      ],
      "text/html": "<div>\n<style scoped>\n    .dataframe tbody tr th:only-of-type {\n        vertical-align: middle;\n    }\n\n    .dataframe tbody tr th {\n        vertical-align: top;\n    }\n\n    .dataframe thead th {\n        text-align: right;\n    }\n</style>\n<table border=\"1\" class=\"dataframe\">\n  <thead>\n    <tr style=\"text-align: right;\">\n      <th></th>\n      <th>category</th>\n      <th>amt</th>\n      <th>is_male</th>\n      <th>lat</th>\n      <th>long</th>\n      <th>city_pop</th>\n      <th>job</th>\n      <th>unix_time</th>\n      <th>is_fraud</th>\n      <th>state_city</th>\n      <th>age</th>\n      <th>trans_time</th>\n      <th>trans_year</th>\n      <th>trans_month</th>\n    </tr>\n  </thead>\n  <tbody>\n    <tr>\n      <th>0</th>\n      <td>misc_net</td>\n      <td>0.000137</td>\n      <td>0</td>\n      <td>0.343968</td>\n      <td>0.864638</td>\n      <td>0.001194</td>\n      <td>Psychologist, counselling</td>\n      <td>0.000000e+00</td>\n      <td>0</td>\n      <td>28654, Moravian Falls, NC</td>\n      <td>0.207317</td>\n      <td>Late Night</td>\n      <td>2019</td>\n      <td>1</td>\n    </tr>\n    <tr>\n      <th>1</th>\n      <td>grocery_pos</td>\n      <td>0.003670</td>\n      <td>0</td>\n      <td>0.618450</td>\n      <td>0.485682</td>\n      <td>0.000043</td>\n      <td>Special educational needs teacher</td>\n      <td>5.598526e-07</td>\n      <td>0</td>\n      <td>99160, Orient, WA</td>\n      <td>0.329268</td>\n      <td>Late Night</td>\n      <td>2019</td>\n      <td>1</td>\n    </tr>\n    <tr>\n      <th>2</th>\n      <td>entertainment</td>\n      <td>0.007569</td>\n      <td>1</td>\n      <td>0.474727</td>\n      <td>0.546553</td>\n      <td>0.001421</td>\n      <td>Nature conservation officer</td>\n      <td>7.105821e-07</td>\n      <td>0</td>\n      <td>83252, Malad City, ID</td>\n      <td>0.524390</td>\n      <td>Late Night</td>\n      <td>2019</td>\n      <td>1</td>\n    </tr>\n    <tr>\n      <th>3</th>\n      <td>gas_transport</td>\n      <td>0.001520</td>\n      <td>1</td>\n      <td>0.561509</td>\n      <td>0.548070</td>\n      <td>0.000659</td>\n      <td>Patent attorney</td>\n      <td>1.248902e-06</td>\n      <td>0</td>\n      <td>59632, Boulder, MT</td>\n      <td>0.463415</td>\n      <td>Late Night</td>\n      <td>2019</td>\n      <td>1</td>\n    </tr>\n    <tr>\n      <th>4</th>\n      <td>misc_pos</td>\n      <td>0.001415</td>\n      <td>1</td>\n      <td>0.394153</td>\n      <td>0.882190</td>\n      <td>0.000026</td>\n      <td>Dance movement psychotherapist</td>\n      <td>3.617509e-06</td>\n      <td>0</td>\n      <td>24433, Doe Hill, VA</td>\n      <td>0.231707</td>\n      <td>Late Night</td>\n      <td>2019</td>\n      <td>1</td>\n    </tr>\n    <tr>\n      <th>...</th>\n      <td>...</td>\n      <td>...</td>\n      <td>...</td>\n      <td>...</td>\n      <td>...</td>\n      <td>...</td>\n      <td>...</td>\n      <td>...</td>\n      <td>...</td>\n      <td>...</td>\n      <td>...</td>\n      <td>...</td>\n      <td>...</td>\n      <td>...</td>\n    </tr>\n    <tr>\n      <th>1296670</th>\n      <td>entertainment</td>\n      <td>0.000503</td>\n      <td>1</td>\n      <td>0.379084</td>\n      <td>0.544346</td>\n      <td>0.000081</td>\n      <td>Geoscientist</td>\n      <td>9.999981e-01</td>\n      <td>0</td>\n      <td>84735, Hatch, UT</td>\n      <td>0.548780</td>\n      <td>Morning</td>\n      <td>2020</td>\n      <td>6</td>\n    </tr>\n    <tr>\n      <th>1296671</th>\n      <td>food_dining</td>\n      <td>0.001751</td>\n      <td>1</td>\n      <td>0.412281</td>\n      <td>0.902174</td>\n      <td>0.000026</td>\n      <td>Production assistant, television</td>\n      <td>9.999983e-01</td>\n      <td>0</td>\n      <td>21790, Tuscarora, MD</td>\n      <td>0.329268</td>\n      <td>Morning</td>\n      <td>2020</td>\n      <td>6</td>\n    </tr>\n    <tr>\n      <th>1296672</th>\n      <td>food_dining</td>\n      <td>0.003625</td>\n      <td>1</td>\n      <td>0.276699</td>\n      <td>0.612486</td>\n      <td>0.000301</td>\n      <td>Naval architect</td>\n      <td>9.999986e-01</td>\n      <td>0</td>\n      <td>88325, High Rolls Mountain Park, NM</td>\n      <td>0.475610</td>\n      <td>Morning</td>\n      <td>2020</td>\n      <td>6</td>\n    </tr>\n    <tr>\n      <th>1296673</th>\n      <td>food_dining</td>\n      <td>0.002553</td>\n      <td>1</td>\n      <td>0.499837</td>\n      <td>0.646029</td>\n      <td>0.000379</td>\n      <td>Volunteer coordinator</td>\n      <td>1.000000e+00</td>\n      <td>0</td>\n      <td>57756, Manderson, SD</td>\n      <td>0.317073</td>\n      <td>Morning</td>\n      <td>2020</td>\n      <td>6</td>\n    </tr>\n    <tr>\n      <th>1296674</th>\n      <td>food_dining</td>\n      <td>0.000114</td>\n      <td>1</td>\n      <td>0.553210</td>\n      <td>0.530050</td>\n      <td>0.000067</td>\n      <td>Therapist, horticultural</td>\n      <td>1.000000e+00</td>\n      <td>0</td>\n      <td>59871, Sula, MT</td>\n      <td>0.134146</td>\n      <td>Morning</td>\n      <td>2020</td>\n      <td>6</td>\n    </tr>\n  </tbody>\n</table>\n<p>1296675 rows × 14 columns</p>\n</div>"
     },
     "metadata": {},
     "execution_count": 15
    }
   ],
   "source": [
    "nor_col = ['amt', 'city_pop','lat', 'long', 'unix_time', 'age']\n",
    "        \n",
    "df[nor_col] = df[nor_col].apply(lambda x: (x - x.min()) / (x.max() - x.min()))\n",
    "df"
   ]
  },
  {
   "cell_type": "code",
   "execution_count": 16,
   "id": "legendary-sunset",
   "metadata": {},
   "outputs": [
    {
     "output_type": "execute_result",
     "data": {
      "text/plain": [
       "'is_fraud'"
      ]
     },
     "metadata": {},
     "execution_count": 16
    }
   ],
   "source": [
    "label = 'is_fraud'\n",
    "label"
   ]
  },
  {
   "cell_type": "code",
   "execution_count": 17,
   "id": "passing-engineer",
   "metadata": {},
   "outputs": [
    {
     "output_type": "stream",
     "name": "stdout",
     "text": [
      "['category', 'amt', 'is_male', 'lat', 'long', 'city_pop', 'job', 'unix_time', 'state_city', 'age', 'trans_time', 'trans_year', 'trans_month']\n"
     ]
    }
   ],
   "source": [
    "features = df.loc[:, df.columns != label].columns.tolist()\n",
    "print(features)"
   ]
  },
  {
   "cell_type": "markdown",
   "id": "multiple-alarm",
   "metadata": {},
   "source": [
    "<h2>Information Gain table from the train dataset"
   ]
  },
  {
   "cell_type": "code",
   "execution_count": 18,
   "id": "dutch-accountability",
   "metadata": {},
   "outputs": [
    {
     "output_type": "execute_result",
     "data": {
      "text/plain": [
       "             information_gain\n",
       "features                     \n",
       "amt                  0.051352\n",
       "lat                  0.051352\n",
       "long                 0.051352\n",
       "city_pop             0.051352\n",
       "unix_time            0.051352\n",
       "age                  0.051352\n",
       "state_city           0.007758\n",
       "trans_time           0.005617\n",
       "job                  0.003134\n",
       "category             0.003107\n",
       "trans_month          0.000252\n",
       "is_male              0.000042\n",
       "trans_year           0.000006"
      ],
      "text/html": "<div>\n<style scoped>\n    .dataframe tbody tr th:only-of-type {\n        vertical-align: middle;\n    }\n\n    .dataframe tbody tr th {\n        vertical-align: top;\n    }\n\n    .dataframe thead th {\n        text-align: right;\n    }\n</style>\n<table border=\"1\" class=\"dataframe\">\n  <thead>\n    <tr style=\"text-align: right;\">\n      <th></th>\n      <th>information_gain</th>\n    </tr>\n    <tr>\n      <th>features</th>\n      <th></th>\n    </tr>\n  </thead>\n  <tbody>\n    <tr>\n      <th>amt</th>\n      <td>0.051352</td>\n    </tr>\n    <tr>\n      <th>lat</th>\n      <td>0.051352</td>\n    </tr>\n    <tr>\n      <th>long</th>\n      <td>0.051352</td>\n    </tr>\n    <tr>\n      <th>city_pop</th>\n      <td>0.051352</td>\n    </tr>\n    <tr>\n      <th>unix_time</th>\n      <td>0.051352</td>\n    </tr>\n    <tr>\n      <th>age</th>\n      <td>0.051352</td>\n    </tr>\n    <tr>\n      <th>state_city</th>\n      <td>0.007758</td>\n    </tr>\n    <tr>\n      <th>trans_time</th>\n      <td>0.005617</td>\n    </tr>\n    <tr>\n      <th>job</th>\n      <td>0.003134</td>\n    </tr>\n    <tr>\n      <th>category</th>\n      <td>0.003107</td>\n    </tr>\n    <tr>\n      <th>trans_month</th>\n      <td>0.000252</td>\n    </tr>\n    <tr>\n      <th>is_male</th>\n      <td>0.000042</td>\n    </tr>\n    <tr>\n      <th>trans_year</th>\n      <td>0.000006</td>\n    </tr>\n  </tbody>\n</table>\n</div>"
     },
     "metadata": {},
     "execution_count": 18
    }
   ],
   "source": [
    "df_ig = pd.read_csv('info_gain_all_feature.csv')\n",
    "df_ig = df_ig.rename(columns={'Unnamed: 0' : 'features'})\n",
    "df_ig.set_index(\"features\", inplace = True)\n",
    "df_ig"
   ]
  },
  {
   "cell_type": "markdown",
   "id": "billion-angel",
   "metadata": {},
   "source": [
    "<h2>All necessary function"
   ]
  },
  {
   "cell_type": "code",
   "execution_count": 19,
   "id": "little-style",
   "metadata": {},
   "outputs": [],
   "source": [
    "def find_prob_each(label, feature, df=df):\n",
    "    \"\"\"\n",
    "    -helper function for group_entropy function\n",
    "    -and also give probability often its occures compare to the label\n",
    "    \n",
    "    return dict of probability of feature\n",
    "    \"\"\"\n",
    "    if feature not in df.columns.tolist():\n",
    "        return {'never_met': [0, 0]}\n",
    "\n",
    "    temp_df = df.groupby([feature, label])\n",
    "    prob_list = []\n",
    "\n",
    "    if len(temp_df.size())< 2000 and feature not in ['age', 'lat', 'long', 'city_pop']:  \n",
    "        for r in range(len(temp_df.size())):\n",
    "                feature_prob = temp_df.size().values[r]/ \\\n",
    "                    len(df[feature][df[feature] == temp_df.size().index[r][0]])\n",
    "                prob_feature = {}\n",
    "                prob_feature[temp_df.size().index[r]] = feature_prob\n",
    "                featu = ''\n",
    "                if len(prob_list) == 0:\n",
    "                    featu = temp_df.size().index[r][0]\n",
    "                    prob_list.append({featu : [0.0, 0.0]})\n",
    "                    if temp_df.size().index[r][1] == 1:\n",
    "                        prob_list[-1][featu][1] = feature_prob\n",
    "                    else:\n",
    "                        prob_list[-1][featu][0] = feature_prob\n",
    "                elif temp_df.size().index[r][0] in prob_list[-1]: #append 2nd value\n",
    "#                     print(df.groupby([feature, label]).size().index[r][0], r,feature_prob, temp_df.size().index[r][1])\n",
    "#                     print(prob_list[-1][temp_df.size().index[r][0]])\n",
    "                    if temp_df.size().index[r][1] == 1:\n",
    "                        prob_list[-1][temp_df.size().index[r][0]][1] = feature_prob\n",
    "                    else:\n",
    "                        prob_list[-1][temp_df.size().index[r][0]][0] = feature_prob\n",
    "                else:\n",
    "                    featu = temp_df.size().index[r][0]\n",
    "                    prob_list.append({featu : [0.0, 0.0]})\n",
    "                    if temp_df.size().index[r][1] == 1:\n",
    "                        prob_list[-1][featu][1] = feature_prob\n",
    "                    else:\n",
    "                        prob_list[-1][featu][0] = feature_prob\n",
    "                    \n",
    "    else: #numeric feature\n",
    "        greater_than_eq_df = df[[label, feature]][df[feature] >=df[feature].mean()]\n",
    "        less_than_df = df[[label, feature]][df[feature] < df[feature].mean()]\n",
    "        condition_dfs = [greater_than_eq_df, less_than_df]\n",
    "    \n",
    "        prob_list = [{'greater_than_eq_mean': []}, {'less_than_mean': []}]\n",
    "    \n",
    "        for d in condition_dfs:\n",
    "            for r in range(len(d[label].value_counts())):\n",
    "                feature_prob = d[label].value_counts()[r]/len(d)\n",
    "#                 print(feature_prob)\n",
    "                if  d.equals(greater_than_eq_df):\n",
    "                    prob_list[0]['greater_than_eq_mean'].append(feature_prob)\n",
    "\n",
    "                else:\n",
    "                    prob_list[1]['less_than_mean'].append(feature_prob)\n",
    "    p_dict = {}\n",
    "    [p_dict.update(i) for i in prob_list]\n",
    "    \n",
    "    return p_dict"
   ]
  },
  {
   "cell_type": "code",
   "execution_count": 20,
   "id": "pressed-dictionary",
   "metadata": {},
   "outputs": [],
   "source": [
    "#containing dict to decrease workload of model\n",
    "store_prob_dict = {}"
   ]
  },
  {
   "cell_type": "code",
   "execution_count": 21,
   "id": "antique-incentive",
   "metadata": {},
   "outputs": [],
   "source": [
    "def extract_feature_point(feature, value, df=df, store_prob_dict=store_prob_dict):\n",
    "\n",
    "    if feature not in df.columns.tolist():\n",
    "        return [0,0]\n",
    "    #check type\n",
    "    if type(value) != str and feature not in ['is_male', 'trans_year', 'trans_month']:\n",
    "        mean_val = df[feature].mean()\n",
    "        if value >= mean_val:\n",
    "            value = 'greater_than_eq_mean'\n",
    "        else:\n",
    "            value = 'less_than_mean'\n",
    "    \n",
    "    print(feature, 'value', value)\n",
    "        \n",
    "    if feature not in store_prob_dict:\n",
    "        prob_dict = find_prob_each(label, feature, df)\n",
    "        store_prob_dict.update({feature : prob_dict})\n",
    "        print(feature)\n",
    "        print('store_dict length:', len(store_prob_dict))\n",
    "        \n",
    "    \n",
    "    #append value\n",
    "    if value not in store_prob_dict[feature]:\n",
    "        #return 0 when hv no data\n",
    "        return [0, 0]\n",
    "    elif value in store_prob_dict[feature]:\n",
    "        # print(store_prob_dict[feature])\n",
    "        #return point\n",
    "        return [\n",
    "            100*store_prob_dict[feature][value][0]*float(df_ig.loc[feature,:]),\n",
    "            100*store_prob_dict[feature][value][1]*float(df_ig.loc[feature,:])\n",
    "        ]"
   ]
  },
  {
   "cell_type": "code",
   "execution_count": 22,
   "id": "honest-morocco",
   "metadata": {},
   "outputs": [],
   "source": [
    "def row_desicion_tree_predictor(an_row=[], features=[], df=df, store_prob_dict=store_prob_dict, x_features=features):\n",
    "    not_fraud = []\n",
    "    fraud = []\n",
    "#     an_row = an_df_row.values.tolist()[0]\n",
    "    #making index of sub sample and test data to be the same\n",
    "    #in case x_features lenght is more than df features\n",
    "    for i, feature in enumerate(x_features):\n",
    "        point = extract_feature_point(feature, an_row[i], df, store_prob_dict)\n",
    "        not_fraud.append(point[0])\n",
    "        fraud.append(point[1])\n",
    "#         print(feature,':',point,'done')\n",
    "    print('predicting..')\n",
    "#     print(1)\n",
    "    #predicting\n",
    "    nfra_mean = np.mean(not_fraud)\n",
    "    fra_mean = np.mean(fraud)\n",
    "    if nfra_mean >= fra_mean:\n",
    "        return 0\n",
    "    else:\n",
    "        return 1"
   ]
  },
  {
   "cell_type": "code",
   "execution_count": 23,
   "id": "insured-plenty",
   "metadata": {},
   "outputs": [],
   "source": [
    "def desicion_tree_predictor(X, train, features, store_prob_dict={}):\n",
    "    \"\"\"\n",
    "    return list of predicting point\n",
    "    \"\"\"\n",
    "    x_features = X.loc[:, X.columns != label].columns.tolist()\n",
    "    x_list = X.values.tolist()\n",
    "    return [row_desicion_tree_predictor(row, features, train, store_prob_dict, x_features) for row in x_list]"
   ]
  },
  {
   "cell_type": "markdown",
   "id": "unlike-database",
   "metadata": {},
   "source": [
    "<h2> Random Forest preparation"
   ]
  },
  {
   "cell_type": "code",
   "execution_count": 24,
   "id": "precise-spine",
   "metadata": {},
   "outputs": [],
   "source": [
    "subset_features_per_df_list = []\n",
    "def subsample(features, ratio):\n",
    "    selected_features = list()\n",
    "    n_sample = round(len(features) * ratio)\n",
    "    print(n_sample)\n",
    "    while len(selected_features) < n_sample:\n",
    "        index = randrange(len(features))\n",
    "        selected_features.append(features[index])\n",
    "    selected_features = list(set(selected_features))\n",
    "    return selected_features"
   ]
  },
  {
   "cell_type": "code",
   "execution_count": 17,
   "id": "guided-extra",
   "metadata": {},
   "outputs": [
    {
     "output_type": "stream",
     "name": "stdout",
     "text": [
      "9\n9\n9\n"
     ]
    },
    {
     "output_type": "execute_result",
     "data": {
      "text/plain": [
       "[['amt',\n",
       "  'age',\n",
       "  'trans_time',\n",
       "  'job',\n",
       "  'trans_year',\n",
       "  'category',\n",
       "  'unix_time',\n",
       "  'long',\n",
       "  'is_fraud'],\n",
       " ['amt', 'trans_time', 'job', 'unix_time', 'is_male', 'long', 'is_fraud'],\n",
       " ['trans_month', 'lat', 'city_pop', 'category', 'is_male', 'long', 'is_fraud']]"
      ]
     },
     "metadata": {},
     "execution_count": 17
    }
   ],
   "source": [
    "#random subset for creating Tree\n",
    "n_subset = 3 #amount of tree\n",
    "subset_features_per_df_list = []\n",
    "store_prob_dict_list = []\n",
    "for n in range(n_subset):\n",
    "    store_prob_dict_list.append({})\n",
    "    subset_features_per_df_list.append(subsample(features, 0.7))\n",
    "    subset_features_per_df_list[n].append(label)\n",
    "subset_features_per_df_list"
   ]
  },
  {
   "cell_type": "code",
   "execution_count": 18,
   "id": "provincial-remains",
   "metadata": {},
   "outputs": [
    {
     "output_type": "execute_result",
     "data": {
      "text/plain": [
       "[{}, {}, {}]"
      ]
     },
     "metadata": {},
     "execution_count": 18
    }
   ],
   "source": [
    "#containing dict to decrease workload of model\n",
    "store_prob_dict_list"
   ]
  },
  {
   "cell_type": "code",
   "execution_count": 27,
   "metadata": {},
   "outputs": [
    {
     "output_type": "stream",
     "name": "stdout",
     "text": [
      "Stored 'store_prob_dict_list' (list)\nStored 'subset_features_per_df_list' (list)\n"
     ]
    }
   ],
   "source": [
    "%store store_prob_dict_list\n",
    "%store subset_features_per_df_list"
   ]
  },
  {
   "cell_type": "markdown",
   "id": "generic-status",
   "metadata": {},
   "source": [
    "<h2> Import test data"
   ]
  },
  {
   "cell_type": "code",
   "execution_count": 25,
   "id": "amended-geneva",
   "metadata": {},
   "outputs": [
    {
     "output_type": "stream",
     "name": "stdout",
     "text": [
      "(555719, 14)\n"
     ]
    },
    {
     "output_type": "execute_result",
     "data": {
      "text/plain": [
       "         category    amt  is_male      lat      long  city_pop  \\\n",
       "0   personal_care   2.86        1  33.9659  -80.9355    333497   \n",
       "1   personal_care  29.84        0  40.3207 -110.4360       302   \n",
       "2  health_fitness  41.28        0  40.6729  -73.5365     34496   \n",
       "3        misc_pos  60.05        1  28.5697  -80.8191     54767   \n",
       "4          travel   3.19        1  44.2529  -85.0170      1126   \n",
       "\n",
       "                      job   unix_time  is_fraud             state_city  age  \\\n",
       "0     Mechanical engineer  1371816865         0    29209, Columbia, SC   52   \n",
       "1  Sales professional, IT  1371816873         0     84002, Altonah, UT   30   \n",
       "2       Librarian, public  1371816893         0    11710, Bellmore, NY   50   \n",
       "3            Set designer  1371816915         0  32780, Titusville, FL   33   \n",
       "4      Furniture designer  1371816917         0    49632, Falmouth, MI   65   \n",
       "\n",
       "  trans_time  trans_year  trans_month  \n",
       "0    Morning        2020            6  \n",
       "1    Morning        2020            6  \n",
       "2    Morning        2020            6  \n",
       "3    Morning        2020            6  \n",
       "4    Morning        2020            6  "
      ],
      "text/html": "<div>\n<style scoped>\n    .dataframe tbody tr th:only-of-type {\n        vertical-align: middle;\n    }\n\n    .dataframe tbody tr th {\n        vertical-align: top;\n    }\n\n    .dataframe thead th {\n        text-align: right;\n    }\n</style>\n<table border=\"1\" class=\"dataframe\">\n  <thead>\n    <tr style=\"text-align: right;\">\n      <th></th>\n      <th>category</th>\n      <th>amt</th>\n      <th>is_male</th>\n      <th>lat</th>\n      <th>long</th>\n      <th>city_pop</th>\n      <th>job</th>\n      <th>unix_time</th>\n      <th>is_fraud</th>\n      <th>state_city</th>\n      <th>age</th>\n      <th>trans_time</th>\n      <th>trans_year</th>\n      <th>trans_month</th>\n    </tr>\n  </thead>\n  <tbody>\n    <tr>\n      <th>0</th>\n      <td>personal_care</td>\n      <td>2.86</td>\n      <td>1</td>\n      <td>33.9659</td>\n      <td>-80.9355</td>\n      <td>333497</td>\n      <td>Mechanical engineer</td>\n      <td>1371816865</td>\n      <td>0</td>\n      <td>29209, Columbia, SC</td>\n      <td>52</td>\n      <td>Morning</td>\n      <td>2020</td>\n      <td>6</td>\n    </tr>\n    <tr>\n      <th>1</th>\n      <td>personal_care</td>\n      <td>29.84</td>\n      <td>0</td>\n      <td>40.3207</td>\n      <td>-110.4360</td>\n      <td>302</td>\n      <td>Sales professional, IT</td>\n      <td>1371816873</td>\n      <td>0</td>\n      <td>84002, Altonah, UT</td>\n      <td>30</td>\n      <td>Morning</td>\n      <td>2020</td>\n      <td>6</td>\n    </tr>\n    <tr>\n      <th>2</th>\n      <td>health_fitness</td>\n      <td>41.28</td>\n      <td>0</td>\n      <td>40.6729</td>\n      <td>-73.5365</td>\n      <td>34496</td>\n      <td>Librarian, public</td>\n      <td>1371816893</td>\n      <td>0</td>\n      <td>11710, Bellmore, NY</td>\n      <td>50</td>\n      <td>Morning</td>\n      <td>2020</td>\n      <td>6</td>\n    </tr>\n    <tr>\n      <th>3</th>\n      <td>misc_pos</td>\n      <td>60.05</td>\n      <td>1</td>\n      <td>28.5697</td>\n      <td>-80.8191</td>\n      <td>54767</td>\n      <td>Set designer</td>\n      <td>1371816915</td>\n      <td>0</td>\n      <td>32780, Titusville, FL</td>\n      <td>33</td>\n      <td>Morning</td>\n      <td>2020</td>\n      <td>6</td>\n    </tr>\n    <tr>\n      <th>4</th>\n      <td>travel</td>\n      <td>3.19</td>\n      <td>1</td>\n      <td>44.2529</td>\n      <td>-85.0170</td>\n      <td>1126</td>\n      <td>Furniture designer</td>\n      <td>1371816917</td>\n      <td>0</td>\n      <td>49632, Falmouth, MI</td>\n      <td>65</td>\n      <td>Morning</td>\n      <td>2020</td>\n      <td>6</td>\n    </tr>\n  </tbody>\n</table>\n</div>"
     },
     "metadata": {},
     "execution_count": 25
    }
   ],
   "source": [
    "# import Dataset\n",
    "path = '../dataset/midterm_dataset/cleaned_fraudTest.csv'\n",
    "df_test = pd.read_csv(path)\n",
    "\n",
    "row_num = df_test.shape[0]\n",
    "feature_num = df_test.shape[1]\n",
    "\n",
    "print(df_test.shape)\n",
    "df_test.head()"
   ]
  },
  {
   "cell_type": "markdown",
   "id": "weird-caribbean",
   "metadata": {},
   "source": [
    "<h2>Normalization test dataset"
   ]
  },
  {
   "cell_type": "code",
   "execution_count": 26,
   "id": "pediatric-modern",
   "metadata": {},
   "outputs": [
    {
     "output_type": "execute_result",
     "data": {
      "text/plain": [
       "         category       amt  is_male       lat      long  city_pop  \\\n",
       "0   personal_care  0.000082        1  0.305255  0.867121  0.114727   \n",
       "1   personal_care  0.001267        0  0.444423  0.565239  0.000096   \n",
       "2  health_fitness  0.001769        0  0.452136  0.942836  0.011860   \n",
       "3        misc_pos  0.002594        1  0.187080  0.868312  0.018834   \n",
       "4          travel  0.000096        1  0.530537  0.825355  0.000379   \n",
       "\n",
       "                      job     unix_time  is_fraud             state_city  \\\n",
       "0     Mechanical engineer  0.000000e+00         0    29209, Columbia, SC   \n",
       "1  Sales professional, IT  4.785402e-07         0     84002, Altonah, UT   \n",
       "2       Librarian, public  1.674891e-06         0    11710, Bellmore, NY   \n",
       "3            Set designer  2.990876e-06         0  32780, Titusville, FL   \n",
       "4      Furniture designer  3.110511e-06         0    49632, Falmouth, MI   \n",
       "\n",
       "        age trans_time  trans_year  trans_month  \n",
       "0  0.456790    Morning        2020            6  \n",
       "1  0.185185    Morning        2020            6  \n",
       "2  0.432099    Morning        2020            6  \n",
       "3  0.222222    Morning        2020            6  \n",
       "4  0.617284    Morning        2020            6  "
      ],
      "text/html": "<div>\n<style scoped>\n    .dataframe tbody tr th:only-of-type {\n        vertical-align: middle;\n    }\n\n    .dataframe tbody tr th {\n        vertical-align: top;\n    }\n\n    .dataframe thead th {\n        text-align: right;\n    }\n</style>\n<table border=\"1\" class=\"dataframe\">\n  <thead>\n    <tr style=\"text-align: right;\">\n      <th></th>\n      <th>category</th>\n      <th>amt</th>\n      <th>is_male</th>\n      <th>lat</th>\n      <th>long</th>\n      <th>city_pop</th>\n      <th>job</th>\n      <th>unix_time</th>\n      <th>is_fraud</th>\n      <th>state_city</th>\n      <th>age</th>\n      <th>trans_time</th>\n      <th>trans_year</th>\n      <th>trans_month</th>\n    </tr>\n  </thead>\n  <tbody>\n    <tr>\n      <th>0</th>\n      <td>personal_care</td>\n      <td>0.000082</td>\n      <td>1</td>\n      <td>0.305255</td>\n      <td>0.867121</td>\n      <td>0.114727</td>\n      <td>Mechanical engineer</td>\n      <td>0.000000e+00</td>\n      <td>0</td>\n      <td>29209, Columbia, SC</td>\n      <td>0.456790</td>\n      <td>Morning</td>\n      <td>2020</td>\n      <td>6</td>\n    </tr>\n    <tr>\n      <th>1</th>\n      <td>personal_care</td>\n      <td>0.001267</td>\n      <td>0</td>\n      <td>0.444423</td>\n      <td>0.565239</td>\n      <td>0.000096</td>\n      <td>Sales professional, IT</td>\n      <td>4.785402e-07</td>\n      <td>0</td>\n      <td>84002, Altonah, UT</td>\n      <td>0.185185</td>\n      <td>Morning</td>\n      <td>2020</td>\n      <td>6</td>\n    </tr>\n    <tr>\n      <th>2</th>\n      <td>health_fitness</td>\n      <td>0.001769</td>\n      <td>0</td>\n      <td>0.452136</td>\n      <td>0.942836</td>\n      <td>0.011860</td>\n      <td>Librarian, public</td>\n      <td>1.674891e-06</td>\n      <td>0</td>\n      <td>11710, Bellmore, NY</td>\n      <td>0.432099</td>\n      <td>Morning</td>\n      <td>2020</td>\n      <td>6</td>\n    </tr>\n    <tr>\n      <th>3</th>\n      <td>misc_pos</td>\n      <td>0.002594</td>\n      <td>1</td>\n      <td>0.187080</td>\n      <td>0.868312</td>\n      <td>0.018834</td>\n      <td>Set designer</td>\n      <td>2.990876e-06</td>\n      <td>0</td>\n      <td>32780, Titusville, FL</td>\n      <td>0.222222</td>\n      <td>Morning</td>\n      <td>2020</td>\n      <td>6</td>\n    </tr>\n    <tr>\n      <th>4</th>\n      <td>travel</td>\n      <td>0.000096</td>\n      <td>1</td>\n      <td>0.530537</td>\n      <td>0.825355</td>\n      <td>0.000379</td>\n      <td>Furniture designer</td>\n      <td>3.110511e-06</td>\n      <td>0</td>\n      <td>49632, Falmouth, MI</td>\n      <td>0.617284</td>\n      <td>Morning</td>\n      <td>2020</td>\n      <td>6</td>\n    </tr>\n  </tbody>\n</table>\n</div>"
     },
     "metadata": {},
     "execution_count": 26
    }
   ],
   "source": [
    "nor_col = ['amt', 'city_pop','lat', 'long', 'unix_time', 'age']\n",
    "        \n",
    "df_test[nor_col] = df_test[nor_col].apply(lambda x: (x - x.min()) / (x.max() - x.min()))\n",
    "df_test.head()"
   ]
  },
  {
   "cell_type": "code",
   "execution_count": 27,
   "id": "decimal-prescription",
   "metadata": {},
   "outputs": [
    {
     "output_type": "execute_result",
     "data": {
      "text/plain": [
       "         category       amt  is_male       lat      long  city_pop  \\\n",
       "0   personal_care  0.000082        1  0.305255  0.867121  0.114727   \n",
       "1   personal_care  0.001267        0  0.444423  0.565239  0.000096   \n",
       "2  health_fitness  0.001769        0  0.452136  0.942836  0.011860   \n",
       "3        misc_pos  0.002594        1  0.187080  0.868312  0.018834   \n",
       "4          travel  0.000096        1  0.530537  0.825355  0.000379   \n",
       "\n",
       "                      job     unix_time             state_city       age  \\\n",
       "0     Mechanical engineer  0.000000e+00    29209, Columbia, SC  0.456790   \n",
       "1  Sales professional, IT  4.785402e-07     84002, Altonah, UT  0.185185   \n",
       "2       Librarian, public  1.674891e-06    11710, Bellmore, NY  0.432099   \n",
       "3            Set designer  2.990876e-06  32780, Titusville, FL  0.222222   \n",
       "4      Furniture designer  3.110511e-06    49632, Falmouth, MI  0.617284   \n",
       "\n",
       "  trans_time  trans_year  trans_month  \n",
       "0    Morning        2020            6  \n",
       "1    Morning        2020            6  \n",
       "2    Morning        2020            6  \n",
       "3    Morning        2020            6  \n",
       "4    Morning        2020            6  "
      ],
      "text/html": "<div>\n<style scoped>\n    .dataframe tbody tr th:only-of-type {\n        vertical-align: middle;\n    }\n\n    .dataframe tbody tr th {\n        vertical-align: top;\n    }\n\n    .dataframe thead th {\n        text-align: right;\n    }\n</style>\n<table border=\"1\" class=\"dataframe\">\n  <thead>\n    <tr style=\"text-align: right;\">\n      <th></th>\n      <th>category</th>\n      <th>amt</th>\n      <th>is_male</th>\n      <th>lat</th>\n      <th>long</th>\n      <th>city_pop</th>\n      <th>job</th>\n      <th>unix_time</th>\n      <th>state_city</th>\n      <th>age</th>\n      <th>trans_time</th>\n      <th>trans_year</th>\n      <th>trans_month</th>\n    </tr>\n  </thead>\n  <tbody>\n    <tr>\n      <th>0</th>\n      <td>personal_care</td>\n      <td>0.000082</td>\n      <td>1</td>\n      <td>0.305255</td>\n      <td>0.867121</td>\n      <td>0.114727</td>\n      <td>Mechanical engineer</td>\n      <td>0.000000e+00</td>\n      <td>29209, Columbia, SC</td>\n      <td>0.456790</td>\n      <td>Morning</td>\n      <td>2020</td>\n      <td>6</td>\n    </tr>\n    <tr>\n      <th>1</th>\n      <td>personal_care</td>\n      <td>0.001267</td>\n      <td>0</td>\n      <td>0.444423</td>\n      <td>0.565239</td>\n      <td>0.000096</td>\n      <td>Sales professional, IT</td>\n      <td>4.785402e-07</td>\n      <td>84002, Altonah, UT</td>\n      <td>0.185185</td>\n      <td>Morning</td>\n      <td>2020</td>\n      <td>6</td>\n    </tr>\n    <tr>\n      <th>2</th>\n      <td>health_fitness</td>\n      <td>0.001769</td>\n      <td>0</td>\n      <td>0.452136</td>\n      <td>0.942836</td>\n      <td>0.011860</td>\n      <td>Librarian, public</td>\n      <td>1.674891e-06</td>\n      <td>11710, Bellmore, NY</td>\n      <td>0.432099</td>\n      <td>Morning</td>\n      <td>2020</td>\n      <td>6</td>\n    </tr>\n    <tr>\n      <th>3</th>\n      <td>misc_pos</td>\n      <td>0.002594</td>\n      <td>1</td>\n      <td>0.187080</td>\n      <td>0.868312</td>\n      <td>0.018834</td>\n      <td>Set designer</td>\n      <td>2.990876e-06</td>\n      <td>32780, Titusville, FL</td>\n      <td>0.222222</td>\n      <td>Morning</td>\n      <td>2020</td>\n      <td>6</td>\n    </tr>\n    <tr>\n      <th>4</th>\n      <td>travel</td>\n      <td>0.000096</td>\n      <td>1</td>\n      <td>0.530537</td>\n      <td>0.825355</td>\n      <td>0.000379</td>\n      <td>Furniture designer</td>\n      <td>3.110511e-06</td>\n      <td>49632, Falmouth, MI</td>\n      <td>0.617284</td>\n      <td>Morning</td>\n      <td>2020</td>\n      <td>6</td>\n    </tr>\n  </tbody>\n</table>\n</div>"
     },
     "metadata": {},
     "execution_count": 27
    }
   ],
   "source": [
    "X_test = df_test[features]\n",
    "X_test.head()"
   ]
  },
  {
   "cell_type": "code",
   "execution_count": 28,
   "id": "female-apartment",
   "metadata": {},
   "outputs": [
    {
     "output_type": "execute_result",
     "data": {
      "text/plain": [
       "0    0\n",
       "1    0\n",
       "2    0\n",
       "3    0\n",
       "4    0\n",
       "Name: is_fraud, dtype: int64"
      ]
     },
     "metadata": {},
     "execution_count": 28
    }
   ],
   "source": [
    "y_test = df_test[label]\n",
    "y_test.head()"
   ]
  },
  {
   "source": [
    "<h2> Training"
   ],
   "cell_type": "markdown",
   "metadata": {}
  },
  {
   "source": [
    "<h3>Will be run in other jupyter notebooks to decrease the training time\n",
    "\n",
    "the code below can only be run after all nodes are run and contained pickle files"
   ],
   "cell_type": "markdown",
   "metadata": {}
  },
  {
   "cell_type": "markdown",
   "id": "nuclear-southeast",
   "metadata": {},
   "source": [
    "<h2>Prediction"
   ]
  },
  {
   "cell_type": "code",
   "execution_count": 29,
   "metadata": {},
   "outputs": [
    {
     "output_type": "stream",
     "name": "stdout",
     "text": [
      "555719\n555719\n555719\n"
     ]
    }
   ],
   "source": [
    "#load files from other tree_helper\n",
    "import pickle\n",
    "\n",
    "nodes = []\n",
    "num_node = 3\n",
    "for num in range(1, num_node+1):\n",
    "    rdf_classifier_node_load = open('random_forest_y_pred_node/rdf_classifier_node'+ str(num) +'.pkl', 'rb')\n",
    "    y_pred_node_num = pickle.load(rdf_classifier_node_load)\n",
    "    \n",
    "    nodes.append(y_pred_node_num)\n",
    "\n",
    "    rdf_classifier_node_load.close()\n",
    "\n",
    "#check\n",
    "for node in nodes:\n",
    "    print(len(node))"
   ]
  },
  {
   "cell_type": "code",
   "execution_count": 30,
   "id": "becoming-wagner",
   "metadata": {},
   "outputs": [],
   "source": [
    "import statistics\n",
    "def bagging(nodes=[]):\n",
    "    \"\"\"\n",
    "    bagging by mode from nodes(each tree in random forest algorithm)\n",
    "    \"\"\"\n",
    "    #support only 3 nodes\n",
    "    y_pred = []\n",
    "    for n1, n2, n3 in zip(nodes[0], nodes[1], nodes[2]):\n",
    "        y_pred.append(statistics.mode([n1, n2, n3]))\n",
    "    return y_pred"
   ]
  },
  {
   "cell_type": "code",
   "execution_count": 31,
   "id": "moral-diary",
   "metadata": {},
   "outputs": [
    {
     "output_type": "execute_result",
     "data": {
      "text/plain": [
       "[0, 0, 0, 0, 0, 0, 0, 0, 0, 0]"
      ]
     },
     "metadata": {},
     "execution_count": 31
    }
   ],
   "source": [
    "y_pred = bagging(nodes)\n",
    "y_pred[:10]"
   ]
  },
  {
   "cell_type": "markdown",
   "id": "efficient-belle",
   "metadata": {},
   "source": [
    "<h2> Evaluation"
   ]
  },
  {
   "cell_type": "code",
   "execution_count": 32,
   "id": "objective-payday",
   "metadata": {},
   "outputs": [],
   "source": [
    "def comp_confmat(actual, predicted):\n",
    "\n",
    "    classes = np.unique(actual) # extract the different classes\n",
    "    matrix = np.zeros((len(classes), len(classes))) # initialize the confusion matrix with zeros\n",
    "\n",
    "    for i in range(len(classes)):\n",
    "        for j in range(len(classes)):\n",
    "\n",
    "            matrix[i, j] = np.sum((actual == classes[i]) & (predicted == classes[j]))\n",
    "\n",
    "    return matrix"
   ]
  },
  {
   "cell_type": "code",
   "execution_count": 33,
   "id": "regulation-clock",
   "metadata": {},
   "outputs": [],
   "source": [
    "# Calculate accuracy percentage\n",
    "def accuracy_metric(actual, predicted):\n",
    "\tcorrect = 0\n",
    "\tfor i in range(len(actual)):\n",
    "\t\tif actual[i] == predicted[i]:\n",
    "\t\t\tcorrect += 1\n",
    "\treturn correct / float(len(actual)) * 100.0"
   ]
  },
  {
   "cell_type": "code",
   "execution_count": 34,
   "id": "integral-majority",
   "metadata": {},
   "outputs": [],
   "source": [
    "def comp_f1_score(true_positive, false_positive, false_negative):\n",
    "    return 2*true_positive/(2*true_positive+ false_positive+ false_negative)\n"
   ]
  },
  {
   "cell_type": "code",
   "execution_count": 35,
   "id": "cordless-broad",
   "metadata": {},
   "outputs": [],
   "source": [
    "def comp_precision(true_positive, false_positive):\n",
    "    return true_positive/(true_positive+false_positive)"
   ]
  },
  {
   "cell_type": "code",
   "execution_count": 36,
   "id": "involved-guard",
   "metadata": {},
   "outputs": [],
   "source": [
    "def comp_recall(true_positive, false_negative):\n",
    "    return true_positive/(true_positive+false_negative)"
   ]
  },
  {
   "cell_type": "markdown",
   "id": "fleet-fraud",
   "metadata": {},
   "source": [
    "<h2>The result:"
   ]
  },
  {
   "cell_type": "code",
   "execution_count": 37,
   "id": "approved-child",
   "metadata": {},
   "outputs": [
    {
     "output_type": "execute_result",
     "data": {
      "text/plain": [
       "(555719, 555719)"
      ]
     },
     "metadata": {},
     "execution_count": 37
    }
   ],
   "source": [
    "len(y_test), len(y_pred)"
   ]
  },
  {
   "cell_type": "markdown",
   "id": "adult-turkish",
   "metadata": {},
   "source": [
    "<h3>Confustion Matrix"
   ]
  },
  {
   "cell_type": "code",
   "execution_count": 38,
   "id": "tender-replacement",
   "metadata": {},
   "outputs": [
    {
     "output_type": "execute_result",
     "data": {
      "text/plain": [
       "array([[553574.,      0.],\n",
       "       [  2145.,      0.]])"
      ]
     },
     "metadata": {},
     "execution_count": 38
    }
   ],
   "source": [
    "comp_confmat(y_test, y_pred)"
   ]
  },
  {
   "cell_type": "code",
   "execution_count": 39,
   "metadata": {},
   "outputs": [],
   "source": [
    "conf_mat = comp_confmat(y_test, y_pred)\n",
    "true_positive = conf_mat[0][0] \n",
    "false_positive = conf_mat[0][1]\n",
    "false_negative = conf_mat[1][0]\n",
    "true_negative = conf_mat[1][1]"
   ]
  },
  {
   "cell_type": "code",
   "execution_count": 40,
   "metadata": {},
   "outputs": [
    {
     "output_type": "execute_result",
     "data": {
      "text/plain": [
       "(553574.0, 0.0, 2145.0, 0.0)"
      ]
     },
     "metadata": {},
     "execution_count": 40
    }
   ],
   "source": [
    "true_positive, false_positive, false_negative, true_negative"
   ]
  },
  {
   "source": [
    "<h3> Accuracy percentage"
   ],
   "cell_type": "markdown",
   "metadata": {}
  },
  {
   "cell_type": "code",
   "execution_count": 41,
   "metadata": {},
   "outputs": [
    {
     "output_type": "execute_result",
     "data": {
      "text/plain": [
       "99.61401355721146"
      ]
     },
     "metadata": {},
     "execution_count": 41
    }
   ],
   "source": [
    "accuracy_metric(y_test, y_pred)"
   ]
  },
  {
   "source": [
    "From Confustion Matrix\n",
    "<h3> Precision"
   ],
   "cell_type": "markdown",
   "metadata": {}
  },
  {
   "cell_type": "code",
   "execution_count": 42,
   "metadata": {},
   "outputs": [
    {
     "output_type": "execute_result",
     "data": {
      "text/plain": [
       "1.0"
      ]
     },
     "metadata": {},
     "execution_count": 42
    }
   ],
   "source": [
    "comp_precision(true_positive, false_positive)"
   ]
  },
  {
   "source": [
    "From Confustion Matrix\n",
    "<h3> Recall"
   ],
   "cell_type": "markdown",
   "metadata": {}
  },
  {
   "cell_type": "code",
   "execution_count": 43,
   "metadata": {},
   "outputs": [
    {
     "output_type": "execute_result",
     "data": {
      "text/plain": [
       "0.9961401355721147"
      ]
     },
     "metadata": {},
     "execution_count": 43
    }
   ],
   "source": [
    "comp_recall(true_positive, false_negative)"
   ]
  },
  {
   "source": [
    "From Confustion Matrix\n",
    "<h3> F1-Score"
   ],
   "cell_type": "markdown",
   "metadata": {}
  },
  {
   "cell_type": "code",
   "execution_count": 44,
   "metadata": {},
   "outputs": [
    {
     "output_type": "execute_result",
     "data": {
      "text/plain": [
       "0.9980663359455076"
      ]
     },
     "metadata": {},
     "execution_count": 44
    }
   ],
   "source": [
    "comp_f1_score(true_positive, false_positive, false_negative)"
   ]
  }
 ],
 "metadata": {
  "kernelspec": {
   "display_name": "Python 3",
   "language": "python",
   "name": "python3"
  },
  "language_info": {
   "codemirror_mode": {
    "name": "ipython",
    "version": 3
   },
   "file_extension": ".py",
   "mimetype": "text/x-python",
   "name": "python",
   "nbconvert_exporter": "python",
   "pygments_lexer": "ipython3",
   "version": "3.8.7-final"
  }
 },
 "nbformat": 4,
 "nbformat_minor": 5
}