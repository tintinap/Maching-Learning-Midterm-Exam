{
 "cells": [
  {
   "cell_type": "markdown",
   "id": "accessory-friendly",
   "metadata": {},
   "source": [
    "<h1> Random Forest Classifier"
   ]
  },
  {
   "cell_type": "code",
   "execution_count": 4,
   "id": "bronze-delay",
   "metadata": {},
   "outputs": [],
   "source": [
    "import pandas as pd\n",
    "import numpy as np\n",
    "from random import randrange\n",
    "\n",
    "import matplotlib.pyplot as plt\n",
    "import seaborn as sns\n",
    "%matplotlib inline\n",
    "pd.set_option('display.max_columns', 500)"
   ]
  },
  {
   "cell_type": "code",
   "execution_count": 6,
   "id": "developmental-perth",
   "metadata": {},
   "outputs": [],
   "source": [
    "filename = 'cleaned_fraudTrain.csv'"
   ]
  },
  {
   "cell_type": "code",
   "execution_count": 8,
   "id": "fantastic-respect",
   "metadata": {
    "scrolled": true
   },
   "outputs": [
    {
     "output_type": "stream",
     "name": "stdout",
     "text": [
      "(1296675, 14)\n"
     ]
    },
    {
     "output_type": "execute_result",
     "data": {
      "text/plain": [
       "              category     amt  is_male      lat      long  city_pop  \\\n",
       "0             misc_net    4.97        0  36.0788  -81.1781      3495   \n",
       "1          grocery_pos  107.23        0  48.8878 -118.2105       149   \n",
       "2        entertainment  220.11        1  42.1808 -112.2620      4154   \n",
       "3        gas_transport   45.00        1  46.2306 -112.1138      1939   \n",
       "4             misc_pos   41.96        1  38.4207  -79.4629        99   \n",
       "...                ...     ...      ...      ...       ...       ...   \n",
       "1296670  entertainment   15.56        1  37.7175 -112.4777       258   \n",
       "1296671    food_dining   51.70        1  39.2667  -77.5101       100   \n",
       "1296672    food_dining  105.93        1  32.9396 -105.8189       899   \n",
       "1296673    food_dining   74.90        1  43.3526 -102.5411      1126   \n",
       "1296674    food_dining    4.30        1  45.8433 -113.8748       218   \n",
       "\n",
       "                                       job   unix_time  is_fraud  \\\n",
       "0                Psychologist, counselling  1325376018         0   \n",
       "1        Special educational needs teacher  1325376044         0   \n",
       "2              Nature conservation officer  1325376051         0   \n",
       "3                          Patent attorney  1325376076         0   \n",
       "4           Dance movement psychotherapist  1325376186         0   \n",
       "...                                    ...         ...       ...   \n",
       "1296670                       Geoscientist  1371816728         0   \n",
       "1296671   Production assistant, television  1371816739         0   \n",
       "1296672                    Naval architect  1371816752         0   \n",
       "1296673              Volunteer coordinator  1371816816         0   \n",
       "1296674           Therapist, horticultural  1371816817         0   \n",
       "\n",
       "                                  state_city  age  trans_time  trans_year  \\\n",
       "0                  28654, Moravian Falls, NC   31  Late Night        2019   \n",
       "1                          99160, Orient, WA   41  Late Night        2019   \n",
       "2                      83252, Malad City, ID   57  Late Night        2019   \n",
       "3                         59632, Boulder, MT   52  Late Night        2019   \n",
       "4                        24433, Doe Hill, VA   33  Late Night        2019   \n",
       "...                                      ...  ...         ...         ...   \n",
       "1296670                     84735, Hatch, UT   59     Morning        2020   \n",
       "1296671                 21790, Tuscarora, MD   41     Morning        2020   \n",
       "1296672  88325, High Rolls Mountain Park, NM   53     Morning        2020   \n",
       "1296673                 57756, Manderson, SD   40     Morning        2020   \n",
       "1296674                      59871, Sula, MT   25     Morning        2020   \n",
       "\n",
       "         trans_month  \n",
       "0                  1  \n",
       "1                  1  \n",
       "2                  1  \n",
       "3                  1  \n",
       "4                  1  \n",
       "...              ...  \n",
       "1296670            6  \n",
       "1296671            6  \n",
       "1296672            6  \n",
       "1296673            6  \n",
       "1296674            6  \n",
       "\n",
       "[1296675 rows x 14 columns]"
      ],
      "text/html": "<div>\n<style scoped>\n    .dataframe tbody tr th:only-of-type {\n        vertical-align: middle;\n    }\n\n    .dataframe tbody tr th {\n        vertical-align: top;\n    }\n\n    .dataframe thead th {\n        text-align: right;\n    }\n</style>\n<table border=\"1\" class=\"dataframe\">\n  <thead>\n    <tr style=\"text-align: right;\">\n      <th></th>\n      <th>category</th>\n      <th>amt</th>\n      <th>is_male</th>\n      <th>lat</th>\n      <th>long</th>\n      <th>city_pop</th>\n      <th>job</th>\n      <th>unix_time</th>\n      <th>is_fraud</th>\n      <th>state_city</th>\n      <th>age</th>\n      <th>trans_time</th>\n      <th>trans_year</th>\n      <th>trans_month</th>\n    </tr>\n  </thead>\n  <tbody>\n    <tr>\n      <th>0</th>\n      <td>misc_net</td>\n      <td>4.97</td>\n      <td>0</td>\n      <td>36.0788</td>\n      <td>-81.1781</td>\n      <td>3495</td>\n      <td>Psychologist, counselling</td>\n      <td>1325376018</td>\n      <td>0</td>\n      <td>28654, Moravian Falls, NC</td>\n      <td>31</td>\n      <td>Late Night</td>\n      <td>2019</td>\n      <td>1</td>\n    </tr>\n    <tr>\n      <th>1</th>\n      <td>grocery_pos</td>\n      <td>107.23</td>\n      <td>0</td>\n      <td>48.8878</td>\n      <td>-118.2105</td>\n      <td>149</td>\n      <td>Special educational needs teacher</td>\n      <td>1325376044</td>\n      <td>0</td>\n      <td>99160, Orient, WA</td>\n      <td>41</td>\n      <td>Late Night</td>\n      <td>2019</td>\n      <td>1</td>\n    </tr>\n    <tr>\n      <th>2</th>\n      <td>entertainment</td>\n      <td>220.11</td>\n      <td>1</td>\n      <td>42.1808</td>\n      <td>-112.2620</td>\n      <td>4154</td>\n      <td>Nature conservation officer</td>\n      <td>1325376051</td>\n      <td>0</td>\n      <td>83252, Malad City, ID</td>\n      <td>57</td>\n      <td>Late Night</td>\n      <td>2019</td>\n      <td>1</td>\n    </tr>\n    <tr>\n      <th>3</th>\n      <td>gas_transport</td>\n      <td>45.00</td>\n      <td>1</td>\n      <td>46.2306</td>\n      <td>-112.1138</td>\n      <td>1939</td>\n      <td>Patent attorney</td>\n      <td>1325376076</td>\n      <td>0</td>\n      <td>59632, Boulder, MT</td>\n      <td>52</td>\n      <td>Late Night</td>\n      <td>2019</td>\n      <td>1</td>\n    </tr>\n    <tr>\n      <th>4</th>\n      <td>misc_pos</td>\n      <td>41.96</td>\n      <td>1</td>\n      <td>38.4207</td>\n      <td>-79.4629</td>\n      <td>99</td>\n      <td>Dance movement psychotherapist</td>\n      <td>1325376186</td>\n      <td>0</td>\n      <td>24433, Doe Hill, VA</td>\n      <td>33</td>\n      <td>Late Night</td>\n      <td>2019</td>\n      <td>1</td>\n    </tr>\n    <tr>\n      <th>...</th>\n      <td>...</td>\n      <td>...</td>\n      <td>...</td>\n      <td>...</td>\n      <td>...</td>\n      <td>...</td>\n      <td>...</td>\n      <td>...</td>\n      <td>...</td>\n      <td>...</td>\n      <td>...</td>\n      <td>...</td>\n      <td>...</td>\n      <td>...</td>\n    </tr>\n    <tr>\n      <th>1296670</th>\n      <td>entertainment</td>\n      <td>15.56</td>\n      <td>1</td>\n      <td>37.7175</td>\n      <td>-112.4777</td>\n      <td>258</td>\n      <td>Geoscientist</td>\n      <td>1371816728</td>\n      <td>0</td>\n      <td>84735, Hatch, UT</td>\n      <td>59</td>\n      <td>Morning</td>\n      <td>2020</td>\n      <td>6</td>\n    </tr>\n    <tr>\n      <th>1296671</th>\n      <td>food_dining</td>\n      <td>51.70</td>\n      <td>1</td>\n      <td>39.2667</td>\n      <td>-77.5101</td>\n      <td>100</td>\n      <td>Production assistant, television</td>\n      <td>1371816739</td>\n      <td>0</td>\n      <td>21790, Tuscarora, MD</td>\n      <td>41</td>\n      <td>Morning</td>\n      <td>2020</td>\n      <td>6</td>\n    </tr>\n    <tr>\n      <th>1296672</th>\n      <td>food_dining</td>\n      <td>105.93</td>\n      <td>1</td>\n      <td>32.9396</td>\n      <td>-105.8189</td>\n      <td>899</td>\n      <td>Naval architect</td>\n      <td>1371816752</td>\n      <td>0</td>\n      <td>88325, High Rolls Mountain Park, NM</td>\n      <td>53</td>\n      <td>Morning</td>\n      <td>2020</td>\n      <td>6</td>\n    </tr>\n    <tr>\n      <th>1296673</th>\n      <td>food_dining</td>\n      <td>74.90</td>\n      <td>1</td>\n      <td>43.3526</td>\n      <td>-102.5411</td>\n      <td>1126</td>\n      <td>Volunteer coordinator</td>\n      <td>1371816816</td>\n      <td>0</td>\n      <td>57756, Manderson, SD</td>\n      <td>40</td>\n      <td>Morning</td>\n      <td>2020</td>\n      <td>6</td>\n    </tr>\n    <tr>\n      <th>1296674</th>\n      <td>food_dining</td>\n      <td>4.30</td>\n      <td>1</td>\n      <td>45.8433</td>\n      <td>-113.8748</td>\n      <td>218</td>\n      <td>Therapist, horticultural</td>\n      <td>1371816817</td>\n      <td>0</td>\n      <td>59871, Sula, MT</td>\n      <td>25</td>\n      <td>Morning</td>\n      <td>2020</td>\n      <td>6</td>\n    </tr>\n  </tbody>\n</table>\n<p>1296675 rows × 14 columns</p>\n</div>"
     },
     "metadata": {},
     "execution_count": 8
    }
   ],
   "source": [
    "# import Dataset\n",
    "path = '../dataset/midterm_dataset/'+filename\n",
    "df = pd.read_csv(path)\n",
    "\n",
    "row_num = df.shape[0]\n",
    "feature_num = df.shape[1]\n",
    "\n",
    "print(df.shape)\n",
    "df"
   ]
  },
  {
   "cell_type": "markdown",
   "id": "uniform-single",
   "metadata": {},
   "source": [
    "<h2> Normalization"
   ]
  },
  {
   "cell_type": "code",
   "execution_count": 10,
   "id": "eleven-criminal",
   "metadata": {},
   "outputs": [
    {
     "output_type": "execute_result",
     "data": {
      "text/plain": [
       "              category       amt  is_male       lat      long  city_pop  \\\n",
       "0             misc_net  0.000137        0  0.343968  0.864638  0.001194   \n",
       "1          grocery_pos  0.003670        0  0.618450  0.485682  0.000043   \n",
       "2        entertainment  0.007569        1  0.474727  0.546553  0.001421   \n",
       "3        gas_transport  0.001520        1  0.561509  0.548070  0.000659   \n",
       "4             misc_pos  0.001415        1  0.394153  0.882190  0.000026   \n",
       "...                ...       ...      ...       ...       ...       ...   \n",
       "1296670  entertainment  0.000503        1  0.379084  0.544346  0.000081   \n",
       "1296671    food_dining  0.001751        1  0.412281  0.902174  0.000026   \n",
       "1296672    food_dining  0.003625        1  0.276699  0.612486  0.000301   \n",
       "1296673    food_dining  0.002553        1  0.499837  0.646029  0.000379   \n",
       "1296674    food_dining  0.000114        1  0.553210  0.530050  0.000067   \n",
       "\n",
       "                                       job     unix_time  is_fraud  \\\n",
       "0                Psychologist, counselling  0.000000e+00         0   \n",
       "1        Special educational needs teacher  5.598526e-07         0   \n",
       "2              Nature conservation officer  7.105821e-07         0   \n",
       "3                          Patent attorney  1.248902e-06         0   \n",
       "4           Dance movement psychotherapist  3.617509e-06         0   \n",
       "...                                    ...           ...       ...   \n",
       "1296670                       Geoscientist  9.999981e-01         0   \n",
       "1296671   Production assistant, television  9.999983e-01         0   \n",
       "1296672                    Naval architect  9.999986e-01         0   \n",
       "1296673              Volunteer coordinator  1.000000e+00         0   \n",
       "1296674           Therapist, horticultural  1.000000e+00         0   \n",
       "\n",
       "                                  state_city       age  trans_time  \\\n",
       "0                  28654, Moravian Falls, NC  0.207317  Late Night   \n",
       "1                          99160, Orient, WA  0.329268  Late Night   \n",
       "2                      83252, Malad City, ID  0.524390  Late Night   \n",
       "3                         59632, Boulder, MT  0.463415  Late Night   \n",
       "4                        24433, Doe Hill, VA  0.231707  Late Night   \n",
       "...                                      ...       ...         ...   \n",
       "1296670                     84735, Hatch, UT  0.548780     Morning   \n",
       "1296671                 21790, Tuscarora, MD  0.329268     Morning   \n",
       "1296672  88325, High Rolls Mountain Park, NM  0.475610     Morning   \n",
       "1296673                 57756, Manderson, SD  0.317073     Morning   \n",
       "1296674                      59871, Sula, MT  0.134146     Morning   \n",
       "\n",
       "         trans_year  trans_month  \n",
       "0              2019            1  \n",
       "1              2019            1  \n",
       "2              2019            1  \n",
       "3              2019            1  \n",
       "4              2019            1  \n",
       "...             ...          ...  \n",
       "1296670        2020            6  \n",
       "1296671        2020            6  \n",
       "1296672        2020            6  \n",
       "1296673        2020            6  \n",
       "1296674        2020            6  \n",
       "\n",
       "[1296675 rows x 14 columns]"
      ],
      "text/html": "<div>\n<style scoped>\n    .dataframe tbody tr th:only-of-type {\n        vertical-align: middle;\n    }\n\n    .dataframe tbody tr th {\n        vertical-align: top;\n    }\n\n    .dataframe thead th {\n        text-align: right;\n    }\n</style>\n<table border=\"1\" class=\"dataframe\">\n  <thead>\n    <tr style=\"text-align: right;\">\n      <th></th>\n      <th>category</th>\n      <th>amt</th>\n      <th>is_male</th>\n      <th>lat</th>\n      <th>long</th>\n      <th>city_pop</th>\n      <th>job</th>\n      <th>unix_time</th>\n      <th>is_fraud</th>\n      <th>state_city</th>\n      <th>age</th>\n      <th>trans_time</th>\n      <th>trans_year</th>\n      <th>trans_month</th>\n    </tr>\n  </thead>\n  <tbody>\n    <tr>\n      <th>0</th>\n      <td>misc_net</td>\n      <td>0.000137</td>\n      <td>0</td>\n      <td>0.343968</td>\n      <td>0.864638</td>\n      <td>0.001194</td>\n      <td>Psychologist, counselling</td>\n      <td>0.000000e+00</td>\n      <td>0</td>\n      <td>28654, Moravian Falls, NC</td>\n      <td>0.207317</td>\n      <td>Late Night</td>\n      <td>2019</td>\n      <td>1</td>\n    </tr>\n    <tr>\n      <th>1</th>\n      <td>grocery_pos</td>\n      <td>0.003670</td>\n      <td>0</td>\n      <td>0.618450</td>\n      <td>0.485682</td>\n      <td>0.000043</td>\n      <td>Special educational needs teacher</td>\n      <td>5.598526e-07</td>\n      <td>0</td>\n      <td>99160, Orient, WA</td>\n      <td>0.329268</td>\n      <td>Late Night</td>\n      <td>2019</td>\n      <td>1</td>\n    </tr>\n    <tr>\n      <th>2</th>\n      <td>entertainment</td>\n      <td>0.007569</td>\n      <td>1</td>\n      <td>0.474727</td>\n      <td>0.546553</td>\n      <td>0.001421</td>\n      <td>Nature conservation officer</td>\n      <td>7.105821e-07</td>\n      <td>0</td>\n      <td>83252, Malad City, ID</td>\n      <td>0.524390</td>\n      <td>Late Night</td>\n      <td>2019</td>\n      <td>1</td>\n    </tr>\n    <tr>\n      <th>3</th>\n      <td>gas_transport</td>\n      <td>0.001520</td>\n      <td>1</td>\n      <td>0.561509</td>\n      <td>0.548070</td>\n      <td>0.000659</td>\n      <td>Patent attorney</td>\n      <td>1.248902e-06</td>\n      <td>0</td>\n      <td>59632, Boulder, MT</td>\n      <td>0.463415</td>\n      <td>Late Night</td>\n      <td>2019</td>\n      <td>1</td>\n    </tr>\n    <tr>\n      <th>4</th>\n      <td>misc_pos</td>\n      <td>0.001415</td>\n      <td>1</td>\n      <td>0.394153</td>\n      <td>0.882190</td>\n      <td>0.000026</td>\n      <td>Dance movement psychotherapist</td>\n      <td>3.617509e-06</td>\n      <td>0</td>\n      <td>24433, Doe Hill, VA</td>\n      <td>0.231707</td>\n      <td>Late Night</td>\n      <td>2019</td>\n      <td>1</td>\n    </tr>\n    <tr>\n      <th>...</th>\n      <td>...</td>\n      <td>...</td>\n      <td>...</td>\n      <td>...</td>\n      <td>...</td>\n      <td>...</td>\n      <td>...</td>\n      <td>...</td>\n      <td>...</td>\n      <td>...</td>\n      <td>...</td>\n      <td>...</td>\n      <td>...</td>\n      <td>...</td>\n    </tr>\n    <tr>\n      <th>1296670</th>\n      <td>entertainment</td>\n      <td>0.000503</td>\n      <td>1</td>\n      <td>0.379084</td>\n      <td>0.544346</td>\n      <td>0.000081</td>\n      <td>Geoscientist</td>\n      <td>9.999981e-01</td>\n      <td>0</td>\n      <td>84735, Hatch, UT</td>\n      <td>0.548780</td>\n      <td>Morning</td>\n      <td>2020</td>\n      <td>6</td>\n    </tr>\n    <tr>\n      <th>1296671</th>\n      <td>food_dining</td>\n      <td>0.001751</td>\n      <td>1</td>\n      <td>0.412281</td>\n      <td>0.902174</td>\n      <td>0.000026</td>\n      <td>Production assistant, television</td>\n      <td>9.999983e-01</td>\n      <td>0</td>\n      <td>21790, Tuscarora, MD</td>\n      <td>0.329268</td>\n      <td>Morning</td>\n      <td>2020</td>\n      <td>6</td>\n    </tr>\n    <tr>\n      <th>1296672</th>\n      <td>food_dining</td>\n      <td>0.003625</td>\n      <td>1</td>\n      <td>0.276699</td>\n      <td>0.612486</td>\n      <td>0.000301</td>\n      <td>Naval architect</td>\n      <td>9.999986e-01</td>\n      <td>0</td>\n      <td>88325, High Rolls Mountain Park, NM</td>\n      <td>0.475610</td>\n      <td>Morning</td>\n      <td>2020</td>\n      <td>6</td>\n    </tr>\n    <tr>\n      <th>1296673</th>\n      <td>food_dining</td>\n      <td>0.002553</td>\n      <td>1</td>\n      <td>0.499837</td>\n      <td>0.646029</td>\n      <td>0.000379</td>\n      <td>Volunteer coordinator</td>\n      <td>1.000000e+00</td>\n      <td>0</td>\n      <td>57756, Manderson, SD</td>\n      <td>0.317073</td>\n      <td>Morning</td>\n      <td>2020</td>\n      <td>6</td>\n    </tr>\n    <tr>\n      <th>1296674</th>\n      <td>food_dining</td>\n      <td>0.000114</td>\n      <td>1</td>\n      <td>0.553210</td>\n      <td>0.530050</td>\n      <td>0.000067</td>\n      <td>Therapist, horticultural</td>\n      <td>1.000000e+00</td>\n      <td>0</td>\n      <td>59871, Sula, MT</td>\n      <td>0.134146</td>\n      <td>Morning</td>\n      <td>2020</td>\n      <td>6</td>\n    </tr>\n  </tbody>\n</table>\n<p>1296675 rows × 14 columns</p>\n</div>"
     },
     "metadata": {},
     "execution_count": 10
    }
   ],
   "source": [
    "nor_col = ['amt', 'city_pop','lat', 'long', 'unix_time', 'age']\n",
    "        \n",
    "df[nor_col] = df[nor_col].apply(lambda x: (x - x.min()) / (x.max() - x.min()))\n",
    "df"
   ]
  },
  {
   "cell_type": "code",
   "execution_count": 12,
   "id": "legendary-sunset",
   "metadata": {},
   "outputs": [
    {
     "output_type": "execute_result",
     "data": {
      "text/plain": [
       "'is_fraud'"
      ]
     },
     "metadata": {},
     "execution_count": 12
    }
   ],
   "source": [
    "label = 'is_fraud'\n",
    "label"
   ]
  },
  {
   "cell_type": "code",
   "execution_count": 14,
   "id": "passing-engineer",
   "metadata": {},
   "outputs": [
    {
     "output_type": "stream",
     "name": "stdout",
     "text": [
      "['category', 'amt', 'is_male', 'lat', 'long', 'city_pop', 'job', 'unix_time', 'state_city', 'age', 'trans_time', 'trans_year', 'trans_month']\n"
     ]
    }
   ],
   "source": [
    "features = df.loc[:, df.columns != label].columns.tolist()\n",
    "print(features)"
   ]
  },
  {
   "cell_type": "markdown",
   "id": "multiple-alarm",
   "metadata": {},
   "source": [
    "<h2>Information Gain table from the train dataset"
   ]
  },
  {
   "cell_type": "code",
   "execution_count": 16,
   "id": "dutch-accountability",
   "metadata": {},
   "outputs": [
    {
     "output_type": "execute_result",
     "data": {
      "text/plain": [
       "             information_gain\n",
       "features                     \n",
       "amt                  0.051352\n",
       "lat                  0.051352\n",
       "long                 0.051352\n",
       "city_pop             0.051352\n",
       "unix_time            0.051352\n",
       "age                  0.051352\n",
       "state_city           0.007758\n",
       "trans_time           0.005617\n",
       "job                  0.003134\n",
       "category             0.003107\n",
       "trans_month          0.000252\n",
       "is_male              0.000042\n",
       "trans_year           0.000006"
      ],
      "text/html": "<div>\n<style scoped>\n    .dataframe tbody tr th:only-of-type {\n        vertical-align: middle;\n    }\n\n    .dataframe tbody tr th {\n        vertical-align: top;\n    }\n\n    .dataframe thead th {\n        text-align: right;\n    }\n</style>\n<table border=\"1\" class=\"dataframe\">\n  <thead>\n    <tr style=\"text-align: right;\">\n      <th></th>\n      <th>information_gain</th>\n    </tr>\n    <tr>\n      <th>features</th>\n      <th></th>\n    </tr>\n  </thead>\n  <tbody>\n    <tr>\n      <th>amt</th>\n      <td>0.051352</td>\n    </tr>\n    <tr>\n      <th>lat</th>\n      <td>0.051352</td>\n    </tr>\n    <tr>\n      <th>long</th>\n      <td>0.051352</td>\n    </tr>\n    <tr>\n      <th>city_pop</th>\n      <td>0.051352</td>\n    </tr>\n    <tr>\n      <th>unix_time</th>\n      <td>0.051352</td>\n    </tr>\n    <tr>\n      <th>age</th>\n      <td>0.051352</td>\n    </tr>\n    <tr>\n      <th>state_city</th>\n      <td>0.007758</td>\n    </tr>\n    <tr>\n      <th>trans_time</th>\n      <td>0.005617</td>\n    </tr>\n    <tr>\n      <th>job</th>\n      <td>0.003134</td>\n    </tr>\n    <tr>\n      <th>category</th>\n      <td>0.003107</td>\n    </tr>\n    <tr>\n      <th>trans_month</th>\n      <td>0.000252</td>\n    </tr>\n    <tr>\n      <th>is_male</th>\n      <td>0.000042</td>\n    </tr>\n    <tr>\n      <th>trans_year</th>\n      <td>0.000006</td>\n    </tr>\n  </tbody>\n</table>\n</div>"
     },
     "metadata": {},
     "execution_count": 16
    }
   ],
   "source": [
    "df_ig = pd.read_csv('info_gain_all_feature.csv')\n",
    "df_ig = df_ig.rename(columns={'Unnamed: 0' : 'features'})\n",
    "df_ig.set_index(\"features\", inplace = True)\n",
    "df_ig"
   ]
  },
  {
   "cell_type": "markdown",
   "id": "billion-angel",
   "metadata": {},
   "source": [
    "<h2>All necessary function"
   ]
  },
  {
   "cell_type": "code",
   "execution_count": 18,
   "id": "little-style",
   "metadata": {},
   "outputs": [],
   "source": [
    "def find_prob_each(label, feature, df=df):\n",
    "    \"\"\"\n",
    "    -helper function for group_entropy function\n",
    "    -and also give probability often its occures compare to the label\n",
    "    \n",
    "    return dict of probability of feature\n",
    "    \"\"\"\n",
    "    if feature not in df.columns.tolist():\n",
    "        return {'never_met': [0, 0]}\n",
    "\n",
    "    temp_df = df.groupby([feature, label])\n",
    "    prob_list = []\n",
    "\n",
    "    if len(temp_df.size())< 2000 and feature not in ['age', 'lat', 'long', 'city_pop']:  \n",
    "        for r in range(len(temp_df.size())):\n",
    "                feature_prob = temp_df.size().values[r]/ \\\n",
    "                    len(df[feature][df[feature] == temp_df.size().index[r][0]])\n",
    "                prob_feature = {}\n",
    "                prob_feature[temp_df.size().index[r]] = feature_prob\n",
    "                featu = ''\n",
    "                if len(prob_list) == 0:\n",
    "                    featu = temp_df.size().index[r][0]\n",
    "                    prob_list.append({featu : [0.0, 0.0]})\n",
    "                    if temp_df.size().index[r][1] == 1:\n",
    "                        prob_list[-1][featu][1] = feature_prob\n",
    "                    else:\n",
    "                        prob_list[-1][featu][0] = feature_prob\n",
    "                elif temp_df.size().index[r][0] in prob_list[-1]: #append 2nd value\n",
    "#                     print(df.groupby([feature, label]).size().index[r][0], r,feature_prob, temp_df.size().index[r][1])\n",
    "#                     print(prob_list[-1][temp_df.size().index[r][0]])\n",
    "                    if temp_df.size().index[r][1] == 1:\n",
    "                        prob_list[-1][temp_df.size().index[r][0]][1] = feature_prob\n",
    "                    else:\n",
    "                        prob_list[-1][temp_df.size().index[r][0]][0] = feature_prob\n",
    "                else:\n",
    "                    featu = temp_df.size().index[r][0]\n",
    "                    prob_list.append({featu : [0.0, 0.0]})\n",
    "                    if temp_df.size().index[r][1] == 1:\n",
    "                        prob_list[-1][featu][1] = feature_prob\n",
    "                    else:\n",
    "                        prob_list[-1][featu][0] = feature_prob\n",
    "                    \n",
    "    else: #numeric feature\n",
    "        greater_than_eq_df = df[[label, feature]][df[feature] >=df[feature].mean()]\n",
    "        less_than_df = df[[label, feature]][df[feature] < df[feature].mean()]\n",
    "        condition_dfs = [greater_than_eq_df, less_than_df]\n",
    "    \n",
    "        prob_list = [{'greater_than_eq_mean': []}, {'less_than_mean': []}]\n",
    "    \n",
    "        for d in condition_dfs:\n",
    "            for r in range(len(d[label].value_counts())):\n",
    "                feature_prob = d[label].value_counts()[r]/len(d)\n",
    "#                 print(feature_prob)\n",
    "                if  d.equals(greater_than_eq_df):\n",
    "                    prob_list[0]['greater_than_eq_mean'].append(feature_prob)\n",
    "\n",
    "                else:\n",
    "                    prob_list[1]['less_than_mean'].append(feature_prob)\n",
    "    p_dict = {}\n",
    "    [p_dict.update(i) for i in prob_list]\n",
    "    \n",
    "    return p_dict"
   ]
  },
  {
   "cell_type": "code",
   "execution_count": 20,
   "id": "pressed-dictionary",
   "metadata": {},
   "outputs": [],
   "source": [
    "#containing dict to decrease workload of model\n",
    "store_prob_dict = {}"
   ]
  },
  {
   "cell_type": "code",
   "execution_count": 109,
   "id": "antique-incentive",
   "metadata": {},
   "outputs": [],
   "source": [
    "def extract_feature_point(feature, value, df=df, store_prob_dict=store_prob_dict):\n",
    "\n",
    "    if feature not in df.columns.tolist():\n",
    "        return [0,0]\n",
    "    #check type\n",
    "    if type(value) != str and feature not in ['is_male', 'trans_year', 'trans_month']:\n",
    "        mean_val = df[feature].mean()\n",
    "        if value >= mean_val:\n",
    "            value = 'greater_than_eq_mean'\n",
    "        else:\n",
    "            value = 'less_than_mean'\n",
    "    \n",
    "    print(feature, 'value', value)\n",
    "        \n",
    "    if feature not in store_prob_dict:\n",
    "        prob_dict = find_prob_each(label, feature, df)\n",
    "        store_prob_dict.update({feature : prob_dict})\n",
    "        print(feature)\n",
    "        print('store_dict length:', len(store_prob_dict))\n",
    "        \n",
    "    \n",
    "    #append value\n",
    "    if value not in store_prob_dict[feature]:\n",
    "        #return 0 when hv no data\n",
    "        return [0, 0]\n",
    "    elif value in store_prob_dict[feature]:\n",
    "        # print(store_prob_dict[feature])\n",
    "        #return point\n",
    "        return [\n",
    "            100*store_prob_dict[feature][value][0]*float(df_ig.loc[feature,:]),\n",
    "            100*store_prob_dict[feature][value][1]*float(df_ig.loc[feature,:])\n",
    "        ]"
   ]
  },
  {
   "cell_type": "code",
   "execution_count": 110,
   "id": "honest-morocco",
   "metadata": {},
   "outputs": [],
   "source": [
    "def row_desicion_tree_predictor(an_row=[], features=[], df=df, store_prob_dict=store_prob_dict, x_features=features):\n",
    "    not_fraud = []\n",
    "    fraud = []\n",
    "#     an_row = an_df_row.values.tolist()[0]\n",
    "    #making index of sub sample and test data to be the same\n",
    "    #in case x_features lenght is more than df features\n",
    "    for i, feature in enumerate(x_features):\n",
    "        point = extract_feature_point(feature, an_row[i], df, store_prob_dict)\n",
    "        not_fraud.append(point[0])\n",
    "        fraud.append(point[1])\n",
    "#         print(feature,':',point,'done')\n",
    "    print('predicting..')\n",
    "#     print(1)\n",
    "    #predicting\n",
    "    nfra_mean = np.mean(not_fraud)\n",
    "    fra_mean = np.mean(fraud)\n",
    "    if nfra_mean >= fra_mean:\n",
    "        return 0\n",
    "    else:\n",
    "        return 1"
   ]
  },
  {
   "cell_type": "code",
   "execution_count": 106,
   "id": "insured-plenty",
   "metadata": {},
   "outputs": [],
   "source": [
    "def desicion_tree_predictor(X, train, features, store_prob_dict={}):\n",
    "    \"\"\"\n",
    "    return list of predicting point\n",
    "    \"\"\"\n",
    "    x_features = X.loc[:, X.columns != label].columns.tolist()\n",
    "    x_list = X.values.tolist()\n",
    "    return [row_desicion_tree_predictor(row, features, train, store_prob_dict, x_features) for row in x_list]"
   ]
  },
  {
   "source": [
    "<h2> Random Forest preparation"
   ],
   "cell_type": "markdown",
   "metadata": {}
  },
  {
   "cell_type": "code",
   "execution_count": 24,
   "id": "precise-spine",
   "metadata": {},
   "outputs": [],
   "source": [
    "subset_features_per_df_list = []\n",
    "def subsample(features, ratio):\n",
    "    selected_features = list()\n",
    "    n_sample = round(len(features) * ratio)\n",
    "    print(n_sample)\n",
    "    while len(selected_features) < n_sample:\n",
    "        index = randrange(len(features))\n",
    "        selected_features.append(features[index])\n",
    "    selected_features = list(set(selected_features))\n",
    "    return selected_features"
   ]
  },
  {
   "cell_type": "code",
   "execution_count": 96,
   "id": "guided-extra",
   "metadata": {},
   "outputs": [
    {
     "output_type": "stream",
     "name": "stdout",
     "text": [
      "10\n10\n10\n"
     ]
    },
    {
     "output_type": "execute_result",
     "data": {
      "text/plain": [
       "[['trans_time', 'long', 'city_pop', 'age', 'amt', 'unix_time', 'is_fraud'],\n",
       " ['is_male', 'trans_time', 'category', 'age', 'trans_year', 'job', 'is_fraud'],\n",
       " ['trans_time',\n",
       "  'age',\n",
       "  'trans_month',\n",
       "  'city_pop',\n",
       "  'state_city',\n",
       "  'amt',\n",
       "  'unix_time',\n",
       "  'is_fraud']]"
      ]
     },
     "metadata": {},
     "execution_count": 96
    }
   ],
   "source": [
    "#random subset for creating Tree\n",
    "n_subset = 3 #amount of tree\n",
    "subset_features_per_df_list = []\n",
    "store_prob_dict_list = []\n",
    "for n in range(n_subset):\n",
    "    store_prob_dict_list.append({})\n",
    "    subset_features_per_df_list.append(subsample(features, 0.8))\n",
    "    subset_features_per_df_list[n].append(label)\n",
    "subset_features_per_df_list"
   ]
  },
  {
   "cell_type": "code",
   "execution_count": 105,
   "metadata": {},
   "outputs": [
    {
     "output_type": "execute_result",
     "data": {
      "text/plain": [
       "[{'trans_time': {'Early Morning': [0.9987882656830931, 0.0012117343169069448],\n",
       "   'Eve': [0.9988477987997268, 0.001152201200273171],\n",
       "   'Late Night': [0.9879008177410784, 0.01209918225892156],\n",
       "   'Morning': [0.9989780755494148, 0.0010219244505852603],\n",
       "   'Night': [0.9804176957103282, 0.019582304289671826],\n",
       "   'Noon': [0.998771602198105, 0.0012283978018950237]},\n",
       "  'long': {'greater_than_eq_mean': [0.9939216773621463, 0.006078322637853727],\n",
       "   'less_than_mean': [0.9945934441710067, 0.005406555828993304]},\n",
       "  'city_pop': {'greater_than_eq_mean': [0.9936363261008692,\n",
       "    0.0063636738991308655],\n",
       "   'less_than_mean': [0.9943123656406319, 0.005687634359368186]},\n",
       "  'age': {'greater_than_eq_mean': [0.9930538271431827, 0.006946172856817345],\n",
       "   'less_than_mean': [0.9951208092047732, 0.004879190795226849]},\n",
       "  'amt': {'greater_than_eq_mean': [0.9864942104874991, 0.013505789512500923],\n",
       "   'less_than_mean': [0.9980922290206041, 0.0019077709793958416]},\n",
       "  'unix_time': {'greater_than_eq_mean': [0.9943265233107567,\n",
       "    0.005673476689243372],\n",
       "   'less_than_mean': [0.9940961310914984, 0.005903868908501602]}},\n",
       " {},\n",
       " {}]"
      ]
     },
     "metadata": {},
     "execution_count": 105
    }
   ],
   "source": [
    "#containing dict to decrease workload of model\n",
    "store_prob_dict_list"
   ]
  },
  {
   "cell_type": "code",
   "execution_count": 98,
   "metadata": {},
   "outputs": [
    {
     "output_type": "execute_result",
     "data": {
      "text/plain": [
       "   trans_time      long  city_pop       age       amt     unix_time  is_fraud\n",
       "0  Late Night  0.864638  0.001194  0.207317  0.000137  0.000000e+00         0\n",
       "1  Late Night  0.485682  0.000043  0.329268  0.003670  5.598526e-07         0\n",
       "2  Late Night  0.546553  0.001421  0.524390  0.007569  7.105821e-07         0\n",
       "3  Late Night  0.548070  0.000659  0.463415  0.001520  1.248902e-06         0\n",
       "4  Late Night  0.882190  0.000026  0.231707  0.001415  3.617509e-06         0"
      ],
      "text/html": "<div>\n<style scoped>\n    .dataframe tbody tr th:only-of-type {\n        vertical-align: middle;\n    }\n\n    .dataframe tbody tr th {\n        vertical-align: top;\n    }\n\n    .dataframe thead th {\n        text-align: right;\n    }\n</style>\n<table border=\"1\" class=\"dataframe\">\n  <thead>\n    <tr style=\"text-align: right;\">\n      <th></th>\n      <th>trans_time</th>\n      <th>long</th>\n      <th>city_pop</th>\n      <th>age</th>\n      <th>amt</th>\n      <th>unix_time</th>\n      <th>is_fraud</th>\n    </tr>\n  </thead>\n  <tbody>\n    <tr>\n      <th>0</th>\n      <td>Late Night</td>\n      <td>0.864638</td>\n      <td>0.001194</td>\n      <td>0.207317</td>\n      <td>0.000137</td>\n      <td>0.000000e+00</td>\n      <td>0</td>\n    </tr>\n    <tr>\n      <th>1</th>\n      <td>Late Night</td>\n      <td>0.485682</td>\n      <td>0.000043</td>\n      <td>0.329268</td>\n      <td>0.003670</td>\n      <td>5.598526e-07</td>\n      <td>0</td>\n    </tr>\n    <tr>\n      <th>2</th>\n      <td>Late Night</td>\n      <td>0.546553</td>\n      <td>0.001421</td>\n      <td>0.524390</td>\n      <td>0.007569</td>\n      <td>7.105821e-07</td>\n      <td>0</td>\n    </tr>\n    <tr>\n      <th>3</th>\n      <td>Late Night</td>\n      <td>0.548070</td>\n      <td>0.000659</td>\n      <td>0.463415</td>\n      <td>0.001520</td>\n      <td>1.248902e-06</td>\n      <td>0</td>\n    </tr>\n    <tr>\n      <th>4</th>\n      <td>Late Night</td>\n      <td>0.882190</td>\n      <td>0.000026</td>\n      <td>0.231707</td>\n      <td>0.001415</td>\n      <td>3.617509e-06</td>\n      <td>0</td>\n    </tr>\n  </tbody>\n</table>\n</div>"
     },
     "metadata": {},
     "execution_count": 98
    }
   ],
   "source": [
    "df_list = ()\n",
    "df_list = [df[f] for f in subset_features_per_df_list]\n",
    "df_list[0].head()"
   ]
  },
  {
   "source": [
    "<h2> Import test data"
   ],
   "cell_type": "markdown",
   "metadata": {}
  },
  {
   "cell_type": "code",
   "execution_count": 99,
   "metadata": {},
   "outputs": [
    {
     "output_type": "stream",
     "name": "stdout",
     "text": [
      "(555719, 14)\n"
     ]
    },
    {
     "output_type": "execute_result",
     "data": {
      "text/plain": [
       "         category    amt  is_male      lat      long  city_pop  \\\n",
       "0   personal_care   2.86        1  33.9659  -80.9355    333497   \n",
       "1   personal_care  29.84        0  40.3207 -110.4360       302   \n",
       "2  health_fitness  41.28        0  40.6729  -73.5365     34496   \n",
       "3        misc_pos  60.05        1  28.5697  -80.8191     54767   \n",
       "4          travel   3.19        1  44.2529  -85.0170      1126   \n",
       "\n",
       "                      job   unix_time  is_fraud             state_city  age  \\\n",
       "0     Mechanical engineer  1371816865         0    29209, Columbia, SC   52   \n",
       "1  Sales professional, IT  1371816873         0     84002, Altonah, UT   30   \n",
       "2       Librarian, public  1371816893         0    11710, Bellmore, NY   50   \n",
       "3            Set designer  1371816915         0  32780, Titusville, FL   33   \n",
       "4      Furniture designer  1371816917         0    49632, Falmouth, MI   65   \n",
       "\n",
       "  trans_time  trans_year  trans_month  \n",
       "0    Morning        2020            6  \n",
       "1    Morning        2020            6  \n",
       "2    Morning        2020            6  \n",
       "3    Morning        2020            6  \n",
       "4    Morning        2020            6  "
      ],
      "text/html": "<div>\n<style scoped>\n    .dataframe tbody tr th:only-of-type {\n        vertical-align: middle;\n    }\n\n    .dataframe tbody tr th {\n        vertical-align: top;\n    }\n\n    .dataframe thead th {\n        text-align: right;\n    }\n</style>\n<table border=\"1\" class=\"dataframe\">\n  <thead>\n    <tr style=\"text-align: right;\">\n      <th></th>\n      <th>category</th>\n      <th>amt</th>\n      <th>is_male</th>\n      <th>lat</th>\n      <th>long</th>\n      <th>city_pop</th>\n      <th>job</th>\n      <th>unix_time</th>\n      <th>is_fraud</th>\n      <th>state_city</th>\n      <th>age</th>\n      <th>trans_time</th>\n      <th>trans_year</th>\n      <th>trans_month</th>\n    </tr>\n  </thead>\n  <tbody>\n    <tr>\n      <th>0</th>\n      <td>personal_care</td>\n      <td>2.86</td>\n      <td>1</td>\n      <td>33.9659</td>\n      <td>-80.9355</td>\n      <td>333497</td>\n      <td>Mechanical engineer</td>\n      <td>1371816865</td>\n      <td>0</td>\n      <td>29209, Columbia, SC</td>\n      <td>52</td>\n      <td>Morning</td>\n      <td>2020</td>\n      <td>6</td>\n    </tr>\n    <tr>\n      <th>1</th>\n      <td>personal_care</td>\n      <td>29.84</td>\n      <td>0</td>\n      <td>40.3207</td>\n      <td>-110.4360</td>\n      <td>302</td>\n      <td>Sales professional, IT</td>\n      <td>1371816873</td>\n      <td>0</td>\n      <td>84002, Altonah, UT</td>\n      <td>30</td>\n      <td>Morning</td>\n      <td>2020</td>\n      <td>6</td>\n    </tr>\n    <tr>\n      <th>2</th>\n      <td>health_fitness</td>\n      <td>41.28</td>\n      <td>0</td>\n      <td>40.6729</td>\n      <td>-73.5365</td>\n      <td>34496</td>\n      <td>Librarian, public</td>\n      <td>1371816893</td>\n      <td>0</td>\n      <td>11710, Bellmore, NY</td>\n      <td>50</td>\n      <td>Morning</td>\n      <td>2020</td>\n      <td>6</td>\n    </tr>\n    <tr>\n      <th>3</th>\n      <td>misc_pos</td>\n      <td>60.05</td>\n      <td>1</td>\n      <td>28.5697</td>\n      <td>-80.8191</td>\n      <td>54767</td>\n      <td>Set designer</td>\n      <td>1371816915</td>\n      <td>0</td>\n      <td>32780, Titusville, FL</td>\n      <td>33</td>\n      <td>Morning</td>\n      <td>2020</td>\n      <td>6</td>\n    </tr>\n    <tr>\n      <th>4</th>\n      <td>travel</td>\n      <td>3.19</td>\n      <td>1</td>\n      <td>44.2529</td>\n      <td>-85.0170</td>\n      <td>1126</td>\n      <td>Furniture designer</td>\n      <td>1371816917</td>\n      <td>0</td>\n      <td>49632, Falmouth, MI</td>\n      <td>65</td>\n      <td>Morning</td>\n      <td>2020</td>\n      <td>6</td>\n    </tr>\n  </tbody>\n</table>\n</div>"
     },
     "metadata": {},
     "execution_count": 99
    }
   ],
   "source": [
    "# import Dataset\n",
    "path = '../dataset/midterm_dataset/cleaned_fraudTest.csv'\n",
    "df_test = pd.read_csv(path)\n",
    "\n",
    "row_num = df_test.shape[0]\n",
    "feature_num = df_test.shape[1]\n",
    "\n",
    "print(df_test.shape)\n",
    "df_test.head()"
   ]
  },
  {
   "source": [
    "<h2>Normalization test dataset"
   ],
   "cell_type": "markdown",
   "metadata": {}
  },
  {
   "cell_type": "code",
   "execution_count": 100,
   "metadata": {},
   "outputs": [
    {
     "output_type": "execute_result",
     "data": {
      "text/plain": [
       "              category       amt  is_male       lat      long  city_pop  \\\n",
       "0        personal_care  0.000082        1  0.305255  0.867121  0.114727   \n",
       "1        personal_care  0.001267        0  0.444423  0.565239  0.000096   \n",
       "2       health_fitness  0.001769        0  0.452136  0.942836  0.011860   \n",
       "3             misc_pos  0.002594        1  0.187080  0.868312  0.018834   \n",
       "4               travel  0.000096        1  0.530537  0.825355  0.000379   \n",
       "...                ...       ...      ...       ...       ...       ...   \n",
       "555714  health_fitness  0.001879        1  0.448199  0.755010  0.000171   \n",
       "555715       kids_pets  0.004868        1  0.197364  0.718694  0.009879   \n",
       "555716       kids_pets  0.003772        0  0.573103  0.478609  0.001260   \n",
       "555717          travel  0.000307        1  0.538697  0.503704  0.000036   \n",
       "555718   entertainment  0.001631        1  0.342498  0.697821  0.039901   \n",
       "\n",
       "                           job     unix_time  is_fraud  \\\n",
       "0          Mechanical engineer  0.000000e+00         0   \n",
       "1       Sales professional, IT  4.785402e-07         0   \n",
       "2            Librarian, public  1.674891e-06         0   \n",
       "3                 Set designer  2.990876e-06         0   \n",
       "4           Furniture designer  3.110511e-06         0   \n",
       "...                        ...           ...       ...   \n",
       "555714            Town planner  9.999984e-01         0   \n",
       "555715          Futures trader  9.999985e-01         0   \n",
       "555716                Musician  9.999989e-01         0   \n",
       "555717            Cartographer  9.999994e-01         0   \n",
       "555718             Media buyer  1.000000e+00         0   \n",
       "\n",
       "                     state_city       age trans_time  trans_year  trans_month  \n",
       "0           29209, Columbia, SC  0.456790    Morning        2020            6  \n",
       "1            84002, Altonah, UT  0.185185    Morning        2020            6  \n",
       "2           11710, Bellmore, NY  0.432099    Morning        2020            6  \n",
       "3         32780, Titusville, FL  0.222222    Morning        2020            6  \n",
       "4           49632, Falmouth, MI  0.617284    Morning        2020            6  \n",
       "...                         ...       ...        ...         ...          ...  \n",
       "555714         63453, Luray, MO  0.481481      Night        2020           12  \n",
       "555715  77566, Lake Jackson, TX  0.074074      Night        2020           12  \n",
       "555716       99323, Burbank, WA  0.296296      Night        2020           12  \n",
       "555717          83643, Mesa, ID  0.493827      Night        2020           12  \n",
       "555718        73034, Edmond, OK  0.148148      Night        2020           12  \n",
       "\n",
       "[555719 rows x 14 columns]"
      ],
      "text/html": "<div>\n<style scoped>\n    .dataframe tbody tr th:only-of-type {\n        vertical-align: middle;\n    }\n\n    .dataframe tbody tr th {\n        vertical-align: top;\n    }\n\n    .dataframe thead th {\n        text-align: right;\n    }\n</style>\n<table border=\"1\" class=\"dataframe\">\n  <thead>\n    <tr style=\"text-align: right;\">\n      <th></th>\n      <th>category</th>\n      <th>amt</th>\n      <th>is_male</th>\n      <th>lat</th>\n      <th>long</th>\n      <th>city_pop</th>\n      <th>job</th>\n      <th>unix_time</th>\n      <th>is_fraud</th>\n      <th>state_city</th>\n      <th>age</th>\n      <th>trans_time</th>\n      <th>trans_year</th>\n      <th>trans_month</th>\n    </tr>\n  </thead>\n  <tbody>\n    <tr>\n      <th>0</th>\n      <td>personal_care</td>\n      <td>0.000082</td>\n      <td>1</td>\n      <td>0.305255</td>\n      <td>0.867121</td>\n      <td>0.114727</td>\n      <td>Mechanical engineer</td>\n      <td>0.000000e+00</td>\n      <td>0</td>\n      <td>29209, Columbia, SC</td>\n      <td>0.456790</td>\n      <td>Morning</td>\n      <td>2020</td>\n      <td>6</td>\n    </tr>\n    <tr>\n      <th>1</th>\n      <td>personal_care</td>\n      <td>0.001267</td>\n      <td>0</td>\n      <td>0.444423</td>\n      <td>0.565239</td>\n      <td>0.000096</td>\n      <td>Sales professional, IT</td>\n      <td>4.785402e-07</td>\n      <td>0</td>\n      <td>84002, Altonah, UT</td>\n      <td>0.185185</td>\n      <td>Morning</td>\n      <td>2020</td>\n      <td>6</td>\n    </tr>\n    <tr>\n      <th>2</th>\n      <td>health_fitness</td>\n      <td>0.001769</td>\n      <td>0</td>\n      <td>0.452136</td>\n      <td>0.942836</td>\n      <td>0.011860</td>\n      <td>Librarian, public</td>\n      <td>1.674891e-06</td>\n      <td>0</td>\n      <td>11710, Bellmore, NY</td>\n      <td>0.432099</td>\n      <td>Morning</td>\n      <td>2020</td>\n      <td>6</td>\n    </tr>\n    <tr>\n      <th>3</th>\n      <td>misc_pos</td>\n      <td>0.002594</td>\n      <td>1</td>\n      <td>0.187080</td>\n      <td>0.868312</td>\n      <td>0.018834</td>\n      <td>Set designer</td>\n      <td>2.990876e-06</td>\n      <td>0</td>\n      <td>32780, Titusville, FL</td>\n      <td>0.222222</td>\n      <td>Morning</td>\n      <td>2020</td>\n      <td>6</td>\n    </tr>\n    <tr>\n      <th>4</th>\n      <td>travel</td>\n      <td>0.000096</td>\n      <td>1</td>\n      <td>0.530537</td>\n      <td>0.825355</td>\n      <td>0.000379</td>\n      <td>Furniture designer</td>\n      <td>3.110511e-06</td>\n      <td>0</td>\n      <td>49632, Falmouth, MI</td>\n      <td>0.617284</td>\n      <td>Morning</td>\n      <td>2020</td>\n      <td>6</td>\n    </tr>\n    <tr>\n      <th>...</th>\n      <td>...</td>\n      <td>...</td>\n      <td>...</td>\n      <td>...</td>\n      <td>...</td>\n      <td>...</td>\n      <td>...</td>\n      <td>...</td>\n      <td>...</td>\n      <td>...</td>\n      <td>...</td>\n      <td>...</td>\n      <td>...</td>\n      <td>...</td>\n    </tr>\n    <tr>\n      <th>555714</th>\n      <td>health_fitness</td>\n      <td>0.001879</td>\n      <td>1</td>\n      <td>0.448199</td>\n      <td>0.755010</td>\n      <td>0.000171</td>\n      <td>Town planner</td>\n      <td>9.999984e-01</td>\n      <td>0</td>\n      <td>63453, Luray, MO</td>\n      <td>0.481481</td>\n      <td>Night</td>\n      <td>2020</td>\n      <td>12</td>\n    </tr>\n    <tr>\n      <th>555715</th>\n      <td>kids_pets</td>\n      <td>0.004868</td>\n      <td>1</td>\n      <td>0.197364</td>\n      <td>0.718694</td>\n      <td>0.009879</td>\n      <td>Futures trader</td>\n      <td>9.999985e-01</td>\n      <td>0</td>\n      <td>77566, Lake Jackson, TX</td>\n      <td>0.074074</td>\n      <td>Night</td>\n      <td>2020</td>\n      <td>12</td>\n    </tr>\n    <tr>\n      <th>555716</th>\n      <td>kids_pets</td>\n      <td>0.003772</td>\n      <td>0</td>\n      <td>0.573103</td>\n      <td>0.478609</td>\n      <td>0.001260</td>\n      <td>Musician</td>\n      <td>9.999989e-01</td>\n      <td>0</td>\n      <td>99323, Burbank, WA</td>\n      <td>0.296296</td>\n      <td>Night</td>\n      <td>2020</td>\n      <td>12</td>\n    </tr>\n    <tr>\n      <th>555717</th>\n      <td>travel</td>\n      <td>0.000307</td>\n      <td>1</td>\n      <td>0.538697</td>\n      <td>0.503704</td>\n      <td>0.000036</td>\n      <td>Cartographer</td>\n      <td>9.999994e-01</td>\n      <td>0</td>\n      <td>83643, Mesa, ID</td>\n      <td>0.493827</td>\n      <td>Night</td>\n      <td>2020</td>\n      <td>12</td>\n    </tr>\n    <tr>\n      <th>555718</th>\n      <td>entertainment</td>\n      <td>0.001631</td>\n      <td>1</td>\n      <td>0.342498</td>\n      <td>0.697821</td>\n      <td>0.039901</td>\n      <td>Media buyer</td>\n      <td>1.000000e+00</td>\n      <td>0</td>\n      <td>73034, Edmond, OK</td>\n      <td>0.148148</td>\n      <td>Night</td>\n      <td>2020</td>\n      <td>12</td>\n    </tr>\n  </tbody>\n</table>\n<p>555719 rows × 14 columns</p>\n</div>"
     },
     "metadata": {},
     "execution_count": 100
    }
   ],
   "source": [
    "nor_col = ['amt', 'city_pop','lat', 'long', 'unix_time', 'age']\n",
    "        \n",
    "df_test[nor_col] = df_test[nor_col].apply(lambda x: (x - x.min()) / (x.max() - x.min()))\n",
    "df_test"
   ]
  },
  {
   "cell_type": "code",
   "execution_count": 101,
   "metadata": {},
   "outputs": [
    {
     "output_type": "execute_result",
     "data": {
      "text/plain": [
       "         category       amt  is_male       lat      long  city_pop  \\\n",
       "0   personal_care  0.000082        1  0.305255  0.867121  0.114727   \n",
       "1   personal_care  0.001267        0  0.444423  0.565239  0.000096   \n",
       "2  health_fitness  0.001769        0  0.452136  0.942836  0.011860   \n",
       "3        misc_pos  0.002594        1  0.187080  0.868312  0.018834   \n",
       "4          travel  0.000096        1  0.530537  0.825355  0.000379   \n",
       "\n",
       "                      job     unix_time             state_city       age  \\\n",
       "0     Mechanical engineer  0.000000e+00    29209, Columbia, SC  0.456790   \n",
       "1  Sales professional, IT  4.785402e-07     84002, Altonah, UT  0.185185   \n",
       "2       Librarian, public  1.674891e-06    11710, Bellmore, NY  0.432099   \n",
       "3            Set designer  2.990876e-06  32780, Titusville, FL  0.222222   \n",
       "4      Furniture designer  3.110511e-06    49632, Falmouth, MI  0.617284   \n",
       "\n",
       "  trans_time  trans_year  trans_month  \n",
       "0    Morning        2020            6  \n",
       "1    Morning        2020            6  \n",
       "2    Morning        2020            6  \n",
       "3    Morning        2020            6  \n",
       "4    Morning        2020            6  "
      ],
      "text/html": "<div>\n<style scoped>\n    .dataframe tbody tr th:only-of-type {\n        vertical-align: middle;\n    }\n\n    .dataframe tbody tr th {\n        vertical-align: top;\n    }\n\n    .dataframe thead th {\n        text-align: right;\n    }\n</style>\n<table border=\"1\" class=\"dataframe\">\n  <thead>\n    <tr style=\"text-align: right;\">\n      <th></th>\n      <th>category</th>\n      <th>amt</th>\n      <th>is_male</th>\n      <th>lat</th>\n      <th>long</th>\n      <th>city_pop</th>\n      <th>job</th>\n      <th>unix_time</th>\n      <th>state_city</th>\n      <th>age</th>\n      <th>trans_time</th>\n      <th>trans_year</th>\n      <th>trans_month</th>\n    </tr>\n  </thead>\n  <tbody>\n    <tr>\n      <th>0</th>\n      <td>personal_care</td>\n      <td>0.000082</td>\n      <td>1</td>\n      <td>0.305255</td>\n      <td>0.867121</td>\n      <td>0.114727</td>\n      <td>Mechanical engineer</td>\n      <td>0.000000e+00</td>\n      <td>29209, Columbia, SC</td>\n      <td>0.456790</td>\n      <td>Morning</td>\n      <td>2020</td>\n      <td>6</td>\n    </tr>\n    <tr>\n      <th>1</th>\n      <td>personal_care</td>\n      <td>0.001267</td>\n      <td>0</td>\n      <td>0.444423</td>\n      <td>0.565239</td>\n      <td>0.000096</td>\n      <td>Sales professional, IT</td>\n      <td>4.785402e-07</td>\n      <td>84002, Altonah, UT</td>\n      <td>0.185185</td>\n      <td>Morning</td>\n      <td>2020</td>\n      <td>6</td>\n    </tr>\n    <tr>\n      <th>2</th>\n      <td>health_fitness</td>\n      <td>0.001769</td>\n      <td>0</td>\n      <td>0.452136</td>\n      <td>0.942836</td>\n      <td>0.011860</td>\n      <td>Librarian, public</td>\n      <td>1.674891e-06</td>\n      <td>11710, Bellmore, NY</td>\n      <td>0.432099</td>\n      <td>Morning</td>\n      <td>2020</td>\n      <td>6</td>\n    </tr>\n    <tr>\n      <th>3</th>\n      <td>misc_pos</td>\n      <td>0.002594</td>\n      <td>1</td>\n      <td>0.187080</td>\n      <td>0.868312</td>\n      <td>0.018834</td>\n      <td>Set designer</td>\n      <td>2.990876e-06</td>\n      <td>32780, Titusville, FL</td>\n      <td>0.222222</td>\n      <td>Morning</td>\n      <td>2020</td>\n      <td>6</td>\n    </tr>\n    <tr>\n      <th>4</th>\n      <td>travel</td>\n      <td>0.000096</td>\n      <td>1</td>\n      <td>0.530537</td>\n      <td>0.825355</td>\n      <td>0.000379</td>\n      <td>Furniture designer</td>\n      <td>3.110511e-06</td>\n      <td>49632, Falmouth, MI</td>\n      <td>0.617284</td>\n      <td>Morning</td>\n      <td>2020</td>\n      <td>6</td>\n    </tr>\n  </tbody>\n</table>\n</div>"
     },
     "metadata": {},
     "execution_count": 101
    }
   ],
   "source": [
    "X_test = df_test[features]\n",
    "X_test.head()"
   ]
  },
  {
   "cell_type": "code",
   "execution_count": 102,
   "metadata": {},
   "outputs": [
    {
     "output_type": "execute_result",
     "data": {
      "text/plain": [
       "0    0\n",
       "1    0\n",
       "2    0\n",
       "3    0\n",
       "4    0\n",
       "Name: is_fraud, dtype: int64"
      ]
     },
     "metadata": {},
     "execution_count": 102
    }
   ],
   "source": [
    "y_test = df_test[label]\n",
    "y_test.head()"
   ]
  },
  {
   "source": [
    "<h2>Predicting each tree"
   ],
   "cell_type": "markdown",
   "metadata": {}
  },
  {
   "cell_type": "code",
   "execution_count": 103,
   "metadata": {},
   "outputs": [],
   "source": [
    "ypred_of_tree = []"
   ]
  },
  {
   "cell_type": "code",
   "execution_count": 108,
   "metadata": {
    "tags": []
   },
   "outputs": [
    {
     "output_type": "stream",
     "name": "stdout",
     "text": [
      "=================================================== Current Tree: 0 ==================================================================\n",
      "category value personal_care\n",
      "category\n",
      "store_dict length: 7\n",
      "amt value less_than_mean\n",
      "is_male value 1\n",
      "is_male\n",
      "store_dict length: 8\n"
     ]
    },
    {
     "output_type": "error",
     "ename": "KeyError",
     "evalue": "'lat'",
     "traceback": [
      "\u001b[1;31m---------------------------------------------------------------------------\u001b[0m",
      "\u001b[1;31mKeyError\u001b[0m                                  Traceback (most recent call last)",
      "\u001b[1;32m~\\AppData\\Roaming\\Python\\Python39\\site-packages\\pandas\\core\\indexes\\base.py\u001b[0m in \u001b[0;36mget_loc\u001b[1;34m(self, key, method, tolerance)\u001b[0m\n\u001b[0;32m   3079\u001b[0m             \u001b[1;32mtry\u001b[0m\u001b[1;33m:\u001b[0m\u001b[1;33m\u001b[0m\u001b[1;33m\u001b[0m\u001b[0m\n\u001b[1;32m-> 3080\u001b[1;33m                 \u001b[1;32mreturn\u001b[0m \u001b[0mself\u001b[0m\u001b[1;33m.\u001b[0m\u001b[0m_engine\u001b[0m\u001b[1;33m.\u001b[0m\u001b[0mget_loc\u001b[0m\u001b[1;33m(\u001b[0m\u001b[0mcasted_key\u001b[0m\u001b[1;33m)\u001b[0m\u001b[1;33m\u001b[0m\u001b[1;33m\u001b[0m\u001b[0m\n\u001b[0m\u001b[0;32m   3081\u001b[0m             \u001b[1;32mexcept\u001b[0m \u001b[0mKeyError\u001b[0m \u001b[1;32mas\u001b[0m \u001b[0merr\u001b[0m\u001b[1;33m:\u001b[0m\u001b[1;33m\u001b[0m\u001b[1;33m\u001b[0m\u001b[0m\n",
      "\u001b[1;32mpandas\\_libs\\index.pyx\u001b[0m in \u001b[0;36mpandas._libs.index.IndexEngine.get_loc\u001b[1;34m()\u001b[0m\n",
      "\u001b[1;32mpandas\\_libs\\index.pyx\u001b[0m in \u001b[0;36mpandas._libs.index.IndexEngine.get_loc\u001b[1;34m()\u001b[0m\n",
      "\u001b[1;32mpandas\\_libs\\hashtable_class_helper.pxi\u001b[0m in \u001b[0;36mpandas._libs.hashtable.PyObjectHashTable.get_item\u001b[1;34m()\u001b[0m\n",
      "\u001b[1;32mpandas\\_libs\\hashtable_class_helper.pxi\u001b[0m in \u001b[0;36mpandas._libs.hashtable.PyObjectHashTable.get_item\u001b[1;34m()\u001b[0m\n",
      "\u001b[1;31mKeyError\u001b[0m: 'lat'",
      "\nThe above exception was the direct cause of the following exception:\n",
      "\u001b[1;31mKeyError\u001b[0m                                  Traceback (most recent call last)",
      "\u001b[1;32m<ipython-input-108-5aebb91e4bf8>\u001b[0m in \u001b[0;36m<module>\u001b[1;34m\u001b[0m\n\u001b[0;32m      2\u001b[0m     \u001b[0mprint\u001b[0m\u001b[1;33m(\u001b[0m\u001b[1;34m'=================================================== Current Tree:'\u001b[0m\u001b[1;33m,\u001b[0m \u001b[0mtree\u001b[0m\u001b[1;33m,\u001b[0m\u001b[1;34m'=================================================================='\u001b[0m\u001b[1;33m)\u001b[0m\u001b[1;33m\u001b[0m\u001b[1;33m\u001b[0m\u001b[0m\n\u001b[0;32m      3\u001b[0m     ypred_of_tree.append(\n\u001b[1;32m----> 4\u001b[1;33m         desicion_tree_predictor(\n\u001b[0m\u001b[0;32m      5\u001b[0m             \u001b[0mX\u001b[0m\u001b[1;33m=\u001b[0m\u001b[0mX_test\u001b[0m\u001b[1;33m,\u001b[0m\u001b[1;33m\u001b[0m\u001b[1;33m\u001b[0m\u001b[0m\n\u001b[0;32m      6\u001b[0m             \u001b[0mtrain\u001b[0m\u001b[1;33m=\u001b[0m\u001b[0mdf_list\u001b[0m\u001b[1;33m[\u001b[0m\u001b[0mtree\u001b[0m\u001b[1;33m]\u001b[0m\u001b[1;33m,\u001b[0m\u001b[1;33m\u001b[0m\u001b[1;33m\u001b[0m\u001b[0m\n",
      "\u001b[1;32m<ipython-input-106-982243cd5f12>\u001b[0m in \u001b[0;36mdesicion_tree_predictor\u001b[1;34m(X, train, features, store_prob_dict)\u001b[0m\n\u001b[0;32m      5\u001b[0m     \u001b[0mx_features\u001b[0m \u001b[1;33m=\u001b[0m \u001b[0mX\u001b[0m\u001b[1;33m.\u001b[0m\u001b[0mloc\u001b[0m\u001b[1;33m[\u001b[0m\u001b[1;33m:\u001b[0m\u001b[1;33m,\u001b[0m \u001b[0mX\u001b[0m\u001b[1;33m.\u001b[0m\u001b[0mcolumns\u001b[0m \u001b[1;33m!=\u001b[0m \u001b[0mlabel\u001b[0m\u001b[1;33m]\u001b[0m\u001b[1;33m.\u001b[0m\u001b[0mcolumns\u001b[0m\u001b[1;33m.\u001b[0m\u001b[0mtolist\u001b[0m\u001b[1;33m(\u001b[0m\u001b[1;33m)\u001b[0m\u001b[1;33m\u001b[0m\u001b[1;33m\u001b[0m\u001b[0m\n\u001b[0;32m      6\u001b[0m     \u001b[0mx_list\u001b[0m \u001b[1;33m=\u001b[0m \u001b[0mX\u001b[0m\u001b[1;33m.\u001b[0m\u001b[0mvalues\u001b[0m\u001b[1;33m.\u001b[0m\u001b[0mtolist\u001b[0m\u001b[1;33m(\u001b[0m\u001b[1;33m)\u001b[0m\u001b[1;33m\u001b[0m\u001b[1;33m\u001b[0m\u001b[0m\n\u001b[1;32m----> 7\u001b[1;33m     \u001b[1;32mreturn\u001b[0m \u001b[1;33m[\u001b[0m\u001b[0mrow_desicion_tree_predictor\u001b[0m\u001b[1;33m(\u001b[0m\u001b[0mrow\u001b[0m\u001b[1;33m,\u001b[0m \u001b[0mfeatures\u001b[0m\u001b[1;33m,\u001b[0m \u001b[0mtrain\u001b[0m\u001b[1;33m,\u001b[0m \u001b[0mstore_prob_dict\u001b[0m\u001b[1;33m,\u001b[0m \u001b[0mx_features\u001b[0m\u001b[1;33m)\u001b[0m \u001b[1;32mfor\u001b[0m \u001b[0mrow\u001b[0m \u001b[1;32min\u001b[0m \u001b[0mx_list\u001b[0m\u001b[1;33m]\u001b[0m\u001b[1;33m\u001b[0m\u001b[1;33m\u001b[0m\u001b[0m\n\u001b[0m",
      "\u001b[1;32m<ipython-input-106-982243cd5f12>\u001b[0m in \u001b[0;36m<listcomp>\u001b[1;34m(.0)\u001b[0m\n\u001b[0;32m      5\u001b[0m     \u001b[0mx_features\u001b[0m \u001b[1;33m=\u001b[0m \u001b[0mX\u001b[0m\u001b[1;33m.\u001b[0m\u001b[0mloc\u001b[0m\u001b[1;33m[\u001b[0m\u001b[1;33m:\u001b[0m\u001b[1;33m,\u001b[0m \u001b[0mX\u001b[0m\u001b[1;33m.\u001b[0m\u001b[0mcolumns\u001b[0m \u001b[1;33m!=\u001b[0m \u001b[0mlabel\u001b[0m\u001b[1;33m]\u001b[0m\u001b[1;33m.\u001b[0m\u001b[0mcolumns\u001b[0m\u001b[1;33m.\u001b[0m\u001b[0mtolist\u001b[0m\u001b[1;33m(\u001b[0m\u001b[1;33m)\u001b[0m\u001b[1;33m\u001b[0m\u001b[1;33m\u001b[0m\u001b[0m\n\u001b[0;32m      6\u001b[0m     \u001b[0mx_list\u001b[0m \u001b[1;33m=\u001b[0m \u001b[0mX\u001b[0m\u001b[1;33m.\u001b[0m\u001b[0mvalues\u001b[0m\u001b[1;33m.\u001b[0m\u001b[0mtolist\u001b[0m\u001b[1;33m(\u001b[0m\u001b[1;33m)\u001b[0m\u001b[1;33m\u001b[0m\u001b[1;33m\u001b[0m\u001b[0m\n\u001b[1;32m----> 7\u001b[1;33m     \u001b[1;32mreturn\u001b[0m \u001b[1;33m[\u001b[0m\u001b[0mrow_desicion_tree_predictor\u001b[0m\u001b[1;33m(\u001b[0m\u001b[0mrow\u001b[0m\u001b[1;33m,\u001b[0m \u001b[0mfeatures\u001b[0m\u001b[1;33m,\u001b[0m \u001b[0mtrain\u001b[0m\u001b[1;33m,\u001b[0m \u001b[0mstore_prob_dict\u001b[0m\u001b[1;33m,\u001b[0m \u001b[0mx_features\u001b[0m\u001b[1;33m)\u001b[0m \u001b[1;32mfor\u001b[0m \u001b[0mrow\u001b[0m \u001b[1;32min\u001b[0m \u001b[0mx_list\u001b[0m\u001b[1;33m]\u001b[0m\u001b[1;33m\u001b[0m\u001b[1;33m\u001b[0m\u001b[0m\n\u001b[0m",
      "\u001b[1;32m<ipython-input-107-cd64a0006132>\u001b[0m in \u001b[0;36mrow_desicion_tree_predictor\u001b[1;34m(an_row, features, df, store_prob_dict, x_features)\u001b[0m\n\u001b[0;32m      6\u001b[0m     \u001b[1;31m#in case x_features lenght is more than df features\u001b[0m\u001b[1;33m\u001b[0m\u001b[1;33m\u001b[0m\u001b[1;33m\u001b[0m\u001b[0m\n\u001b[0;32m      7\u001b[0m     \u001b[1;32mfor\u001b[0m \u001b[0mi\u001b[0m\u001b[1;33m,\u001b[0m \u001b[0mfeature\u001b[0m \u001b[1;32min\u001b[0m \u001b[0menumerate\u001b[0m\u001b[1;33m(\u001b[0m\u001b[0mx_features\u001b[0m\u001b[1;33m)\u001b[0m\u001b[1;33m:\u001b[0m\u001b[1;33m\u001b[0m\u001b[1;33m\u001b[0m\u001b[0m\n\u001b[1;32m----> 8\u001b[1;33m         \u001b[0mpoint\u001b[0m \u001b[1;33m=\u001b[0m \u001b[0mextract_feature_point\u001b[0m\u001b[1;33m(\u001b[0m\u001b[0mfeature\u001b[0m\u001b[1;33m,\u001b[0m \u001b[0man_row\u001b[0m\u001b[1;33m[\u001b[0m\u001b[0mi\u001b[0m\u001b[1;33m]\u001b[0m\u001b[1;33m,\u001b[0m \u001b[0mdf\u001b[0m\u001b[1;33m,\u001b[0m \u001b[0mstore_prob_dict\u001b[0m\u001b[1;33m)\u001b[0m\u001b[1;33m\u001b[0m\u001b[1;33m\u001b[0m\u001b[0m\n\u001b[0m\u001b[0;32m      9\u001b[0m         \u001b[0mnot_fraud\u001b[0m\u001b[1;33m.\u001b[0m\u001b[0mappend\u001b[0m\u001b[1;33m(\u001b[0m\u001b[0mpoint\u001b[0m\u001b[1;33m[\u001b[0m\u001b[1;36m0\u001b[0m\u001b[1;33m]\u001b[0m\u001b[1;33m)\u001b[0m\u001b[1;33m\u001b[0m\u001b[1;33m\u001b[0m\u001b[0m\n\u001b[0;32m     10\u001b[0m         \u001b[0mfraud\u001b[0m\u001b[1;33m.\u001b[0m\u001b[0mappend\u001b[0m\u001b[1;33m(\u001b[0m\u001b[0mpoint\u001b[0m\u001b[1;33m[\u001b[0m\u001b[1;36m1\u001b[0m\u001b[1;33m]\u001b[0m\u001b[1;33m)\u001b[0m\u001b[1;33m\u001b[0m\u001b[1;33m\u001b[0m\u001b[0m\n",
      "\u001b[1;32m<ipython-input-21-92198c8381ce>\u001b[0m in \u001b[0;36mextract_feature_point\u001b[1;34m(feature, value, df, store_prob_dict)\u001b[0m\n\u001b[0;32m      2\u001b[0m     \u001b[1;31m#check type\u001b[0m\u001b[1;33m\u001b[0m\u001b[1;33m\u001b[0m\u001b[1;33m\u001b[0m\u001b[0m\n\u001b[0;32m      3\u001b[0m     \u001b[1;32mif\u001b[0m \u001b[0mtype\u001b[0m\u001b[1;33m(\u001b[0m\u001b[0mvalue\u001b[0m\u001b[1;33m)\u001b[0m \u001b[1;33m!=\u001b[0m \u001b[0mstr\u001b[0m \u001b[1;32mand\u001b[0m \u001b[0mfeature\u001b[0m \u001b[1;32mnot\u001b[0m \u001b[1;32min\u001b[0m \u001b[1;33m[\u001b[0m\u001b[1;34m'is_male'\u001b[0m\u001b[1;33m,\u001b[0m \u001b[1;34m'trans_year'\u001b[0m\u001b[1;33m,\u001b[0m \u001b[1;34m'trans_month'\u001b[0m\u001b[1;33m]\u001b[0m\u001b[1;33m:\u001b[0m\u001b[1;33m\u001b[0m\u001b[1;33m\u001b[0m\u001b[0m\n\u001b[1;32m----> 4\u001b[1;33m         \u001b[0mmean_val\u001b[0m \u001b[1;33m=\u001b[0m \u001b[0mdf\u001b[0m\u001b[1;33m[\u001b[0m\u001b[0mfeature\u001b[0m\u001b[1;33m]\u001b[0m\u001b[1;33m.\u001b[0m\u001b[0mmean\u001b[0m\u001b[1;33m(\u001b[0m\u001b[1;33m)\u001b[0m\u001b[1;33m\u001b[0m\u001b[1;33m\u001b[0m\u001b[0m\n\u001b[0m\u001b[0;32m      5\u001b[0m         \u001b[1;32mif\u001b[0m \u001b[0mvalue\u001b[0m \u001b[1;33m>=\u001b[0m \u001b[0mmean_val\u001b[0m\u001b[1;33m:\u001b[0m\u001b[1;33m\u001b[0m\u001b[1;33m\u001b[0m\u001b[0m\n\u001b[0;32m      6\u001b[0m             \u001b[0mvalue\u001b[0m \u001b[1;33m=\u001b[0m \u001b[1;34m'greater_than_eq_mean'\u001b[0m\u001b[1;33m\u001b[0m\u001b[1;33m\u001b[0m\u001b[0m\n",
      "\u001b[1;32m~\\AppData\\Roaming\\Python\\Python39\\site-packages\\pandas\\core\\frame.py\u001b[0m in \u001b[0;36m__getitem__\u001b[1;34m(self, key)\u001b[0m\n\u001b[0;32m   3022\u001b[0m             \u001b[1;32mif\u001b[0m \u001b[0mself\u001b[0m\u001b[1;33m.\u001b[0m\u001b[0mcolumns\u001b[0m\u001b[1;33m.\u001b[0m\u001b[0mnlevels\u001b[0m \u001b[1;33m>\u001b[0m \u001b[1;36m1\u001b[0m\u001b[1;33m:\u001b[0m\u001b[1;33m\u001b[0m\u001b[1;33m\u001b[0m\u001b[0m\n\u001b[0;32m   3023\u001b[0m                 \u001b[1;32mreturn\u001b[0m \u001b[0mself\u001b[0m\u001b[1;33m.\u001b[0m\u001b[0m_getitem_multilevel\u001b[0m\u001b[1;33m(\u001b[0m\u001b[0mkey\u001b[0m\u001b[1;33m)\u001b[0m\u001b[1;33m\u001b[0m\u001b[1;33m\u001b[0m\u001b[0m\n\u001b[1;32m-> 3024\u001b[1;33m             \u001b[0mindexer\u001b[0m \u001b[1;33m=\u001b[0m \u001b[0mself\u001b[0m\u001b[1;33m.\u001b[0m\u001b[0mcolumns\u001b[0m\u001b[1;33m.\u001b[0m\u001b[0mget_loc\u001b[0m\u001b[1;33m(\u001b[0m\u001b[0mkey\u001b[0m\u001b[1;33m)\u001b[0m\u001b[1;33m\u001b[0m\u001b[1;33m\u001b[0m\u001b[0m\n\u001b[0m\u001b[0;32m   3025\u001b[0m             \u001b[1;32mif\u001b[0m \u001b[0mis_integer\u001b[0m\u001b[1;33m(\u001b[0m\u001b[0mindexer\u001b[0m\u001b[1;33m)\u001b[0m\u001b[1;33m:\u001b[0m\u001b[1;33m\u001b[0m\u001b[1;33m\u001b[0m\u001b[0m\n\u001b[0;32m   3026\u001b[0m                 \u001b[0mindexer\u001b[0m \u001b[1;33m=\u001b[0m \u001b[1;33m[\u001b[0m\u001b[0mindexer\u001b[0m\u001b[1;33m]\u001b[0m\u001b[1;33m\u001b[0m\u001b[1;33m\u001b[0m\u001b[0m\n",
      "\u001b[1;32m~\\AppData\\Roaming\\Python\\Python39\\site-packages\\pandas\\core\\indexes\\base.py\u001b[0m in \u001b[0;36mget_loc\u001b[1;34m(self, key, method, tolerance)\u001b[0m\n\u001b[0;32m   3080\u001b[0m                 \u001b[1;32mreturn\u001b[0m \u001b[0mself\u001b[0m\u001b[1;33m.\u001b[0m\u001b[0m_engine\u001b[0m\u001b[1;33m.\u001b[0m\u001b[0mget_loc\u001b[0m\u001b[1;33m(\u001b[0m\u001b[0mcasted_key\u001b[0m\u001b[1;33m)\u001b[0m\u001b[1;33m\u001b[0m\u001b[1;33m\u001b[0m\u001b[0m\n\u001b[0;32m   3081\u001b[0m             \u001b[1;32mexcept\u001b[0m \u001b[0mKeyError\u001b[0m \u001b[1;32mas\u001b[0m \u001b[0merr\u001b[0m\u001b[1;33m:\u001b[0m\u001b[1;33m\u001b[0m\u001b[1;33m\u001b[0m\u001b[0m\n\u001b[1;32m-> 3082\u001b[1;33m                 \u001b[1;32mraise\u001b[0m \u001b[0mKeyError\u001b[0m\u001b[1;33m(\u001b[0m\u001b[0mkey\u001b[0m\u001b[1;33m)\u001b[0m \u001b[1;32mfrom\u001b[0m \u001b[0merr\u001b[0m\u001b[1;33m\u001b[0m\u001b[1;33m\u001b[0m\u001b[0m\n\u001b[0m\u001b[0;32m   3083\u001b[0m \u001b[1;33m\u001b[0m\u001b[0m\n\u001b[0;32m   3084\u001b[0m         \u001b[1;32mif\u001b[0m \u001b[0mtolerance\u001b[0m \u001b[1;32mis\u001b[0m \u001b[1;32mnot\u001b[0m \u001b[1;32mNone\u001b[0m\u001b[1;33m:\u001b[0m\u001b[1;33m\u001b[0m\u001b[1;33m\u001b[0m\u001b[0m\n",
      "\u001b[1;31mKeyError\u001b[0m: 'lat'"
     ]
    }
   ],
   "source": [
    "for tree in range(n_subset):\n",
    "    print('=================================================== Current Tree:', tree,'==================================================================')\n",
    "    ypred_of_tree.append(\n",
    "        desicion_tree_predictor(\n",
    "            X=X_test,\n",
    "            train=df_list[tree],\n",
    "            features=df_list[tree].loc[:, df_list[tree].columns != label].columns.tolist(),\n",
    "            store_prob_dict=store_prob_dict_list[tree]\n",
    "        )\n",
    "    )\n",
    "    print('===================================================== Done Tree:', tree,'==================================================================')\n",
    "ypred_of_tree"
   ]
  }
 ],
 "metadata": {
  "kernelspec": {
   "name": "python3",
   "display_name": "Python 3.9.1 64-bit",
   "metadata": {
    "interpreter": {
     "hash": "ac59ebe37160ed0dfa835113d9b8498d9f09ceb179beaac4002f036b9467c963"
    }
   }
  },
  "language_info": {
   "codemirror_mode": {
    "name": "ipython",
    "version": 3
   },
   "file_extension": ".py",
   "mimetype": "text/x-python",
   "name": "python",
   "nbconvert_exporter": "python",
   "pygments_lexer": "ipython3",
   "version": "3.9.1-final"
  }
 },
 "nbformat": 4,
 "nbformat_minor": 5
}