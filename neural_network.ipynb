{
 "cells": [
  {
   "cell_type": "markdown",
   "id": "spiritual-things",
   "metadata": {},
   "source": [
    "<h1>Neural_Network"
   ]
  },
  {
   "cell_type": "code",
   "execution_count": 2,
   "id": "accessible-antibody",
   "metadata": {},
   "outputs": [],
   "source": [
    "import pandas as pd\n",
    "import numpy as np\n",
    "pd.set_option('display.max_columns', 500)"
   ]
  },
  {
   "cell_type": "code",
   "execution_count": 3,
   "id": "parliamentary-cambodia",
   "metadata": {},
   "outputs": [
    {
     "output_type": "stream",
     "name": "stdout",
     "text": [
      "(1296675, 14)\n"
     ]
    },
    {
     "output_type": "execute_result",
     "data": {
      "text/plain": [
       "        category     amt  is_male      lat      long  city_pop  \\\n",
       "0       misc_net    4.97        0  36.0788  -81.1781      3495   \n",
       "1    grocery_pos  107.23        0  48.8878 -118.2105       149   \n",
       "2  entertainment  220.11        1  42.1808 -112.2620      4154   \n",
       "3  gas_transport   45.00        1  46.2306 -112.1138      1939   \n",
       "4       misc_pos   41.96        1  38.4207  -79.4629        99   \n",
       "\n",
       "                                 job   unix_time  is_fraud  \\\n",
       "0          Psychologist, counselling  1325376018         0   \n",
       "1  Special educational needs teacher  1325376044         0   \n",
       "2        Nature conservation officer  1325376051         0   \n",
       "3                    Patent attorney  1325376076         0   \n",
       "4     Dance movement psychotherapist  1325376186         0   \n",
       "\n",
       "                  state_city  age  trans_time  trans_year  trans_month  \n",
       "0  28654, Moravian Falls, NC   31  Late Night        2019            1  \n",
       "1          99160, Orient, WA   41  Late Night        2019            1  \n",
       "2      83252, Malad City, ID   57  Late Night        2019            1  \n",
       "3         59632, Boulder, MT   52  Late Night        2019            1  \n",
       "4        24433, Doe Hill, VA   33  Late Night        2019            1  "
      ],
      "text/html": "<div>\n<style scoped>\n    .dataframe tbody tr th:only-of-type {\n        vertical-align: middle;\n    }\n\n    .dataframe tbody tr th {\n        vertical-align: top;\n    }\n\n    .dataframe thead th {\n        text-align: right;\n    }\n</style>\n<table border=\"1\" class=\"dataframe\">\n  <thead>\n    <tr style=\"text-align: right;\">\n      <th></th>\n      <th>category</th>\n      <th>amt</th>\n      <th>is_male</th>\n      <th>lat</th>\n      <th>long</th>\n      <th>city_pop</th>\n      <th>job</th>\n      <th>unix_time</th>\n      <th>is_fraud</th>\n      <th>state_city</th>\n      <th>age</th>\n      <th>trans_time</th>\n      <th>trans_year</th>\n      <th>trans_month</th>\n    </tr>\n  </thead>\n  <tbody>\n    <tr>\n      <th>0</th>\n      <td>misc_net</td>\n      <td>4.97</td>\n      <td>0</td>\n      <td>36.0788</td>\n      <td>-81.1781</td>\n      <td>3495</td>\n      <td>Psychologist, counselling</td>\n      <td>1325376018</td>\n      <td>0</td>\n      <td>28654, Moravian Falls, NC</td>\n      <td>31</td>\n      <td>Late Night</td>\n      <td>2019</td>\n      <td>1</td>\n    </tr>\n    <tr>\n      <th>1</th>\n      <td>grocery_pos</td>\n      <td>107.23</td>\n      <td>0</td>\n      <td>48.8878</td>\n      <td>-118.2105</td>\n      <td>149</td>\n      <td>Special educational needs teacher</td>\n      <td>1325376044</td>\n      <td>0</td>\n      <td>99160, Orient, WA</td>\n      <td>41</td>\n      <td>Late Night</td>\n      <td>2019</td>\n      <td>1</td>\n    </tr>\n    <tr>\n      <th>2</th>\n      <td>entertainment</td>\n      <td>220.11</td>\n      <td>1</td>\n      <td>42.1808</td>\n      <td>-112.2620</td>\n      <td>4154</td>\n      <td>Nature conservation officer</td>\n      <td>1325376051</td>\n      <td>0</td>\n      <td>83252, Malad City, ID</td>\n      <td>57</td>\n      <td>Late Night</td>\n      <td>2019</td>\n      <td>1</td>\n    </tr>\n    <tr>\n      <th>3</th>\n      <td>gas_transport</td>\n      <td>45.00</td>\n      <td>1</td>\n      <td>46.2306</td>\n      <td>-112.1138</td>\n      <td>1939</td>\n      <td>Patent attorney</td>\n      <td>1325376076</td>\n      <td>0</td>\n      <td>59632, Boulder, MT</td>\n      <td>52</td>\n      <td>Late Night</td>\n      <td>2019</td>\n      <td>1</td>\n    </tr>\n    <tr>\n      <th>4</th>\n      <td>misc_pos</td>\n      <td>41.96</td>\n      <td>1</td>\n      <td>38.4207</td>\n      <td>-79.4629</td>\n      <td>99</td>\n      <td>Dance movement psychotherapist</td>\n      <td>1325376186</td>\n      <td>0</td>\n      <td>24433, Doe Hill, VA</td>\n      <td>33</td>\n      <td>Late Night</td>\n      <td>2019</td>\n      <td>1</td>\n    </tr>\n  </tbody>\n</table>\n</div>"
     },
     "metadata": {},
     "execution_count": 3
    }
   ],
   "source": [
    "filename = 'cleaned_fraudTrain.csv'\n",
    "# import Dataset\n",
    "path = '../dataset/midterm_dataset/'+filename\n",
    "df = pd.read_csv(path)\n",
    "\n",
    "row_num = df.shape[0]\n",
    "feature_num = df.shape[1]\n",
    "\n",
    "print(df.shape)\n",
    "df.head()"
   ]
  },
  {
   "source": [
    "<h2> Normalize"
   ],
   "cell_type": "markdown",
   "metadata": {}
  },
  {
   "cell_type": "code",
   "execution_count": 4,
   "id": "incorrect-webmaster",
   "metadata": {},
   "outputs": [],
   "source": [
    "nor_col = ['amt', 'city_pop','lat', 'long', 'unix_time', 'age']\n",
    "        \n",
    "df[nor_col] = df[nor_col].apply(lambda x: (x - x.min()) / (x.max() - x.min()))"
   ]
  },
  {
   "cell_type": "code",
   "execution_count": 5,
   "metadata": {},
   "outputs": [
    {
     "output_type": "execute_result",
     "data": {
      "text/plain": [
       "              category       amt  is_male       lat      long  city_pop  \\\n",
       "0             misc_net  0.000137        0  0.343968  0.864638  0.001194   \n",
       "1          grocery_pos  0.003670        0  0.618450  0.485682  0.000043   \n",
       "2        entertainment  0.007569        1  0.474727  0.546553  0.001421   \n",
       "3        gas_transport  0.001520        1  0.561509  0.548070  0.000659   \n",
       "4             misc_pos  0.001415        1  0.394153  0.882190  0.000026   \n",
       "...                ...       ...      ...       ...       ...       ...   \n",
       "1296670  entertainment  0.000503        1  0.379084  0.544346  0.000081   \n",
       "1296671    food_dining  0.001751        1  0.412281  0.902174  0.000026   \n",
       "1296672    food_dining  0.003625        1  0.276699  0.612486  0.000301   \n",
       "1296673    food_dining  0.002553        1  0.499837  0.646029  0.000379   \n",
       "1296674    food_dining  0.000114        1  0.553210  0.530050  0.000067   \n",
       "\n",
       "                                       job     unix_time  is_fraud  \\\n",
       "0                Psychologist, counselling  0.000000e+00         0   \n",
       "1        Special educational needs teacher  5.598526e-07         0   \n",
       "2              Nature conservation officer  7.105821e-07         0   \n",
       "3                          Patent attorney  1.248902e-06         0   \n",
       "4           Dance movement psychotherapist  3.617509e-06         0   \n",
       "...                                    ...           ...       ...   \n",
       "1296670                       Geoscientist  9.999981e-01         0   \n",
       "1296671   Production assistant, television  9.999983e-01         0   \n",
       "1296672                    Naval architect  9.999986e-01         0   \n",
       "1296673              Volunteer coordinator  1.000000e+00         0   \n",
       "1296674           Therapist, horticultural  1.000000e+00         0   \n",
       "\n",
       "                                  state_city       age  trans_time  \\\n",
       "0                  28654, Moravian Falls, NC  0.207317  Late Night   \n",
       "1                          99160, Orient, WA  0.329268  Late Night   \n",
       "2                      83252, Malad City, ID  0.524390  Late Night   \n",
       "3                         59632, Boulder, MT  0.463415  Late Night   \n",
       "4                        24433, Doe Hill, VA  0.231707  Late Night   \n",
       "...                                      ...       ...         ...   \n",
       "1296670                     84735, Hatch, UT  0.548780     Morning   \n",
       "1296671                 21790, Tuscarora, MD  0.329268     Morning   \n",
       "1296672  88325, High Rolls Mountain Park, NM  0.475610     Morning   \n",
       "1296673                 57756, Manderson, SD  0.317073     Morning   \n",
       "1296674                      59871, Sula, MT  0.134146     Morning   \n",
       "\n",
       "         trans_year  trans_month  \n",
       "0              2019            1  \n",
       "1              2019            1  \n",
       "2              2019            1  \n",
       "3              2019            1  \n",
       "4              2019            1  \n",
       "...             ...          ...  \n",
       "1296670        2020            6  \n",
       "1296671        2020            6  \n",
       "1296672        2020            6  \n",
       "1296673        2020            6  \n",
       "1296674        2020            6  \n",
       "\n",
       "[1296675 rows x 14 columns]"
      ],
      "text/html": "<div>\n<style scoped>\n    .dataframe tbody tr th:only-of-type {\n        vertical-align: middle;\n    }\n\n    .dataframe tbody tr th {\n        vertical-align: top;\n    }\n\n    .dataframe thead th {\n        text-align: right;\n    }\n</style>\n<table border=\"1\" class=\"dataframe\">\n  <thead>\n    <tr style=\"text-align: right;\">\n      <th></th>\n      <th>category</th>\n      <th>amt</th>\n      <th>is_male</th>\n      <th>lat</th>\n      <th>long</th>\n      <th>city_pop</th>\n      <th>job</th>\n      <th>unix_time</th>\n      <th>is_fraud</th>\n      <th>state_city</th>\n      <th>age</th>\n      <th>trans_time</th>\n      <th>trans_year</th>\n      <th>trans_month</th>\n    </tr>\n  </thead>\n  <tbody>\n    <tr>\n      <th>0</th>\n      <td>misc_net</td>\n      <td>0.000137</td>\n      <td>0</td>\n      <td>0.343968</td>\n      <td>0.864638</td>\n      <td>0.001194</td>\n      <td>Psychologist, counselling</td>\n      <td>0.000000e+00</td>\n      <td>0</td>\n      <td>28654, Moravian Falls, NC</td>\n      <td>0.207317</td>\n      <td>Late Night</td>\n      <td>2019</td>\n      <td>1</td>\n    </tr>\n    <tr>\n      <th>1</th>\n      <td>grocery_pos</td>\n      <td>0.003670</td>\n      <td>0</td>\n      <td>0.618450</td>\n      <td>0.485682</td>\n      <td>0.000043</td>\n      <td>Special educational needs teacher</td>\n      <td>5.598526e-07</td>\n      <td>0</td>\n      <td>99160, Orient, WA</td>\n      <td>0.329268</td>\n      <td>Late Night</td>\n      <td>2019</td>\n      <td>1</td>\n    </tr>\n    <tr>\n      <th>2</th>\n      <td>entertainment</td>\n      <td>0.007569</td>\n      <td>1</td>\n      <td>0.474727</td>\n      <td>0.546553</td>\n      <td>0.001421</td>\n      <td>Nature conservation officer</td>\n      <td>7.105821e-07</td>\n      <td>0</td>\n      <td>83252, Malad City, ID</td>\n      <td>0.524390</td>\n      <td>Late Night</td>\n      <td>2019</td>\n      <td>1</td>\n    </tr>\n    <tr>\n      <th>3</th>\n      <td>gas_transport</td>\n      <td>0.001520</td>\n      <td>1</td>\n      <td>0.561509</td>\n      <td>0.548070</td>\n      <td>0.000659</td>\n      <td>Patent attorney</td>\n      <td>1.248902e-06</td>\n      <td>0</td>\n      <td>59632, Boulder, MT</td>\n      <td>0.463415</td>\n      <td>Late Night</td>\n      <td>2019</td>\n      <td>1</td>\n    </tr>\n    <tr>\n      <th>4</th>\n      <td>misc_pos</td>\n      <td>0.001415</td>\n      <td>1</td>\n      <td>0.394153</td>\n      <td>0.882190</td>\n      <td>0.000026</td>\n      <td>Dance movement psychotherapist</td>\n      <td>3.617509e-06</td>\n      <td>0</td>\n      <td>24433, Doe Hill, VA</td>\n      <td>0.231707</td>\n      <td>Late Night</td>\n      <td>2019</td>\n      <td>1</td>\n    </tr>\n    <tr>\n      <th>...</th>\n      <td>...</td>\n      <td>...</td>\n      <td>...</td>\n      <td>...</td>\n      <td>...</td>\n      <td>...</td>\n      <td>...</td>\n      <td>...</td>\n      <td>...</td>\n      <td>...</td>\n      <td>...</td>\n      <td>...</td>\n      <td>...</td>\n      <td>...</td>\n    </tr>\n    <tr>\n      <th>1296670</th>\n      <td>entertainment</td>\n      <td>0.000503</td>\n      <td>1</td>\n      <td>0.379084</td>\n      <td>0.544346</td>\n      <td>0.000081</td>\n      <td>Geoscientist</td>\n      <td>9.999981e-01</td>\n      <td>0</td>\n      <td>84735, Hatch, UT</td>\n      <td>0.548780</td>\n      <td>Morning</td>\n      <td>2020</td>\n      <td>6</td>\n    </tr>\n    <tr>\n      <th>1296671</th>\n      <td>food_dining</td>\n      <td>0.001751</td>\n      <td>1</td>\n      <td>0.412281</td>\n      <td>0.902174</td>\n      <td>0.000026</td>\n      <td>Production assistant, television</td>\n      <td>9.999983e-01</td>\n      <td>0</td>\n      <td>21790, Tuscarora, MD</td>\n      <td>0.329268</td>\n      <td>Morning</td>\n      <td>2020</td>\n      <td>6</td>\n    </tr>\n    <tr>\n      <th>1296672</th>\n      <td>food_dining</td>\n      <td>0.003625</td>\n      <td>1</td>\n      <td>0.276699</td>\n      <td>0.612486</td>\n      <td>0.000301</td>\n      <td>Naval architect</td>\n      <td>9.999986e-01</td>\n      <td>0</td>\n      <td>88325, High Rolls Mountain Park, NM</td>\n      <td>0.475610</td>\n      <td>Morning</td>\n      <td>2020</td>\n      <td>6</td>\n    </tr>\n    <tr>\n      <th>1296673</th>\n      <td>food_dining</td>\n      <td>0.002553</td>\n      <td>1</td>\n      <td>0.499837</td>\n      <td>0.646029</td>\n      <td>0.000379</td>\n      <td>Volunteer coordinator</td>\n      <td>1.000000e+00</td>\n      <td>0</td>\n      <td>57756, Manderson, SD</td>\n      <td>0.317073</td>\n      <td>Morning</td>\n      <td>2020</td>\n      <td>6</td>\n    </tr>\n    <tr>\n      <th>1296674</th>\n      <td>food_dining</td>\n      <td>0.000114</td>\n      <td>1</td>\n      <td>0.553210</td>\n      <td>0.530050</td>\n      <td>0.000067</td>\n      <td>Therapist, horticultural</td>\n      <td>1.000000e+00</td>\n      <td>0</td>\n      <td>59871, Sula, MT</td>\n      <td>0.134146</td>\n      <td>Morning</td>\n      <td>2020</td>\n      <td>6</td>\n    </tr>\n  </tbody>\n</table>\n<p>1296675 rows × 14 columns</p>\n</div>"
     },
     "metadata": {},
     "execution_count": 5
    }
   ],
   "source": [
    "df"
   ]
  },
  {
   "cell_type": "code",
   "execution_count": 1,
   "metadata": {},
   "outputs": [
    {
     "output_type": "error",
     "ename": "NameError",
     "evalue": "name 'pd' is not defined",
     "traceback": [
      "\u001b[1;31m---------------------------------------------------------------------------\u001b[0m",
      "\u001b[1;31mNameError\u001b[0m                                 Traceback (most recent call last)",
      "\u001b[1;32m<ipython-input-1-d4e6deba3142>\u001b[0m in \u001b[0;36m<module>\u001b[1;34m\u001b[0m\n\u001b[1;32m----> 1\u001b[1;33m \u001b[0mdf\u001b[0m \u001b[1;33m=\u001b[0m \u001b[0mpd\u001b[0m\u001b[1;33m.\u001b[0m\u001b[0mget_dummies\u001b[0m\u001b[1;33m(\u001b[0m\u001b[0mdf\u001b[0m\u001b[1;33m,\u001b[0m \u001b[0mcolumns\u001b[0m\u001b[1;33m=\u001b[0m\u001b[1;33m[\u001b[0m\u001b[1;34m'category'\u001b[0m\u001b[1;33m,\u001b[0m \u001b[1;34m'trans_year'\u001b[0m\u001b[1;33m,\u001b[0m \u001b[1;34m'trans_month'\u001b[0m\u001b[1;33m,\u001b[0m \u001b[1;34m'trans_time'\u001b[0m\u001b[1;33m,\u001b[0m \u001b[1;34m'job'\u001b[0m\u001b[1;33m,\u001b[0m \u001b[1;34m'state_city'\u001b[0m\u001b[1;33m]\u001b[0m\u001b[1;33m)\u001b[0m\u001b[1;33m\u001b[0m\u001b[1;33m\u001b[0m\u001b[0m\n\u001b[0m\u001b[0;32m      2\u001b[0m \u001b[0mdf\u001b[0m\u001b[1;33m.\u001b[0m\u001b[0mhead\u001b[0m\u001b[1;33m(\u001b[0m\u001b[1;33m)\u001b[0m\u001b[1;33m\u001b[0m\u001b[1;33m\u001b[0m\u001b[0m\n",
      "\u001b[1;31mNameError\u001b[0m: name 'pd' is not defined"
     ]
    }
   ],
   "source": [
    "df = pd.get_dummies(df, columns=['category', 'trans_year', 'trans_month', 'trans_time', 'job', 'state_city'])\n",
    "df.head()"
   ]
  }
 ],
 "metadata": {
  "kernelspec": {
   "name": "python3",
   "display_name": "Python 3.9.1 64-bit",
   "metadata": {
    "interpreter": {
     "hash": "ac59ebe37160ed0dfa835113d9b8498d9f09ceb179beaac4002f036b9467c963"
    }
   }
  },
  "language_info": {
   "codemirror_mode": {
    "name": "ipython",
    "version": 3
   },
   "file_extension": ".py",
   "mimetype": "text/x-python",
   "name": "python",
   "nbconvert_exporter": "python",
   "pygments_lexer": "ipython3",
   "version": "3.9.1-final"
  }
 },
 "nbformat": 4,
 "nbformat_minor": 5
}